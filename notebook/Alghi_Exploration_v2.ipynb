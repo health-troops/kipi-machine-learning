{
 "cells": [
  {
   "cell_type": "markdown",
   "metadata": {
    "id": "4VRLU6UVCC7X"
   },
   "source": [
    "# Alghi Exploration Scripts\n",
    "\n",
    "Helloow it's me\n",
    "\n",
    "### Table of Contents\n",
    "\n",
    "<ol>\n",
    "    <li>\n",
    "        <a href=\"#Alghi-Exploration-Scripts\">Introduction</a></li>\n",
    "        <ol>\n",
    "            <li><a href=\"#Run-this-for-Collab\">Run this for Collab</a></li>\n",
    "            <li><a href=\"#Run-this-for-Local-Notebook\">Run this for Local Notebook</a></li>\n",
    "        </ol>\n",
    "    </li>\n",
    "    <li>\n",
    "        <a href=\"#VAERS---Data-Exploration\">VAERS NLP Data Exploration</a>\n",
    "        <ol>\n",
    "            <li><a href=\"#Model-Building\">Model Building</a></li>\n",
    "            <li><a href=\"#Transfer-Learning\">Transfer Learning</a></li>\n",
    "            <li><a href=\"#No-Transfer-Learning\">No Transfer Learning</a></li>\n",
    "        </ol>\n",
    "    </li>\n",
    "    <li>\n",
    "        <a>(WIP) VAERS NLP Data Deployment</a>\n",
    "    </li>\n",
    "    <li>\n",
    "        <a href=\"#Covid-19-Symptoms\">Covid-19 Symptoms Data Exploration</a>\n",
    "    </li>\n",
    "</ol>"
   ]
  },
  {
   "cell_type": "code",
   "execution_count": 2,
   "metadata": {
    "colab": {
     "base_uri": "https://localhost:8080/"
    },
    "id": "O1eA-TtACC7Z",
    "outputId": "c067c4f6-6078-48c9-b44b-59be7080555b"
   },
   "outputs": [
    {
     "name": "stdout",
     "output_type": "stream",
     "text": [
      "2.4.1\n"
     ]
    }
   ],
   "source": [
    "import pandas as pd\n",
    "import numpy as np\n",
    "import plotly.offline as py\n",
    "import matplotlib.pyplot as plt\n",
    "import seaborn as sns\n",
    "import scipy.stats as scp\n",
    "import random\n",
    "\n",
    "from pandas.api.types import is_string_dtype\n",
    "from pandas.api.types import is_numeric_dtype\n",
    "\n",
    "from sklearn.preprocessing import LabelEncoder, Normalizer, StandardScaler, MinMaxScaler, scale\n",
    "from sklearn.model_selection import train_test_split\n",
    "from sklearn.linear_model import Ridge, RidgeCV, Lasso, LassoCV, LinearRegression\n",
    "from sklearn.metrics import mean_squared_error\n",
    "from sklearn.metrics import mean_absolute_error\n",
    "from sklearn.metrics import r2_score\n",
    "\n",
    "import statsmodels.api as sm\n",
    "\n",
    "import tensorflow as tf\n",
    "import tensorflow_hub as hub\n",
    "\n",
    "from tensorflow.keras.preprocessing.text import Tokenizer\n",
    "from tensorflow.keras.preprocessing.sequence import pad_sequences\n",
    "\n",
    "print(tf.__version__)"
   ]
  },
  {
   "cell_type": "code",
   "execution_count": 3,
   "metadata": {
    "colab": {
     "base_uri": "https://localhost:8080/",
     "height": 955
    },
    "id": "sW4jwMFv4UmY",
    "outputId": "302c43a0-4899-409b-e366-e8d1d56eab2c"
   },
   "outputs": [],
   "source": [
    "# Kalau perlu install dulu\n",
    "# !pip install tensorflowjs"
   ]
  },
  {
   "cell_type": "markdown",
   "metadata": {
    "id": "Mhrwxy8lCC7a"
   },
   "source": [
    "### Run this for Collab"
   ]
  },
  {
   "cell_type": "code",
   "execution_count": 3,
   "metadata": {
    "colab": {
     "base_uri": "https://localhost:8080/"
    },
    "id": "rT1lw4g-CC7a",
    "outputId": "9e95f4bb-d5bd-4c9b-efcf-6dc8ce6a1c7b"
   },
   "outputs": [
    {
     "name": "stdout",
     "output_type": "stream",
     "text": [
      "Mounted at /content/drive\n"
     ]
    }
   ],
   "source": [
    "from google.colab import drive\n",
    "drive.mount('/content/drive')"
   ]
  },
  {
   "cell_type": "code",
   "execution_count": 2,
   "metadata": {
    "colab": {
     "base_uri": "https://localhost:8080/",
     "height": 221
    },
    "id": "SrPIEsUHE2ZP",
    "outputId": "30fc936b-29cf-4854-e871-521986ac9c30"
   },
   "outputs": [
    {
     "data": {
      "text/plain": [
       "Index(['VAERS_ID', 'RECVDATE', 'STATE', 'AGE_YRS', 'CAGE_YR', 'CAGE_MO', 'SEX',\n",
       "       'RPT_DATE', 'SYMPTOM_TEXT', 'DIED', 'DATEDIED', 'L_THREAT', 'ER_VISIT',\n",
       "       'HOSPITAL', 'HOSPDAYS', 'X_STAY', 'DISABLE', 'RECOVD', 'VAX_DATE',\n",
       "       'ONSET_DATE', 'NUMDAYS', 'LAB_DATA', 'V_ADMINBY', 'V_FUNDBY',\n",
       "       'OTHER_MEDS', 'CUR_ILL', 'HISTORY', 'PRIOR_VAX', 'SPLTTYPE',\n",
       "       'FORM_VERS', 'TODAYS_DATE', 'BIRTH_DEFECT', 'OFC_VISIT', 'ER_ED_VISIT',\n",
       "       'ALLERGIES'],\n",
       "      dtype='object')"
      ]
     },
     "metadata": {
      "tags": []
     },
     "output_type": "display_data"
    },
    {
     "data": {
      "text/plain": [
       "Index(['VAERS_ID', 'SYMPTOM1', 'SYMPTOMVERSION1', 'SYMPTOM2',\n",
       "       'SYMPTOMVERSION2', 'SYMPTOM3', 'SYMPTOMVERSION3', 'SYMPTOM4',\n",
       "       'SYMPTOMVERSION4', 'SYMPTOM5', 'SYMPTOMVERSION5'],\n",
       "      dtype='object')"
      ]
     },
     "metadata": {
      "tags": []
     },
     "output_type": "display_data"
    }
   ],
   "source": [
    "# Collab 1\n",
    "vaers_df = pd.read_csv(filepath_or_buffer='/content/drive/MyDrive/Colab Notebooks/data/VAERS/2021VAERSDATA.csv', sep=',', encoding = \"ISO-8859-1\", dtype={\n",
    "    'RPT_DATE': str,\n",
    "    'ER_VISIT': str,\n",
    "    'V_FUNDBY': str,\n",
    "    'SYMPTOM_TEXT': str\n",
    "})\n",
    "display(vaers_df.columns)\n",
    "vaers_sym = pd.read_csv(filepath_or_buffer='/content/drive/MyDrive/Colab Notebooks/data/VAERS/2021VAERSSYMPTOMS.csv', sep=',', encoding = \"ISO-8859-1\")\n",
    "display(vaers_sym.columns)"
   ]
  },
  {
   "cell_type": "code",
   "execution_count": null,
   "metadata": {
    "colab": {
     "base_uri": "https://localhost:8080/",
     "height": 221
    },
    "id": "I7_B37XiCC7a",
    "outputId": "761bca17-7605-4790-cc2f-70c305ffc7e3"
   },
   "outputs": [
    {
     "data": {
      "text/plain": [
       "Index(['VAERS_ID', 'RECVDATE', 'STATE', 'AGE_YRS', 'CAGE_YR', 'CAGE_MO', 'SEX',\n",
       "       'RPT_DATE', 'SYMPTOM_TEXT', 'DIED', 'DATEDIED', 'L_THREAT', 'ER_VISIT',\n",
       "       'HOSPITAL', 'HOSPDAYS', 'X_STAY', 'DISABLE', 'RECOVD', 'VAX_DATE',\n",
       "       'ONSET_DATE', 'NUMDAYS', 'LAB_DATA', 'V_ADMINBY', 'V_FUNDBY',\n",
       "       'OTHER_MEDS', 'CUR_ILL', 'HISTORY', 'PRIOR_VAX', 'SPLTTYPE',\n",
       "       'FORM_VERS', 'TODAYS_DATE', 'BIRTH_DEFECT', 'OFC_VISIT', 'ER_ED_VISIT',\n",
       "       'ALLERGIES'],\n",
       "      dtype='object')"
      ]
     },
     "metadata": {
      "tags": []
     },
     "output_type": "display_data"
    },
    {
     "data": {
      "text/plain": [
       "Index(['VAERS_ID', 'SYMPTOM1', 'SYMPTOMVERSION1', 'SYMPTOM2',\n",
       "       'SYMPTOMVERSION2', 'SYMPTOM3', 'SYMPTOMVERSION3', 'SYMPTOM4',\n",
       "       'SYMPTOMVERSION4', 'SYMPTOM5', 'SYMPTOMVERSION5'],\n",
       "      dtype='object')"
      ]
     },
     "metadata": {
      "tags": []
     },
     "output_type": "display_data"
    }
   ],
   "source": [
    "# Collab 2\n",
    "vaers_df = pd.read_csv(filepath_or_buffer='/content/drive/MyDrive/Bangkit Capstone Project Team/Notebooks/2021VAERSData/2021VAERSDATA.csv', sep=',', encoding = \"ISO-8859-1\", dtype={\n",
    "    'RPT_DATE': str,\n",
    "    'ER_VISIT': str,\n",
    "    'V_FUNDBY': str,\n",
    "    'SYMPTOM_TEXT': str\n",
    "})\n",
    "display(vaers_df.columns)\n",
    "vaers_sym = pd.read_csv(filepath_or_buffer='/content/drive/MyDrive/Bangkit Capstone Project Team/Notebooks/2021VAERSData/2021VAERSSYMPTOMS.csv', sep=',', encoding = \"ISO-8859-1\")\n",
    "display(vaers_sym.columns)"
   ]
  },
  {
   "cell_type": "markdown",
   "metadata": {
    "id": "IQ2LiDSKCC7b"
   },
   "source": [
    "### Run this for Local Notebook"
   ]
  },
  {
   "cell_type": "code",
   "execution_count": 4,
   "metadata": {
    "id": "7YBvpuVWCC7b",
    "outputId": "3caca876-137b-4418-9d99-4c00f3acf7af"
   },
   "outputs": [
    {
     "data": {
      "text/plain": [
       "Index(['VAERS_ID', 'RECVDATE', 'STATE', 'AGE_YRS', 'CAGE_YR', 'CAGE_MO', 'SEX',\n",
       "       'RPT_DATE', 'SYMPTOM_TEXT', 'DIED', 'DATEDIED', 'L_THREAT', 'ER_VISIT',\n",
       "       'HOSPITAL', 'HOSPDAYS', 'X_STAY', 'DISABLE', 'RECOVD', 'VAX_DATE',\n",
       "       'ONSET_DATE', 'NUMDAYS', 'LAB_DATA', 'V_ADMINBY', 'V_FUNDBY',\n",
       "       'OTHER_MEDS', 'CUR_ILL', 'HISTORY', 'PRIOR_VAX', 'SPLTTYPE',\n",
       "       'FORM_VERS', 'TODAYS_DATE', 'BIRTH_DEFECT', 'OFC_VISIT', 'ER_ED_VISIT',\n",
       "       'ALLERGIES'],\n",
       "      dtype='object')"
      ]
     },
     "metadata": {},
     "output_type": "display_data"
    },
    {
     "data": {
      "text/plain": [
       "Index(['VAERS_ID', 'SYMPTOM1', 'SYMPTOMVERSION1', 'SYMPTOM2',\n",
       "       'SYMPTOMVERSION2', 'SYMPTOM3', 'SYMPTOMVERSION3', 'SYMPTOM4',\n",
       "       'SYMPTOMVERSION4', 'SYMPTOM5', 'SYMPTOMVERSION5'],\n",
       "      dtype='object')"
      ]
     },
     "metadata": {},
     "output_type": "display_data"
    }
   ],
   "source": [
    "vaers_df = pd.read_csv(filepath_or_buffer='../data/raw/VAERS/2021VAERSDATA.csv', sep=',', encoding = \"ISO-8859-1\", dtype={\n",
    "    'RPT_DATE': str,\n",
    "    'ER_VISIT': str,\n",
    "    'V_FUNDBY': str,\n",
    "    'SYMPTOM_TEXT': str\n",
    "})\n",
    "display(vaers_df.columns)\n",
    "vaers_sym = pd.read_csv(filepath_or_buffer='../data/raw/VAERS/2021VAERSSYMPTOMS.csv', sep=',', encoding = \"ISO-8859-1\")\n",
    "display(vaers_sym.columns)"
   ]
  },
  {
   "cell_type": "markdown",
   "metadata": {
    "id": "lA-62CjCCC7c"
   },
   "source": [
    "# VAERS - Data Exploration"
   ]
  },
  {
   "cell_type": "code",
   "execution_count": 5,
   "metadata": {
    "colab": {
     "base_uri": "https://localhost:8080/"
    },
    "id": "0SX7flgDCC7c",
    "outputId": "581b94e8-9184-4e43-9706-a6dd68262f52"
   },
   "outputs": [
    {
     "name": "stdout",
     "output_type": "stream",
     "text": [
      "(108191, 35)\n"
     ]
    }
   ],
   "source": [
    "print(vaers_df.shape)"
   ]
  },
  {
   "cell_type": "code",
   "execution_count": 6,
   "metadata": {
    "colab": {
     "base_uri": "https://localhost:8080/"
    },
    "id": "Ylkliiwxpi2Z",
    "outputId": "e85f1429-f624-433a-fc3d-8ca9387cf69a"
   },
   "outputs": [
    {
     "data": {
      "text/plain": [
       "(108191,)"
      ]
     },
     "execution_count": 6,
     "metadata": {
      "tags": []
     },
     "output_type": "execute_result"
    }
   ],
   "source": [
    "vaers_df['VAERS_ID'].unique().shape"
   ]
  },
  {
   "cell_type": "markdown",
   "metadata": {
    "id": "kwoIGv3LCC7d"
   },
   "source": [
    "### Column Descriptions\n",
    "\n",
    "Refer to VAERSDataUseGuide_November2020.pdf."
   ]
  },
  {
   "cell_type": "markdown",
   "metadata": {
    "id": "OOBa0FuBCC7d"
   },
   "source": [
    "Sample 1:"
   ]
  },
  {
   "cell_type": "code",
   "execution_count": null,
   "metadata": {
    "colab": {
     "base_uri": "https://localhost:8080/"
    },
    "id": "K0Dj0dK6CC7d",
    "outputId": "62d6fa51-66bb-4cd7-e8cf-13357aa91d38"
   },
   "outputs": [
    {
     "data": {
      "text/plain": [
       "VAERS_ID                                                   916600\n",
       "RECVDATE                                               01/01/2021\n",
       "STATE                                                          TX\n",
       "AGE_YRS                                                        33\n",
       "CAGE_YR                                                        33\n",
       "CAGE_MO                                                       NaN\n",
       "SEX                                                             F\n",
       "RPT_DATE                                                      NaN\n",
       "SYMPTOM_TEXT    Right side of epiglottis swelled up and hinder...\n",
       "DIED                                                          NaN\n",
       "DATEDIED                                                      NaN\n",
       "L_THREAT                                                      NaN\n",
       "ER_VISIT                                                      NaN\n",
       "HOSPITAL                                                      NaN\n",
       "HOSPDAYS                                                      NaN\n",
       "X_STAY                                                        NaN\n",
       "DISABLE                                                       NaN\n",
       "RECOVD                                                          Y\n",
       "VAX_DATE                                               12/28/2020\n",
       "ONSET_DATE                                             12/30/2020\n",
       "NUMDAYS                                                         2\n",
       "LAB_DATA                                                     None\n",
       "V_ADMINBY                                                     PVT\n",
       "V_FUNDBY                                                      NaN\n",
       "OTHER_MEDS                                                   None\n",
       "CUR_ILL                                                      None\n",
       "HISTORY                                                      None\n",
       "PRIOR_VAX                                                     NaN\n",
       "SPLTTYPE                                                      NaN\n",
       "FORM_VERS                                                       2\n",
       "TODAYS_DATE                                            01/01/2021\n",
       "BIRTH_DEFECT                                                  NaN\n",
       "OFC_VISIT                                                       Y\n",
       "ER_ED_VISIT                                                   NaN\n",
       "ALLERGIES                                       Pcn and bee venom\n",
       "Name: 0, dtype: object"
      ]
     },
     "execution_count": 87,
     "metadata": {
      "tags": []
     },
     "output_type": "execute_result"
    }
   ],
   "source": [
    "vaers_df.iloc[0]"
   ]
  },
  {
   "cell_type": "code",
   "execution_count": null,
   "metadata": {
    "colab": {
     "base_uri": "https://localhost:8080/",
     "height": 35
    },
    "id": "9tbYZH-RCC7d",
    "outputId": "614a3b1e-14f8-4ba8-e48f-f881821156a6"
   },
   "outputs": [
    {
     "data": {
      "application/vnd.google.colaboratory.intrinsic+json": {
       "type": "string"
      },
      "text/plain": [
       "'Right side of epiglottis swelled up and hinder swallowing pictures taken Benadryl Tylenol taken'"
      ]
     },
     "execution_count": 88,
     "metadata": {
      "tags": []
     },
     "output_type": "execute_result"
    }
   ],
   "source": [
    "vaers_df.iloc[0]['SYMPTOM_TEXT']"
   ]
  },
  {
   "cell_type": "markdown",
   "metadata": {
    "id": "FjTeR8RVCC7e"
   },
   "source": [
    "Sample 2:"
   ]
  },
  {
   "cell_type": "code",
   "execution_count": null,
   "metadata": {
    "colab": {
     "base_uri": "https://localhost:8080/"
    },
    "id": "0KI2nCYxCC7e",
    "outputId": "35aaa94d-9e01-4b17-e2b8-0ecfef0a1bd4"
   },
   "outputs": [
    {
     "data": {
      "text/plain": [
       "VAERS_ID                                                   916603\n",
       "RECVDATE                                               01/01/2021\n",
       "STATE                                                          WA\n",
       "AGE_YRS                                                        58\n",
       "CAGE_YR                                                        58\n",
       "CAGE_MO                                                       NaN\n",
       "SEX                                                             F\n",
       "RPT_DATE                                                      NaN\n",
       "SYMPTOM_TEXT    extreme fatigue, dizziness,. could not lift my...\n",
       "DIED                                                          NaN\n",
       "DATEDIED                                                      NaN\n",
       "L_THREAT                                                      NaN\n",
       "ER_VISIT                                                      NaN\n",
       "HOSPITAL                                                      NaN\n",
       "HOSPDAYS                                                      NaN\n",
       "X_STAY                                                        NaN\n",
       "DISABLE                                                       NaN\n",
       "RECOVD                                                          Y\n",
       "VAX_DATE                                               12/23/2020\n",
       "ONSET_DATE                                             12/23/2020\n",
       "NUMDAYS                                                         0\n",
       "LAB_DATA                                                     none\n",
       "V_ADMINBY                                                     WRK\n",
       "V_FUNDBY                                                      NaN\n",
       "OTHER_MEDS                                                   none\n",
       "CUR_ILL                                          kidney infection\n",
       "HISTORY         diverticulitis, mitral valve prolapse, osteoar...\n",
       "PRIOR_VAX       got measles from measel shot, mums from mumps ...\n",
       "SPLTTYPE                                                      NaN\n",
       "FORM_VERS                                                       2\n",
       "TODAYS_DATE                                            01/01/2021\n",
       "BIRTH_DEFECT                                                  NaN\n",
       "OFC_VISIT                                                     NaN\n",
       "ER_ED_VISIT                                                   NaN\n",
       "ALLERGIES       Diclofenac, novacaine, lidocaine, pickles, tom...\n",
       "Name: 3, dtype: object"
      ]
     },
     "execution_count": 89,
     "metadata": {
      "tags": []
     },
     "output_type": "execute_result"
    }
   ],
   "source": [
    "vaers_df.iloc[3]"
   ]
  },
  {
   "cell_type": "code",
   "execution_count": null,
   "metadata": {
    "colab": {
     "base_uri": "https://localhost:8080/",
     "height": 35
    },
    "id": "H8jQnuP4CC7e",
    "outputId": "6e65a471-76d2-474a-922d-0793c39c3820"
   },
   "outputs": [
    {
     "data": {
      "application/vnd.google.colaboratory.intrinsic+json": {
       "type": "string"
      },
      "text/plain": [
       "'extreme fatigue, dizziness,. could not lift my left arm for 72 hours'"
      ]
     },
     "execution_count": 90,
     "metadata": {
      "tags": []
     },
     "output_type": "execute_result"
    }
   ],
   "source": [
    "vaers_df.iloc[3]['SYMPTOM_TEXT']"
   ]
  },
  {
   "cell_type": "code",
   "execution_count": null,
   "metadata": {
    "colab": {
     "base_uri": "https://localhost:8080/",
     "height": 35
    },
    "id": "YqwxUEhMCC7f",
    "outputId": "5913b830-01ad-4757-9eac-5e8a7156dc3c"
   },
   "outputs": [
    {
     "data": {
      "application/vnd.google.colaboratory.intrinsic+json": {
       "type": "string"
      },
      "text/plain": [
       "'diverticulitis, mitral valve prolapse, osteoarthritis'"
      ]
     },
     "execution_count": 91,
     "metadata": {
      "tags": []
     },
     "output_type": "execute_result"
    }
   ],
   "source": [
    "vaers_df.iloc[3]['HISTORY']"
   ]
  },
  {
   "cell_type": "code",
   "execution_count": null,
   "metadata": {
    "colab": {
     "base_uri": "https://localhost:8080/",
     "height": 35
    },
    "id": "0uu8HnhgCC7f",
    "outputId": "d68fdd18-ab62-49f2-e8c5-c3e02c59f9c4"
   },
   "outputs": [
    {
     "data": {
      "application/vnd.google.colaboratory.intrinsic+json": {
       "type": "string"
      },
      "text/plain": [
       "'got measles from measel shot, mums from mumps shot, headaches and nausea from flu shot'"
      ]
     },
     "execution_count": 92,
     "metadata": {
      "tags": []
     },
     "output_type": "execute_result"
    }
   ],
   "source": [
    "vaers_df.iloc[3]['PRIOR_VAX']"
   ]
  },
  {
   "cell_type": "markdown",
   "metadata": {
    "id": "bw0YvJyGCC7f"
   },
   "source": [
    "Sample 3:"
   ]
  },
  {
   "cell_type": "code",
   "execution_count": null,
   "metadata": {
    "id": "1pBNrLyzCC7g",
    "outputId": "f15bca67-5dff-43cc-8887-54c57121ea5f"
   },
   "outputs": [
    {
     "data": {
      "text/html": [
       "<div>\n",
       "<style scoped>\n",
       "    .dataframe tbody tr th:only-of-type {\n",
       "        vertical-align: middle;\n",
       "    }\n",
       "\n",
       "    .dataframe tbody tr th {\n",
       "        vertical-align: top;\n",
       "    }\n",
       "\n",
       "    .dataframe thead th {\n",
       "        text-align: right;\n",
       "    }\n",
       "</style>\n",
       "<table border=\"1\" class=\"dataframe\">\n",
       "  <thead>\n",
       "    <tr style=\"text-align: right;\">\n",
       "      <th></th>\n",
       "      <th>VAERS_ID</th>\n",
       "      <th>RECVDATE</th>\n",
       "      <th>STATE</th>\n",
       "      <th>AGE_YRS</th>\n",
       "      <th>CAGE_YR</th>\n",
       "      <th>CAGE_MO</th>\n",
       "      <th>SEX</th>\n",
       "      <th>RPT_DATE</th>\n",
       "      <th>SYMPTOM_TEXT</th>\n",
       "      <th>DIED</th>\n",
       "      <th>...</th>\n",
       "      <th>CUR_ILL</th>\n",
       "      <th>HISTORY</th>\n",
       "      <th>PRIOR_VAX</th>\n",
       "      <th>SPLTTYPE</th>\n",
       "      <th>FORM_VERS</th>\n",
       "      <th>TODAYS_DATE</th>\n",
       "      <th>BIRTH_DEFECT</th>\n",
       "      <th>OFC_VISIT</th>\n",
       "      <th>ER_ED_VISIT</th>\n",
       "      <th>ALLERGIES</th>\n",
       "    </tr>\n",
       "  </thead>\n",
       "  <tbody>\n",
       "    <tr>\n",
       "      <th>30</th>\n",
       "      <td>916632</td>\n",
       "      <td>01/01/2021</td>\n",
       "      <td>NaN</td>\n",
       "      <td>0.08</td>\n",
       "      <td>0.0</td>\n",
       "      <td>0.1</td>\n",
       "      <td>M</td>\n",
       "      <td>NaN</td>\n",
       "      <td>Baby had regular 6 week wellness check-up and ...</td>\n",
       "      <td>NaN</td>\n",
       "      <td>...</td>\n",
       "      <td>N/a</td>\n",
       "      <td>NaN</td>\n",
       "      <td>NaN</td>\n",
       "      <td>NaN</td>\n",
       "      <td>2</td>\n",
       "      <td>01/01/2021</td>\n",
       "      <td>NaN</td>\n",
       "      <td>NaN</td>\n",
       "      <td>Y</td>\n",
       "      <td>N/a</td>\n",
       "    </tr>\n",
       "    <tr>\n",
       "      <th>105</th>\n",
       "      <td>916710</td>\n",
       "      <td>01/01/2021</td>\n",
       "      <td>MO</td>\n",
       "      <td>23.00</td>\n",
       "      <td>23.0</td>\n",
       "      <td>NaN</td>\n",
       "      <td>F</td>\n",
       "      <td>NaN</td>\n",
       "      <td>Acute appendicitis, onset morning of 1/1/2021 ...</td>\n",
       "      <td>NaN</td>\n",
       "      <td>...</td>\n",
       "      <td>NaN</td>\n",
       "      <td>Hypothyroidism</td>\n",
       "      <td>NaN</td>\n",
       "      <td>NaN</td>\n",
       "      <td>2</td>\n",
       "      <td>01/01/2021</td>\n",
       "      <td>NaN</td>\n",
       "      <td>NaN</td>\n",
       "      <td>Y</td>\n",
       "      <td>NKDA</td>\n",
       "    </tr>\n",
       "    <tr>\n",
       "      <th>188</th>\n",
       "      <td>916803</td>\n",
       "      <td>01/01/2021</td>\n",
       "      <td>LA</td>\n",
       "      <td>78.00</td>\n",
       "      <td>78.0</td>\n",
       "      <td>NaN</td>\n",
       "      <td>M</td>\n",
       "      <td>NaN</td>\n",
       "      <td>respitory colase</td>\n",
       "      <td>Y</td>\n",
       "      <td>...</td>\n",
       "      <td>none</td>\n",
       "      <td>large T-cell lymphoma, HTN, Gout,  recieving t...</td>\n",
       "      <td>NaN</td>\n",
       "      <td>NaN</td>\n",
       "      <td>2</td>\n",
       "      <td>01/01/2021</td>\n",
       "      <td>NaN</td>\n",
       "      <td>NaN</td>\n",
       "      <td>NaN</td>\n",
       "      <td>N?A</td>\n",
       "    </tr>\n",
       "    <tr>\n",
       "      <th>193</th>\n",
       "      <td>916809</td>\n",
       "      <td>01/01/2021</td>\n",
       "      <td>WA</td>\n",
       "      <td>40.00</td>\n",
       "      <td>40.0</td>\n",
       "      <td>NaN</td>\n",
       "      <td>F</td>\n",
       "      <td>NaN</td>\n",
       "      <td>CAREGIVER RECEIVED FIRST VACCINE DOSE AND SOON...</td>\n",
       "      <td>NaN</td>\n",
       "      <td>...</td>\n",
       "      <td>None</td>\n",
       "      <td>NaN</td>\n",
       "      <td>NaN</td>\n",
       "      <td>NaN</td>\n",
       "      <td>2</td>\n",
       "      <td>01/01/2021</td>\n",
       "      <td>NaN</td>\n",
       "      <td>NaN</td>\n",
       "      <td>Y</td>\n",
       "      <td>None</td>\n",
       "    </tr>\n",
       "    <tr>\n",
       "      <th>218</th>\n",
       "      <td>916836</td>\n",
       "      <td>01/01/2021</td>\n",
       "      <td>MD</td>\n",
       "      <td>55.00</td>\n",
       "      <td>55.0</td>\n",
       "      <td>NaN</td>\n",
       "      <td>M</td>\n",
       "      <td>NaN</td>\n",
       "      <td>Patient is a 55 year old male with no past med...</td>\n",
       "      <td>NaN</td>\n",
       "      <td>...</td>\n",
       "      <td>Pt reported frequent urination for several months</td>\n",
       "      <td>None</td>\n",
       "      <td>NaN</td>\n",
       "      <td>NaN</td>\n",
       "      <td>2</td>\n",
       "      <td>01/01/2021</td>\n",
       "      <td>NaN</td>\n",
       "      <td>NaN</td>\n",
       "      <td>NaN</td>\n",
       "      <td>No known allergies</td>\n",
       "    </tr>\n",
       "  </tbody>\n",
       "</table>\n",
       "<p>5 rows × 35 columns</p>\n",
       "</div>"
      ],
      "text/plain": [
       "     VAERS_ID    RECVDATE STATE  AGE_YRS  CAGE_YR  CAGE_MO SEX RPT_DATE  \\\n",
       "30     916632  01/01/2021   NaN     0.08      0.0      0.1   M      NaN   \n",
       "105    916710  01/01/2021    MO    23.00     23.0      NaN   F      NaN   \n",
       "188    916803  01/01/2021    LA    78.00     78.0      NaN   M      NaN   \n",
       "193    916809  01/01/2021    WA    40.00     40.0      NaN   F      NaN   \n",
       "218    916836  01/01/2021    MD    55.00     55.0      NaN   M      NaN   \n",
       "\n",
       "                                          SYMPTOM_TEXT DIED  ...  \\\n",
       "30   Baby had regular 6 week wellness check-up and ...  NaN  ...   \n",
       "105  Acute appendicitis, onset morning of 1/1/2021 ...  NaN  ...   \n",
       "188                                   respitory colase    Y  ...   \n",
       "193  CAREGIVER RECEIVED FIRST VACCINE DOSE AND SOON...  NaN  ...   \n",
       "218  Patient is a 55 year old male with no past med...  NaN  ...   \n",
       "\n",
       "                                               CUR_ILL  \\\n",
       "30                                                 N/a   \n",
       "105                                                NaN   \n",
       "188                                               none   \n",
       "193                                               None   \n",
       "218  Pt reported frequent urination for several months   \n",
       "\n",
       "                                               HISTORY PRIOR_VAX SPLTTYPE  \\\n",
       "30                                                 NaN       NaN      NaN   \n",
       "105                                     Hypothyroidism       NaN      NaN   \n",
       "188  large T-cell lymphoma, HTN, Gout,  recieving t...       NaN      NaN   \n",
       "193                                                NaN       NaN      NaN   \n",
       "218                                               None       NaN      NaN   \n",
       "\n",
       "     FORM_VERS TODAYS_DATE BIRTH_DEFECT OFC_VISIT ER_ED_VISIT  \\\n",
       "30           2  01/01/2021          NaN       NaN           Y   \n",
       "105          2  01/01/2021          NaN       NaN           Y   \n",
       "188          2  01/01/2021          NaN       NaN         NaN   \n",
       "193          2  01/01/2021          NaN       NaN           Y   \n",
       "218          2  01/01/2021          NaN       NaN         NaN   \n",
       "\n",
       "              ALLERGIES  \n",
       "30                  N/a  \n",
       "105                NKDA  \n",
       "188                 N?A  \n",
       "193                None  \n",
       "218  No known allergies  \n",
       "\n",
       "[5 rows x 35 columns]"
      ]
     },
     "execution_count": 10,
     "metadata": {
      "tags": []
     },
     "output_type": "execute_result"
    }
   ],
   "source": [
    "vaers_df[vaers_df['HOSPITAL'] == 'Y'].head()"
   ]
  },
  {
   "cell_type": "code",
   "execution_count": null,
   "metadata": {
    "id": "922jk10bCC7g",
    "outputId": "f1414488-0aab-4ab1-d6aa-4e79a1b54864"
   },
   "outputs": [
    {
     "data": {
      "text/plain": [
       "VAERS_ID                                                   916632\n",
       "RECVDATE                                               01/01/2021\n",
       "STATE                                                         NaN\n",
       "AGE_YRS                                                      0.08\n",
       "CAGE_YR                                                         0\n",
       "CAGE_MO                                                       0.1\n",
       "SEX                                                             M\n",
       "RPT_DATE                                                      NaN\n",
       "SYMPTOM_TEXT    Baby had regular 6 week wellness check-up and ...\n",
       "DIED                                                          NaN\n",
       "DATEDIED                                                      NaN\n",
       "L_THREAT                                                        Y\n",
       "ER_VISIT                                                      NaN\n",
       "HOSPITAL                                                        Y\n",
       "HOSPDAYS                                                      NaN\n",
       "X_STAY                                                        NaN\n",
       "DISABLE                                                       NaN\n",
       "RECOVD                                                          Y\n",
       "VAX_DATE                                               07/01/1994\n",
       "ONSET_DATE                                             07/01/1994\n",
       "NUMDAYS                                                         0\n",
       "LAB_DATA        Many test were done at the hospital and doctor...\n",
       "V_ADMINBY                                                     PVT\n",
       "V_FUNDBY                                                      NaN\n",
       "OTHER_MEDS                                                    N/a\n",
       "CUR_ILL                                                       N/a\n",
       "HISTORY                                                       NaN\n",
       "PRIOR_VAX                                                     NaN\n",
       "SPLTTYPE                                                      NaN\n",
       "FORM_VERS                                                       2\n",
       "TODAYS_DATE                                            01/01/2021\n",
       "BIRTH_DEFECT                                                  NaN\n",
       "OFC_VISIT                                                     NaN\n",
       "ER_ED_VISIT                                                     Y\n",
       "ALLERGIES                                                     N/a\n",
       "Name: 30, dtype: object"
      ]
     },
     "execution_count": 11,
     "metadata": {
      "tags": []
     },
     "output_type": "execute_result"
    }
   ],
   "source": [
    "vaers_df.iloc[30]"
   ]
  },
  {
   "cell_type": "code",
   "execution_count": null,
   "metadata": {
    "id": "OJChfHLcCC7g",
    "outputId": "c5681f3f-0b26-4755-bd5e-e4ec8710ac12",
    "scrolled": true
   },
   "outputs": [
    {
     "data": {
      "text/plain": [
       "'Baby had regular 6 week wellness check-up and received all reccomended vaccinations for 6 week old baby.   Straight after vaccination baby went to sleep, he then woke up 1 hour after with a screaming cry as if something was terribly wrong,  he then started vomiting uncontrollably (like a water fountain) and was in and out of consciousness, very lethargic, breathing started to reduce drastically, baby was floppy. Baby was handed to paramedics and rushed to emergency.    After event of vaccine reaction, doctors encouraged to continue with vaccinations,  baby was continuously in and out of hospital, suffered from stomach problems/pain as a todler and would notice todler seeking anything cold, usually resulting to lying down on stomach  on the cold floor because stomach was always burning hot. He would vomit regularly, suffer from regular nose bleeds for no apparent reason, behavioural/anger issues were displayed, headaches, asthma, and dry skin.'"
      ]
     },
     "execution_count": 12,
     "metadata": {
      "tags": []
     },
     "output_type": "execute_result"
    }
   ],
   "source": [
    "vaers_df.iloc[30]['SYMPTOM_TEXT']"
   ]
  },
  {
   "cell_type": "code",
   "execution_count": null,
   "metadata": {
    "id": "jkXA3TyeCC7g",
    "outputId": "b13bac97-425a-47e7-f037-78b4b9ef4a0d"
   },
   "outputs": [
    {
     "data": {
      "text/plain": [
       "100092"
      ]
     },
     "execution_count": 13,
     "metadata": {
      "tags": []
     },
     "output_type": "execute_result"
    }
   ],
   "source": [
    "vaers_df['HOSPITAL'].isna().sum()"
   ]
  },
  {
   "cell_type": "code",
   "execution_count": null,
   "metadata": {
    "id": "PDNJP6tcCC7h",
    "outputId": "9635d8c6-cde0-4fc4-bd0a-ee9b7e76ea9b"
   },
   "outputs": [
    {
     "data": {
      "text/plain": [
       "array([nan, 'Y'], dtype=object)"
      ]
     },
     "execution_count": 14,
     "metadata": {
      "tags": []
     },
     "output_type": "execute_result"
    }
   ],
   "source": [
    "vaers_df['HOSPITAL'].unique()"
   ]
  },
  {
   "cell_type": "code",
   "execution_count": null,
   "metadata": {
    "id": "31XyTxmbCC7h",
    "outputId": "aba8a139-0cee-4bcc-a836-1e5fa16ab894"
   },
   "outputs": [
    {
     "data": {
      "text/plain": [
       "108176"
      ]
     },
     "execution_count": 15,
     "metadata": {
      "tags": []
     },
     "output_type": "execute_result"
    }
   ],
   "source": [
    "vaers_df['ER_VISIT'].isna().sum()"
   ]
  },
  {
   "cell_type": "code",
   "execution_count": null,
   "metadata": {
    "id": "eY1XsEbfCC7h",
    "outputId": "d1edad9e-14c5-4602-a9d9-06d9139310b7"
   },
   "outputs": [
    {
     "data": {
      "text/plain": [
       "array([nan, 'Y'], dtype=object)"
      ]
     },
     "execution_count": 16,
     "metadata": {
      "tags": []
     },
     "output_type": "execute_result"
    }
   ],
   "source": [
    "vaers_df['ER_VISIT'].unique()"
   ]
  },
  {
   "cell_type": "code",
   "execution_count": null,
   "metadata": {
    "id": "CThSKldaCC7i",
    "outputId": "25264d3f-9cd1-4ba7-a432-34933fd079a5"
   },
   "outputs": [
    {
     "data": {
      "text/plain": [
       "90360"
      ]
     },
     "execution_count": 17,
     "metadata": {
      "tags": []
     },
     "output_type": "execute_result"
    }
   ],
   "source": [
    "vaers_df['OFC_VISIT'].isna().sum()"
   ]
  },
  {
   "cell_type": "code",
   "execution_count": null,
   "metadata": {
    "id": "5OuH5ZV5CC7i",
    "outputId": "1683c56a-9422-4e63-e5b8-b1817c040d99"
   },
   "outputs": [
    {
     "data": {
      "text/plain": [
       "array(['Y', nan], dtype=object)"
      ]
     },
     "execution_count": 18,
     "metadata": {
      "tags": []
     },
     "output_type": "execute_result"
    }
   ],
   "source": [
    "vaers_df['OFC_VISIT'].unique()"
   ]
  },
  {
   "cell_type": "code",
   "execution_count": null,
   "metadata": {
    "id": "Q2hEVAPCCC7i",
    "outputId": "182d6674-6ade-4a48-ea74-cf70519e592d"
   },
   "outputs": [
    {
     "data": {
      "text/plain": [
       "93638"
      ]
     },
     "execution_count": 19,
     "metadata": {
      "tags": []
     },
     "output_type": "execute_result"
    }
   ],
   "source": [
    "vaers_df['ER_ED_VISIT'].isna().sum()"
   ]
  },
  {
   "cell_type": "code",
   "execution_count": null,
   "metadata": {
    "id": "_RhHc8bXCC7i",
    "outputId": "4469ae49-1c18-4497-f130-a016c86f23cd"
   },
   "outputs": [
    {
     "data": {
      "text/plain": [
       "array([nan, 'Y'], dtype=object)"
      ]
     },
     "execution_count": 20,
     "metadata": {
      "tags": []
     },
     "output_type": "execute_result"
    }
   ],
   "source": [
    "vaers_df['ER_ED_VISIT'].unique()"
   ]
  },
  {
   "cell_type": "code",
   "execution_count": null,
   "metadata": {
    "id": "b8HHrAEVCC7j",
    "outputId": "e0dfe174-e13c-4601-ad80-9fc704a0a665"
   },
   "outputs": [
    {
     "data": {
      "text/plain": [
       "Index(['VAERS_ID', 'RECVDATE', 'STATE', 'AGE_YRS', 'CAGE_YR', 'CAGE_MO', 'SEX',\n",
       "       'RPT_DATE', 'SYMPTOM_TEXT', 'DIED', 'DATEDIED', 'L_THREAT', 'ER_VISIT',\n",
       "       'HOSPITAL', 'HOSPDAYS', 'X_STAY', 'DISABLE', 'RECOVD', 'VAX_DATE',\n",
       "       'ONSET_DATE', 'NUMDAYS', 'LAB_DATA', 'V_ADMINBY', 'V_FUNDBY',\n",
       "       'OTHER_MEDS', 'CUR_ILL', 'HISTORY', 'PRIOR_VAX', 'SPLTTYPE',\n",
       "       'FORM_VERS', 'TODAYS_DATE', 'BIRTH_DEFECT', 'OFC_VISIT', 'ER_ED_VISIT',\n",
       "       'ALLERGIES'],\n",
       "      dtype='object')"
      ]
     },
     "execution_count": 21,
     "metadata": {
      "tags": []
     },
     "output_type": "execute_result"
    }
   ],
   "source": [
    "vaers_df.columns"
   ]
  },
  {
   "cell_type": "code",
   "execution_count": null,
   "metadata": {
    "id": "S6BC8a-zCC7j",
    "outputId": "49992013-3603-46b7-8b1b-ca5c0fd78a57"
   },
   "outputs": [
    {
     "data": {
      "text/plain": [
       "72458"
      ]
     },
     "execution_count": 22,
     "metadata": {
      "tags": []
     },
     "output_type": "execute_result"
    }
   ],
   "source": [
    "vaers_df[['DIED', 'L_THREAT', 'ER_VISIT', 'HOSPITAL', 'DISABLE', 'BIRTH_DEFECT', 'OFC_VISIT', 'ER_ED_VISIT']].isna().T.all().sum()"
   ]
  },
  {
   "cell_type": "code",
   "execution_count": null,
   "metadata": {
    "id": "jjTHDg0nCC7j",
    "outputId": "15af91e4-af0c-474f-96c5-b138eb328dfa"
   },
   "outputs": [
    {
     "data": {
      "text/plain": [
       "0         33.0\n",
       "1         73.0\n",
       "2         23.0\n",
       "3         58.0\n",
       "4         47.0\n",
       "5         44.0\n",
       "6         50.0\n",
       "7         33.0\n",
       "8         71.0\n",
       "9         18.0\n",
       "10        33.0\n",
       "11        71.0\n",
       "12        40.0\n",
       "13        29.0\n",
       "14        38.0\n",
       "15        35.0\n",
       "16        24.0\n",
       "17        28.0\n",
       "18        65.0\n",
       "19        25.0\n",
       "20        22.0\n",
       "21        31.0\n",
       "22        27.0\n",
       "23        41.0\n",
       "24        63.0\n",
       "25        49.0\n",
       "26        33.0\n",
       "27        61.0\n",
       "28        56.0\n",
       "29        25.0\n",
       "          ... \n",
       "108161     NaN\n",
       "108162    45.0\n",
       "108163    54.0\n",
       "108164    95.0\n",
       "108165     NaN\n",
       "108166    57.0\n",
       "108167     NaN\n",
       "108168    56.0\n",
       "108169     NaN\n",
       "108170     NaN\n",
       "108171     NaN\n",
       "108172     NaN\n",
       "108173     NaN\n",
       "108174     NaN\n",
       "108175     NaN\n",
       "108176     NaN\n",
       "108177    83.0\n",
       "108178     NaN\n",
       "108179    74.0\n",
       "108180     NaN\n",
       "108181     NaN\n",
       "108182    60.0\n",
       "108183    69.0\n",
       "108184    62.0\n",
       "108185    27.0\n",
       "108186    73.0\n",
       "108187     NaN\n",
       "108188    25.0\n",
       "108189    18.0\n",
       "108190    80.0\n",
       "Name: AGE_YRS, Length: 108191, dtype: float64"
      ]
     },
     "execution_count": 23,
     "metadata": {
      "tags": []
     },
     "output_type": "execute_result"
    }
   ],
   "source": [
    "vaers_df['AGE_YRS']"
   ]
  },
  {
   "cell_type": "code",
   "execution_count": null,
   "metadata": {
    "colab": {
     "base_uri": "https://localhost:8080/"
    },
    "id": "UK3gE826CC7k",
    "outputId": "cb9f2814-1ae1-4b9e-faec-139eb323af4d"
   },
   "outputs": [
    {
     "data": {
      "text/plain": [
       "array(['None',\n",
       "       'Patient residing at nursing facility. See patients chart.',\n",
       "       'kidney infection', ...,\n",
       "       'Alcohol use (Moderate to light.); Essential hypertension; Food allergy; Nonsmoker',\n",
       "       'Alcohol use (Once a week.); Non-smoker; Seasonal allergy',\n",
       "       'Pollen allergy'], dtype=object)"
      ]
     },
     "execution_count": 93,
     "metadata": {
      "tags": []
     },
     "output_type": "execute_result"
    }
   ],
   "source": [
    "vaers_df['CUR_ILL'].unique()"
   ]
  },
  {
   "cell_type": "markdown",
   "metadata": {
    "id": "W9p3n3q5CC7k"
   },
   "source": [
    "Machine Learning Features and Target\n",
    "\n",
    "Features:\n",
    "\n",
    "- SYMPTOM_TEXT (text)\n",
    "- SYMPTOM LIST (appended to text)\n",
    "\n",
    "Target:\n",
    "\n",
    "- 0 if any of 'DIED', 'L_THREAT', 'ER_VISIT', 'HOSPITAL', 'DISABLE', 'BIRTH_DEFECT', 'OFC_VISIT', 'ER_ED_VISIT' is Y\n",
    "- 1 otherwise"
   ]
  },
  {
   "cell_type": "markdown",
   "metadata": {
    "id": "LdU-XasuCC7k"
   },
   "source": [
    "### SYMPTOM_TEXT analysis (how dirty is the data, etc.)"
   ]
  },
  {
   "cell_type": "code",
   "execution_count": null,
   "metadata": {
    "colab": {
     "base_uri": "https://localhost:8080/",
     "height": 425
    },
    "id": "_4HUKzJqCC7k",
    "outputId": "debd5c60-8831-4040-bb60-34ee471a30c5"
   },
   "outputs": [
    {
     "data": {
      "text/plain": [
       "array(['On day 9 following the vaccination I noticed a red raised itchy patch at the vaccination site approximately 2 in X 2 in. No other symptoms.'],\n",
       "      dtype='<U139')"
      ]
     },
     "metadata": {
      "tags": []
     },
     "output_type": "display_data"
    },
    {
     "data": {
      "text/plain": [
       "{'2': 3,\n",
       " '9': 7,\n",
       " 'a': 11,\n",
       " 'approximately': 18,\n",
       " 'at': 16,\n",
       " 'day': 6,\n",
       " 'following': 8,\n",
       " 'i': 9,\n",
       " 'in': 4,\n",
       " 'itchy': 14,\n",
       " 'no': 20,\n",
       " 'noticed': 10,\n",
       " 'on': 5,\n",
       " 'other': 21,\n",
       " 'patch': 15,\n",
       " 'raised': 13,\n",
       " 'red': 12,\n",
       " 'site': 17,\n",
       " 'symptoms': 22,\n",
       " 'the': 1,\n",
       " 'vaccination': 2,\n",
       " 'x': 19}"
      ]
     },
     "metadata": {
      "tags": []
     },
     "output_type": "display_data"
    }
   ],
   "source": [
    "trunc_type=\"post\"\n",
    "\n",
    "X_sample = vaers_df[['SYMPTOM_TEXT']]\n",
    "X_sample = X_sample.iloc[8:9]\n",
    "X_sample = np.array(X_sample).reshape(X_sample.shape[0]).astype('str')\n",
    "\n",
    "tokenizer = Tokenizer()\n",
    "tokenizer.fit_on_texts(X_sample)\n",
    "word_index = tokenizer.word_index\n",
    "sequences = tokenizer.texts_to_sequences(X_sample)\n",
    "padded = pad_sequences(sequences, truncating=trunc_type)\n",
    "\n",
    "display(X_sample)\n",
    "display(word_index)"
   ]
  },
  {
   "cell_type": "markdown",
   "metadata": {
    "id": "hYxdRyxKCC7l"
   },
   "source": [
    "# Model Building\n",
    "\n",
    "### Feature Extraction"
   ]
  },
  {
   "cell_type": "code",
   "execution_count": 5,
   "metadata": {
    "colab": {
     "base_uri": "https://localhost:8080/"
    },
    "id": "pheRuvyto2G9",
    "outputId": "c652cdef-02dd-430e-b7cd-55b4ec0219f4"
   },
   "outputs": [
    {
     "data": {
      "text/plain": [
       "0                             Dysphagia, Epiglottitis, , , \n",
       "1                                   Anxiety, Dyspnoea, , , \n",
       "2         Chest discomfort, Dysphagia, Pain in extremity...\n",
       "3                Dizziness, Fatigue, Mobility decreased, , \n",
       "4         Injection site erythema, Injection site prurit...\n",
       "5                               Pharyngeal swelling, , , , \n",
       "6                Abdominal pain, Chills, Sleep disorder, , \n",
       "7                         Diarrhoea, Nasal congestion, , , \n",
       "8         Vaccination site erythema, Vaccination site pr...\n",
       "9                                     Rash, Urticaria, , , \n",
       "10        Blood pressure decreased, Chest pain, Chills, ...\n",
       "11        Blood pressure decreased, Chest pain, Chills, ...\n",
       "12        Blood pressure decreased, Chest pain, Chills, ...\n",
       "13        Blood pressure decreased, Chest pain, Chills, ...\n",
       "14        Blood pressure decreased, Chest pain, Chills, ...\n",
       "15                            Ear pain, Hypoaesthesia, , , \n",
       "16           Abdominal pain upper, Dizziness, Dysgeusia, , \n",
       "17        Blood pressure increased, Chest discomfort, He...\n",
       "18        Injection site erythema, Injection site prurit...\n",
       "19        Chills, Dizziness, Injection site pain, Myalgi...\n",
       "20                          Injection site pain, Pain, , , \n",
       "21                   Injection site pain, Menorrhagia, , , \n",
       "22        Arthralgia, Chills, Headache, Mobility decreas...\n",
       "23        Arthralgia, Chills, Headache, Mobility decreas...\n",
       "24                     Chills, Fatigue, Headache, Myalgia, \n",
       "25        Headache, Heart rate increased, Injection site...\n",
       "26        Headache, Heart rate increased, Injection site...\n",
       "27                              Injection site pain, , , , \n",
       "28        Injection site induration, Injection site prur...\n",
       "29        Chills, Dizziness, Nausea, Pain, Tachycardia, ...\n",
       "                                ...                        \n",
       "148490                      Body temperature, Pyrexia, , , \n",
       "148491    Chills, Feeling abnormal, Headache, Initial in...\n",
       "148492    Chills, Feeling abnormal, Headache, Initial in...\n",
       "148493    Injection site pain, Pain in extremity, Pain i...\n",
       "148494                         Chills, Myalgia, Pyrexia, , \n",
       "148495    Chest pain, Chills, Dyspnoea, Headache, Myalgi...\n",
       "148496    Chest pain, Chills, Dyspnoea, Headache, Myalgi...\n",
       "148497    Adverse drug reaction, Asthenia, Chills, Heada...\n",
       "148498    Adverse drug reaction, Asthenia, Chills, Heada...\n",
       "148499                            Chills, Pain, Pyrexia, , \n",
       "148500             Asthenia, Chills, Fatigue, Pain, Pyrexia\n",
       "148501                 Fatigue, Product quality issue, , , \n",
       "148502                              Fatigue, Overdose, , , \n",
       "148503                 Expired product administered, , , , \n",
       "148504    Medication error, Needle issue, Syringe issue,...\n",
       "148505                                     Overdose, , , , \n",
       "148506    Arthralgia, Fatigue, Feeling abnormal, Headach...\n",
       "148507    Arthralgia, Fatigue, Feeling abnormal, Headach...\n",
       "148508                                      Fatigue, , , , \n",
       "148509                           Chills, Feeling cold, , , \n",
       "148510    Body temperature, Chills, Hangover, Headache, ...\n",
       "148511    Body temperature, Chills, Hangover, Headache, ...\n",
       "148512                             Dizziness, Vertigo, , , \n",
       "148513    Chills, Feeling abnormal, Headache, Hyperhidro...\n",
       "148514    Chills, Feeling abnormal, Headache, Hyperhidro...\n",
       "148515    Chills, Headache, Heart rate, Heart rate incre...\n",
       "148516    Chills, Headache, Heart rate, Heart rate incre...\n",
       "148517    Body temperature, Body temperature increased, ...\n",
       "148518    Body temperature, Body temperature increased, ...\n",
       "148519                                        Death, , , , \n",
       "Name: text, Length: 148520, dtype: object"
      ]
     },
     "execution_count": 5,
     "metadata": {},
     "output_type": "execute_result"
    }
   ],
   "source": [
    "X = vaers_sym.fillna('')\n",
    "X['text']=X['SYMPTOM1']+\", \"+X['SYMPTOM2']+\", \"+X['SYMPTOM3']+\", \"+X['SYMPTOM4']+\", \"+X['SYMPTOM5']\n",
    "X = X.drop(['SYMPTOM1','SYMPTOM2','SYMPTOM3','SYMPTOM4','SYMPTOM5'], axis=1)\n",
    "Z = X.groupby('VAERS_ID')['text'].transform(lambda x: ', '.join(x))\n",
    "Z"
   ]
  },
  {
   "cell_type": "code",
   "execution_count": 6,
   "metadata": {
    "colab": {
     "base_uri": "https://localhost:8080/",
     "height": 419
    },
    "id": "Jb8INkUpsJRu",
    "outputId": "753988b0-dad5-495b-efee-964171690d82"
   },
   "outputs": [
    {
     "data": {
      "text/html": [
       "<div>\n",
       "<style scoped>\n",
       "    .dataframe tbody tr th:only-of-type {\n",
       "        vertical-align: middle;\n",
       "    }\n",
       "\n",
       "    .dataframe tbody tr th {\n",
       "        vertical-align: top;\n",
       "    }\n",
       "\n",
       "    .dataframe thead th {\n",
       "        text-align: right;\n",
       "    }\n",
       "</style>\n",
       "<table border=\"1\" class=\"dataframe\">\n",
       "  <thead>\n",
       "    <tr style=\"text-align: right;\">\n",
       "      <th></th>\n",
       "      <th>VAERS_ID</th>\n",
       "      <th>text</th>\n",
       "    </tr>\n",
       "  </thead>\n",
       "  <tbody>\n",
       "    <tr>\n",
       "      <th>0</th>\n",
       "      <td>916600</td>\n",
       "      <td>Dysphagia, Epiglottitis, , ,</td>\n",
       "    </tr>\n",
       "    <tr>\n",
       "      <th>1</th>\n",
       "      <td>916601</td>\n",
       "      <td>Anxiety, Dyspnoea, , ,</td>\n",
       "    </tr>\n",
       "    <tr>\n",
       "      <th>2</th>\n",
       "      <td>916602</td>\n",
       "      <td>Chest discomfort, Dysphagia, Pain in extremity...</td>\n",
       "    </tr>\n",
       "    <tr>\n",
       "      <th>3</th>\n",
       "      <td>916603</td>\n",
       "      <td>Dizziness, Fatigue, Mobility decreased, ,</td>\n",
       "    </tr>\n",
       "    <tr>\n",
       "      <th>4</th>\n",
       "      <td>916604</td>\n",
       "      <td>Injection site erythema, Injection site prurit...</td>\n",
       "    </tr>\n",
       "    <tr>\n",
       "      <th>5</th>\n",
       "      <td>916606</td>\n",
       "      <td>Pharyngeal swelling, , , ,</td>\n",
       "    </tr>\n",
       "    <tr>\n",
       "      <th>6</th>\n",
       "      <td>916607</td>\n",
       "      <td>Abdominal pain, Chills, Sleep disorder, ,</td>\n",
       "    </tr>\n",
       "    <tr>\n",
       "      <th>7</th>\n",
       "      <td>916608</td>\n",
       "      <td>Diarrhoea, Nasal congestion, , ,</td>\n",
       "    </tr>\n",
       "    <tr>\n",
       "      <th>8</th>\n",
       "      <td>916609</td>\n",
       "      <td>Vaccination site erythema, Vaccination site pr...</td>\n",
       "    </tr>\n",
       "    <tr>\n",
       "      <th>9</th>\n",
       "      <td>916610</td>\n",
       "      <td>Rash, Urticaria, , ,</td>\n",
       "    </tr>\n",
       "    <tr>\n",
       "      <th>10</th>\n",
       "      <td>916611</td>\n",
       "      <td>Blood pressure decreased, Chest pain, Chills, ...</td>\n",
       "    </tr>\n",
       "    <tr>\n",
       "      <th>11</th>\n",
       "      <td>916612</td>\n",
       "      <td>Ear pain, Hypoaesthesia, , ,</td>\n",
       "    </tr>\n",
       "    <tr>\n",
       "      <th>12</th>\n",
       "      <td>916613</td>\n",
       "      <td>Abdominal pain upper, Dizziness, Dysgeusia, ,</td>\n",
       "    </tr>\n",
       "    <tr>\n",
       "      <th>13</th>\n",
       "      <td>916614</td>\n",
       "      <td>Blood pressure increased, Chest discomfort, He...</td>\n",
       "    </tr>\n",
       "    <tr>\n",
       "      <th>14</th>\n",
       "      <td>916615</td>\n",
       "      <td>Injection site erythema, Injection site prurit...</td>\n",
       "    </tr>\n",
       "    <tr>\n",
       "      <th>15</th>\n",
       "      <td>916617</td>\n",
       "      <td>Chills, Dizziness, Injection site pain, Myalgi...</td>\n",
       "    </tr>\n",
       "    <tr>\n",
       "      <th>16</th>\n",
       "      <td>916618</td>\n",
       "      <td>Injection site pain, Pain, , ,</td>\n",
       "    </tr>\n",
       "    <tr>\n",
       "      <th>17</th>\n",
       "      <td>916619</td>\n",
       "      <td>Injection site pain, Menorrhagia, , ,</td>\n",
       "    </tr>\n",
       "    <tr>\n",
       "      <th>18</th>\n",
       "      <td>916620</td>\n",
       "      <td>Arthralgia, Chills, Headache, Mobility decreas...</td>\n",
       "    </tr>\n",
       "    <tr>\n",
       "      <th>19</th>\n",
       "      <td>916621</td>\n",
       "      <td>Chills, Fatigue, Headache, Myalgia,</td>\n",
       "    </tr>\n",
       "    <tr>\n",
       "      <th>20</th>\n",
       "      <td>916622</td>\n",
       "      <td>Headache, Heart rate increased, Injection site...</td>\n",
       "    </tr>\n",
       "    <tr>\n",
       "      <th>21</th>\n",
       "      <td>916623</td>\n",
       "      <td>Injection site pain, , , ,</td>\n",
       "    </tr>\n",
       "    <tr>\n",
       "      <th>22</th>\n",
       "      <td>916624</td>\n",
       "      <td>Injection site induration, Injection site prur...</td>\n",
       "    </tr>\n",
       "    <tr>\n",
       "      <th>23</th>\n",
       "      <td>916625</td>\n",
       "      <td>Chills, Dizziness, Nausea, Pain, Tachycardia, ...</td>\n",
       "    </tr>\n",
       "    <tr>\n",
       "      <th>24</th>\n",
       "      <td>916626</td>\n",
       "      <td>Erythema, Pruritus, , ,</td>\n",
       "    </tr>\n",
       "    <tr>\n",
       "      <th>25</th>\n",
       "      <td>916627</td>\n",
       "      <td>Injection site erythema, Injection site indura...</td>\n",
       "    </tr>\n",
       "    <tr>\n",
       "      <th>26</th>\n",
       "      <td>916628</td>\n",
       "      <td>Cough, Limb discomfort, Pain, SARS-CoV-2 test ...</td>\n",
       "    </tr>\n",
       "    <tr>\n",
       "      <th>27</th>\n",
       "      <td>916629</td>\n",
       "      <td>Asthenia, Chills, Headache, Myalgia,</td>\n",
       "    </tr>\n",
       "    <tr>\n",
       "      <th>28</th>\n",
       "      <td>916630</td>\n",
       "      <td>Injection site erythema, Injection site pain, ...</td>\n",
       "    </tr>\n",
       "    <tr>\n",
       "      <th>29</th>\n",
       "      <td>916631</td>\n",
       "      <td>Chills, Feeling cold, Feeling hot, Myalgia, Pa...</td>\n",
       "    </tr>\n",
       "    <tr>\n",
       "      <th>...</th>\n",
       "      <td>...</td>\n",
       "      <td>...</td>\n",
       "    </tr>\n",
       "    <tr>\n",
       "      <th>108160</th>\n",
       "      <td>1245354</td>\n",
       "      <td>Hyperhidrosis, Rash, , ,</td>\n",
       "    </tr>\n",
       "    <tr>\n",
       "      <th>108161</th>\n",
       "      <td>1245355</td>\n",
       "      <td>Chills, Headache, Pain, Pyrexia, Tremor</td>\n",
       "    </tr>\n",
       "    <tr>\n",
       "      <th>108162</th>\n",
       "      <td>1245370</td>\n",
       "      <td>Chest pain, Death, Fatigue, Influenza like ill...</td>\n",
       "    </tr>\n",
       "    <tr>\n",
       "      <th>108163</th>\n",
       "      <td>1245371</td>\n",
       "      <td>Cardiac disorder, Cerebrovascular accident, Co...</td>\n",
       "    </tr>\n",
       "    <tr>\n",
       "      <th>108164</th>\n",
       "      <td>1245392</td>\n",
       "      <td>Death, Fatigue, Vaccination site pain, ,</td>\n",
       "    </tr>\n",
       "    <tr>\n",
       "      <th>108165</th>\n",
       "      <td>1245400</td>\n",
       "      <td>Death, , , ,</td>\n",
       "    </tr>\n",
       "    <tr>\n",
       "      <th>108166</th>\n",
       "      <td>1245485</td>\n",
       "      <td>Death, , , ,</td>\n",
       "    </tr>\n",
       "    <tr>\n",
       "      <th>108167</th>\n",
       "      <td>1245569</td>\n",
       "      <td>Embolism, , , ,</td>\n",
       "    </tr>\n",
       "    <tr>\n",
       "      <th>108168</th>\n",
       "      <td>1245667</td>\n",
       "      <td>Body temperature, Pyrexia, , ,</td>\n",
       "    </tr>\n",
       "    <tr>\n",
       "      <th>108169</th>\n",
       "      <td>1245668</td>\n",
       "      <td>Chills, Feeling abnormal, Headache, Initial in...</td>\n",
       "    </tr>\n",
       "    <tr>\n",
       "      <th>108170</th>\n",
       "      <td>1245669</td>\n",
       "      <td>Injection site pain, Pain in extremity, Pain i...</td>\n",
       "    </tr>\n",
       "    <tr>\n",
       "      <th>108171</th>\n",
       "      <td>1245670</td>\n",
       "      <td>Chills, Myalgia, Pyrexia, ,</td>\n",
       "    </tr>\n",
       "    <tr>\n",
       "      <th>108172</th>\n",
       "      <td>1245671</td>\n",
       "      <td>Chest pain, Chills, Dyspnoea, Headache, Myalgi...</td>\n",
       "    </tr>\n",
       "    <tr>\n",
       "      <th>108173</th>\n",
       "      <td>1245672</td>\n",
       "      <td>Adverse drug reaction, Asthenia, Chills, Heada...</td>\n",
       "    </tr>\n",
       "    <tr>\n",
       "      <th>108174</th>\n",
       "      <td>1245673</td>\n",
       "      <td>Chills, Pain, Pyrexia, ,</td>\n",
       "    </tr>\n",
       "    <tr>\n",
       "      <th>108175</th>\n",
       "      <td>1245674</td>\n",
       "      <td>Asthenia, Chills, Fatigue, Pain, Pyrexia</td>\n",
       "    </tr>\n",
       "    <tr>\n",
       "      <th>108176</th>\n",
       "      <td>1245675</td>\n",
       "      <td>Fatigue, Product quality issue, , ,</td>\n",
       "    </tr>\n",
       "    <tr>\n",
       "      <th>108177</th>\n",
       "      <td>1245676</td>\n",
       "      <td>Fatigue, Overdose, , ,</td>\n",
       "    </tr>\n",
       "    <tr>\n",
       "      <th>108178</th>\n",
       "      <td>1245677</td>\n",
       "      <td>Expired product administered, , , ,</td>\n",
       "    </tr>\n",
       "    <tr>\n",
       "      <th>108179</th>\n",
       "      <td>1245678</td>\n",
       "      <td>Medication error, Needle issue, Syringe issue,...</td>\n",
       "    </tr>\n",
       "    <tr>\n",
       "      <th>108180</th>\n",
       "      <td>1245679</td>\n",
       "      <td>Overdose, , , ,</td>\n",
       "    </tr>\n",
       "    <tr>\n",
       "      <th>108181</th>\n",
       "      <td>1245680</td>\n",
       "      <td>Arthralgia, Fatigue, Feeling abnormal, Headach...</td>\n",
       "    </tr>\n",
       "    <tr>\n",
       "      <th>108182</th>\n",
       "      <td>1245681</td>\n",
       "      <td>Fatigue, , , ,</td>\n",
       "    </tr>\n",
       "    <tr>\n",
       "      <th>108183</th>\n",
       "      <td>1245682</td>\n",
       "      <td>Chills, Feeling cold, , ,</td>\n",
       "    </tr>\n",
       "    <tr>\n",
       "      <th>108184</th>\n",
       "      <td>1245683</td>\n",
       "      <td>Body temperature, Chills, Hangover, Headache, ...</td>\n",
       "    </tr>\n",
       "    <tr>\n",
       "      <th>108185</th>\n",
       "      <td>1245684</td>\n",
       "      <td>Dizziness, Vertigo, , ,</td>\n",
       "    </tr>\n",
       "    <tr>\n",
       "      <th>108186</th>\n",
       "      <td>1245685</td>\n",
       "      <td>Chills, Feeling abnormal, Headache, Hyperhidro...</td>\n",
       "    </tr>\n",
       "    <tr>\n",
       "      <th>108187</th>\n",
       "      <td>1245686</td>\n",
       "      <td>Chills, Headache, Heart rate, Heart rate incre...</td>\n",
       "    </tr>\n",
       "    <tr>\n",
       "      <th>108188</th>\n",
       "      <td>1245687</td>\n",
       "      <td>Body temperature, Body temperature increased, ...</td>\n",
       "    </tr>\n",
       "    <tr>\n",
       "      <th>108189</th>\n",
       "      <td>1245985</td>\n",
       "      <td>Death, , , ,</td>\n",
       "    </tr>\n",
       "  </tbody>\n",
       "</table>\n",
       "<p>108190 rows × 2 columns</p>\n",
       "</div>"
      ],
      "text/plain": [
       "        VAERS_ID                                               text\n",
       "0         916600                      Dysphagia, Epiglottitis, , , \n",
       "1         916601                            Anxiety, Dyspnoea, , , \n",
       "2         916602  Chest discomfort, Dysphagia, Pain in extremity...\n",
       "3         916603         Dizziness, Fatigue, Mobility decreased, , \n",
       "4         916604  Injection site erythema, Injection site prurit...\n",
       "5         916606                        Pharyngeal swelling, , , , \n",
       "6         916607         Abdominal pain, Chills, Sleep disorder, , \n",
       "7         916608                  Diarrhoea, Nasal congestion, , , \n",
       "8         916609  Vaccination site erythema, Vaccination site pr...\n",
       "9         916610                              Rash, Urticaria, , , \n",
       "10        916611  Blood pressure decreased, Chest pain, Chills, ...\n",
       "11        916612                      Ear pain, Hypoaesthesia, , , \n",
       "12        916613     Abdominal pain upper, Dizziness, Dysgeusia, , \n",
       "13        916614  Blood pressure increased, Chest discomfort, He...\n",
       "14        916615  Injection site erythema, Injection site prurit...\n",
       "15        916617  Chills, Dizziness, Injection site pain, Myalgi...\n",
       "16        916618                    Injection site pain, Pain, , , \n",
       "17        916619             Injection site pain, Menorrhagia, , , \n",
       "18        916620  Arthralgia, Chills, Headache, Mobility decreas...\n",
       "19        916621               Chills, Fatigue, Headache, Myalgia, \n",
       "20        916622  Headache, Heart rate increased, Injection site...\n",
       "21        916623                        Injection site pain, , , , \n",
       "22        916624  Injection site induration, Injection site prur...\n",
       "23        916625  Chills, Dizziness, Nausea, Pain, Tachycardia, ...\n",
       "24        916626                           Erythema, Pruritus, , , \n",
       "25        916627  Injection site erythema, Injection site indura...\n",
       "26        916628  Cough, Limb discomfort, Pain, SARS-CoV-2 test ...\n",
       "27        916629              Asthenia, Chills, Headache, Myalgia, \n",
       "28        916630  Injection site erythema, Injection site pain, ...\n",
       "29        916631  Chills, Feeling cold, Feeling hot, Myalgia, Pa...\n",
       "...          ...                                                ...\n",
       "108160   1245354                          Hyperhidrosis, Rash, , , \n",
       "108161   1245355            Chills, Headache, Pain, Pyrexia, Tremor\n",
       "108162   1245370  Chest pain, Death, Fatigue, Influenza like ill...\n",
       "108163   1245371  Cardiac disorder, Cerebrovascular accident, Co...\n",
       "108164   1245392          Death, Fatigue, Vaccination site pain, , \n",
       "108165   1245400                                      Death, , , , \n",
       "108166   1245485                                      Death, , , , \n",
       "108167   1245569                                   Embolism, , , , \n",
       "108168   1245667                    Body temperature, Pyrexia, , , \n",
       "108169   1245668  Chills, Feeling abnormal, Headache, Initial in...\n",
       "108170   1245669  Injection site pain, Pain in extremity, Pain i...\n",
       "108171   1245670                       Chills, Myalgia, Pyrexia, , \n",
       "108172   1245671  Chest pain, Chills, Dyspnoea, Headache, Myalgi...\n",
       "108173   1245672  Adverse drug reaction, Asthenia, Chills, Heada...\n",
       "108174   1245673                          Chills, Pain, Pyrexia, , \n",
       "108175   1245674           Asthenia, Chills, Fatigue, Pain, Pyrexia\n",
       "108176   1245675               Fatigue, Product quality issue, , , \n",
       "108177   1245676                            Fatigue, Overdose, , , \n",
       "108178   1245677               Expired product administered, , , , \n",
       "108179   1245678  Medication error, Needle issue, Syringe issue,...\n",
       "108180   1245679                                   Overdose, , , , \n",
       "108181   1245680  Arthralgia, Fatigue, Feeling abnormal, Headach...\n",
       "108182   1245681                                    Fatigue, , , , \n",
       "108183   1245682                         Chills, Feeling cold, , , \n",
       "108184   1245683  Body temperature, Chills, Hangover, Headache, ...\n",
       "108185   1245684                           Dizziness, Vertigo, , , \n",
       "108186   1245685  Chills, Feeling abnormal, Headache, Hyperhidro...\n",
       "108187   1245686  Chills, Headache, Heart rate, Heart rate incre...\n",
       "108188   1245687  Body temperature, Body temperature increased, ...\n",
       "108189   1245985                                      Death, , , , \n",
       "\n",
       "[108190 rows x 2 columns]"
      ]
     },
     "execution_count": 6,
     "metadata": {},
     "output_type": "execute_result"
    }
   ],
   "source": [
    "my_sym_X = pd.concat([X['VAERS_ID'], Z], axis=1)\n",
    "my_sym_X = my_sym_X.drop_duplicates(subset='VAERS_ID', keep=\"first\")\n",
    "my_sym_X.reset_index(inplace=True, drop=True)\n",
    "my_sym_X"
   ]
  },
  {
   "cell_type": "code",
   "execution_count": 7,
   "metadata": {
    "colab": {
     "base_uri": "https://localhost:8080/",
     "height": 419
    },
    "id": "jC-iO8XWpBLu",
    "outputId": "ff963782-8a0e-4180-db31-22512acace47"
   },
   "outputs": [
    {
     "data": {
      "text/html": [
       "<div>\n",
       "<style scoped>\n",
       "    .dataframe tbody tr th:only-of-type {\n",
       "        vertical-align: middle;\n",
       "    }\n",
       "\n",
       "    .dataframe tbody tr th {\n",
       "        vertical-align: top;\n",
       "    }\n",
       "\n",
       "    .dataframe thead th {\n",
       "        text-align: right;\n",
       "    }\n",
       "</style>\n",
       "<table border=\"1\" class=\"dataframe\">\n",
       "  <thead>\n",
       "    <tr style=\"text-align: right;\">\n",
       "      <th></th>\n",
       "      <th>VAERS_ID</th>\n",
       "      <th>symptoms</th>\n",
       "    </tr>\n",
       "  </thead>\n",
       "  <tbody>\n",
       "    <tr>\n",
       "      <th>0</th>\n",
       "      <td>916600</td>\n",
       "      <td>Dysphagia, Epiglottitis</td>\n",
       "    </tr>\n",
       "    <tr>\n",
       "      <th>1</th>\n",
       "      <td>916601</td>\n",
       "      <td>Anxiety, Dyspnoea</td>\n",
       "    </tr>\n",
       "    <tr>\n",
       "      <th>2</th>\n",
       "      <td>916602</td>\n",
       "      <td>Chest discomfort, Dysphagia, Pain in extremity...</td>\n",
       "    </tr>\n",
       "    <tr>\n",
       "      <th>3</th>\n",
       "      <td>916603</td>\n",
       "      <td>Dizziness, Fatigue, Mobility decreased</td>\n",
       "    </tr>\n",
       "    <tr>\n",
       "      <th>4</th>\n",
       "      <td>916604</td>\n",
       "      <td>Injection site erythema, Injection site prurit...</td>\n",
       "    </tr>\n",
       "    <tr>\n",
       "      <th>5</th>\n",
       "      <td>916606</td>\n",
       "      <td>Pharyngeal swelling</td>\n",
       "    </tr>\n",
       "    <tr>\n",
       "      <th>6</th>\n",
       "      <td>916607</td>\n",
       "      <td>Abdominal pain, Chills, Sleep disorder</td>\n",
       "    </tr>\n",
       "    <tr>\n",
       "      <th>7</th>\n",
       "      <td>916608</td>\n",
       "      <td>Diarrhoea, Nasal congestion</td>\n",
       "    </tr>\n",
       "    <tr>\n",
       "      <th>8</th>\n",
       "      <td>916609</td>\n",
       "      <td>Vaccination site erythema, Vaccination site pr...</td>\n",
       "    </tr>\n",
       "    <tr>\n",
       "      <th>9</th>\n",
       "      <td>916610</td>\n",
       "      <td>Rash, Urticaria</td>\n",
       "    </tr>\n",
       "    <tr>\n",
       "      <th>10</th>\n",
       "      <td>916611</td>\n",
       "      <td>Blood pressure decreased, Chest pain, Chills, ...</td>\n",
       "    </tr>\n",
       "    <tr>\n",
       "      <th>11</th>\n",
       "      <td>916612</td>\n",
       "      <td>Ear pain, Hypoaesthesia</td>\n",
       "    </tr>\n",
       "    <tr>\n",
       "      <th>12</th>\n",
       "      <td>916613</td>\n",
       "      <td>Abdominal pain upper, Dizziness, Dysgeusia</td>\n",
       "    </tr>\n",
       "    <tr>\n",
       "      <th>13</th>\n",
       "      <td>916614</td>\n",
       "      <td>Blood pressure increased, Chest discomfort, He...</td>\n",
       "    </tr>\n",
       "    <tr>\n",
       "      <th>14</th>\n",
       "      <td>916615</td>\n",
       "      <td>Injection site erythema, Injection site prurit...</td>\n",
       "    </tr>\n",
       "    <tr>\n",
       "      <th>15</th>\n",
       "      <td>916617</td>\n",
       "      <td>Chills, Dizziness, Injection site pain, Myalgi...</td>\n",
       "    </tr>\n",
       "    <tr>\n",
       "      <th>16</th>\n",
       "      <td>916618</td>\n",
       "      <td>Injection site pain, Pain</td>\n",
       "    </tr>\n",
       "    <tr>\n",
       "      <th>17</th>\n",
       "      <td>916619</td>\n",
       "      <td>Injection site pain, Menorrhagia</td>\n",
       "    </tr>\n",
       "    <tr>\n",
       "      <th>18</th>\n",
       "      <td>916620</td>\n",
       "      <td>Arthralgia, Chills, Headache, Mobility decreas...</td>\n",
       "    </tr>\n",
       "    <tr>\n",
       "      <th>19</th>\n",
       "      <td>916621</td>\n",
       "      <td>Chills, Fatigue, Headache, Myalgia</td>\n",
       "    </tr>\n",
       "    <tr>\n",
       "      <th>20</th>\n",
       "      <td>916622</td>\n",
       "      <td>Headache, Heart rate increased, Injection site...</td>\n",
       "    </tr>\n",
       "    <tr>\n",
       "      <th>21</th>\n",
       "      <td>916623</td>\n",
       "      <td>Injection site pain</td>\n",
       "    </tr>\n",
       "    <tr>\n",
       "      <th>22</th>\n",
       "      <td>916624</td>\n",
       "      <td>Injection site induration, Injection site prur...</td>\n",
       "    </tr>\n",
       "    <tr>\n",
       "      <th>23</th>\n",
       "      <td>916625</td>\n",
       "      <td>Chills, Dizziness, Nausea, Pain, Tachycardia, ...</td>\n",
       "    </tr>\n",
       "    <tr>\n",
       "      <th>24</th>\n",
       "      <td>916626</td>\n",
       "      <td>Erythema, Pruritus</td>\n",
       "    </tr>\n",
       "    <tr>\n",
       "      <th>25</th>\n",
       "      <td>916627</td>\n",
       "      <td>Injection site erythema, Injection site indura...</td>\n",
       "    </tr>\n",
       "    <tr>\n",
       "      <th>26</th>\n",
       "      <td>916628</td>\n",
       "      <td>Cough, Limb discomfort, Pain, SARS-CoV-2 test ...</td>\n",
       "    </tr>\n",
       "    <tr>\n",
       "      <th>27</th>\n",
       "      <td>916629</td>\n",
       "      <td>Asthenia, Chills, Headache, Myalgia</td>\n",
       "    </tr>\n",
       "    <tr>\n",
       "      <th>28</th>\n",
       "      <td>916630</td>\n",
       "      <td>Injection site erythema, Injection site pain, ...</td>\n",
       "    </tr>\n",
       "    <tr>\n",
       "      <th>29</th>\n",
       "      <td>916631</td>\n",
       "      <td>Chills, Feeling cold, Feeling hot, Myalgia, Pa...</td>\n",
       "    </tr>\n",
       "    <tr>\n",
       "      <th>...</th>\n",
       "      <td>...</td>\n",
       "      <td>...</td>\n",
       "    </tr>\n",
       "    <tr>\n",
       "      <th>108160</th>\n",
       "      <td>1245354</td>\n",
       "      <td>Hyperhidrosis, Rash</td>\n",
       "    </tr>\n",
       "    <tr>\n",
       "      <th>108161</th>\n",
       "      <td>1245355</td>\n",
       "      <td>Chills, Headache, Pain, Pyrexia, Tremor</td>\n",
       "    </tr>\n",
       "    <tr>\n",
       "      <th>108162</th>\n",
       "      <td>1245370</td>\n",
       "      <td>Chest pain, Death, Fatigue, Influenza like ill...</td>\n",
       "    </tr>\n",
       "    <tr>\n",
       "      <th>108163</th>\n",
       "      <td>1245371</td>\n",
       "      <td>Cardiac disorder, Cerebrovascular accident, Co...</td>\n",
       "    </tr>\n",
       "    <tr>\n",
       "      <th>108164</th>\n",
       "      <td>1245392</td>\n",
       "      <td>Death, Fatigue, Vaccination site pain</td>\n",
       "    </tr>\n",
       "    <tr>\n",
       "      <th>108165</th>\n",
       "      <td>1245400</td>\n",
       "      <td>Death</td>\n",
       "    </tr>\n",
       "    <tr>\n",
       "      <th>108166</th>\n",
       "      <td>1245485</td>\n",
       "      <td>Death</td>\n",
       "    </tr>\n",
       "    <tr>\n",
       "      <th>108167</th>\n",
       "      <td>1245569</td>\n",
       "      <td>Embolism</td>\n",
       "    </tr>\n",
       "    <tr>\n",
       "      <th>108168</th>\n",
       "      <td>1245667</td>\n",
       "      <td>Body temperature, Pyrexia</td>\n",
       "    </tr>\n",
       "    <tr>\n",
       "      <th>108169</th>\n",
       "      <td>1245668</td>\n",
       "      <td>Chills, Feeling abnormal, Headache, Initial in...</td>\n",
       "    </tr>\n",
       "    <tr>\n",
       "      <th>108170</th>\n",
       "      <td>1245669</td>\n",
       "      <td>Injection site pain, Pain in extremity, Pain i...</td>\n",
       "    </tr>\n",
       "    <tr>\n",
       "      <th>108171</th>\n",
       "      <td>1245670</td>\n",
       "      <td>Chills, Myalgia, Pyrexia</td>\n",
       "    </tr>\n",
       "    <tr>\n",
       "      <th>108172</th>\n",
       "      <td>1245671</td>\n",
       "      <td>Chest pain, Chills, Dyspnoea, Headache, Myalgi...</td>\n",
       "    </tr>\n",
       "    <tr>\n",
       "      <th>108173</th>\n",
       "      <td>1245672</td>\n",
       "      <td>Adverse drug reaction, Asthenia, Chills, Heada...</td>\n",
       "    </tr>\n",
       "    <tr>\n",
       "      <th>108174</th>\n",
       "      <td>1245673</td>\n",
       "      <td>Chills, Pain, Pyrexia</td>\n",
       "    </tr>\n",
       "    <tr>\n",
       "      <th>108175</th>\n",
       "      <td>1245674</td>\n",
       "      <td>Asthenia, Chills, Fatigue, Pain, Pyrexia</td>\n",
       "    </tr>\n",
       "    <tr>\n",
       "      <th>108176</th>\n",
       "      <td>1245675</td>\n",
       "      <td>Fatigue, Product quality issue</td>\n",
       "    </tr>\n",
       "    <tr>\n",
       "      <th>108177</th>\n",
       "      <td>1245676</td>\n",
       "      <td>Fatigue, Overdose</td>\n",
       "    </tr>\n",
       "    <tr>\n",
       "      <th>108178</th>\n",
       "      <td>1245677</td>\n",
       "      <td>Expired product administered</td>\n",
       "    </tr>\n",
       "    <tr>\n",
       "      <th>108179</th>\n",
       "      <td>1245678</td>\n",
       "      <td>Medication error, Needle issue, Syringe issue,...</td>\n",
       "    </tr>\n",
       "    <tr>\n",
       "      <th>108180</th>\n",
       "      <td>1245679</td>\n",
       "      <td>Overdose</td>\n",
       "    </tr>\n",
       "    <tr>\n",
       "      <th>108181</th>\n",
       "      <td>1245680</td>\n",
       "      <td>Arthralgia, Fatigue, Feeling abnormal, Headach...</td>\n",
       "    </tr>\n",
       "    <tr>\n",
       "      <th>108182</th>\n",
       "      <td>1245681</td>\n",
       "      <td>Fatigue</td>\n",
       "    </tr>\n",
       "    <tr>\n",
       "      <th>108183</th>\n",
       "      <td>1245682</td>\n",
       "      <td>Chills, Feeling cold</td>\n",
       "    </tr>\n",
       "    <tr>\n",
       "      <th>108184</th>\n",
       "      <td>1245683</td>\n",
       "      <td>Body temperature, Chills, Hangover, Headache, ...</td>\n",
       "    </tr>\n",
       "    <tr>\n",
       "      <th>108185</th>\n",
       "      <td>1245684</td>\n",
       "      <td>Dizziness, Vertigo</td>\n",
       "    </tr>\n",
       "    <tr>\n",
       "      <th>108186</th>\n",
       "      <td>1245685</td>\n",
       "      <td>Chills, Feeling abnormal, Headache, Hyperhidro...</td>\n",
       "    </tr>\n",
       "    <tr>\n",
       "      <th>108187</th>\n",
       "      <td>1245686</td>\n",
       "      <td>Chills, Headache, Heart rate, Heart rate incre...</td>\n",
       "    </tr>\n",
       "    <tr>\n",
       "      <th>108188</th>\n",
       "      <td>1245687</td>\n",
       "      <td>Body temperature, Body temperature increased, ...</td>\n",
       "    </tr>\n",
       "    <tr>\n",
       "      <th>108189</th>\n",
       "      <td>1245985</td>\n",
       "      <td>Death</td>\n",
       "    </tr>\n",
       "  </tbody>\n",
       "</table>\n",
       "<p>108190 rows × 2 columns</p>\n",
       "</div>"
      ],
      "text/plain": [
       "        VAERS_ID                                           symptoms\n",
       "0         916600                            Dysphagia, Epiglottitis\n",
       "1         916601                                  Anxiety, Dyspnoea\n",
       "2         916602  Chest discomfort, Dysphagia, Pain in extremity...\n",
       "3         916603             Dizziness, Fatigue, Mobility decreased\n",
       "4         916604  Injection site erythema, Injection site prurit...\n",
       "5         916606                                Pharyngeal swelling\n",
       "6         916607             Abdominal pain, Chills, Sleep disorder\n",
       "7         916608                        Diarrhoea, Nasal congestion\n",
       "8         916609  Vaccination site erythema, Vaccination site pr...\n",
       "9         916610                                    Rash, Urticaria\n",
       "10        916611  Blood pressure decreased, Chest pain, Chills, ...\n",
       "11        916612                            Ear pain, Hypoaesthesia\n",
       "12        916613         Abdominal pain upper, Dizziness, Dysgeusia\n",
       "13        916614  Blood pressure increased, Chest discomfort, He...\n",
       "14        916615  Injection site erythema, Injection site prurit...\n",
       "15        916617  Chills, Dizziness, Injection site pain, Myalgi...\n",
       "16        916618                          Injection site pain, Pain\n",
       "17        916619                   Injection site pain, Menorrhagia\n",
       "18        916620  Arthralgia, Chills, Headache, Mobility decreas...\n",
       "19        916621                 Chills, Fatigue, Headache, Myalgia\n",
       "20        916622  Headache, Heart rate increased, Injection site...\n",
       "21        916623                                Injection site pain\n",
       "22        916624  Injection site induration, Injection site prur...\n",
       "23        916625  Chills, Dizziness, Nausea, Pain, Tachycardia, ...\n",
       "24        916626                                 Erythema, Pruritus\n",
       "25        916627  Injection site erythema, Injection site indura...\n",
       "26        916628  Cough, Limb discomfort, Pain, SARS-CoV-2 test ...\n",
       "27        916629                Asthenia, Chills, Headache, Myalgia\n",
       "28        916630  Injection site erythema, Injection site pain, ...\n",
       "29        916631  Chills, Feeling cold, Feeling hot, Myalgia, Pa...\n",
       "...          ...                                                ...\n",
       "108160   1245354                                Hyperhidrosis, Rash\n",
       "108161   1245355            Chills, Headache, Pain, Pyrexia, Tremor\n",
       "108162   1245370  Chest pain, Death, Fatigue, Influenza like ill...\n",
       "108163   1245371  Cardiac disorder, Cerebrovascular accident, Co...\n",
       "108164   1245392              Death, Fatigue, Vaccination site pain\n",
       "108165   1245400                                              Death\n",
       "108166   1245485                                              Death\n",
       "108167   1245569                                           Embolism\n",
       "108168   1245667                          Body temperature, Pyrexia\n",
       "108169   1245668  Chills, Feeling abnormal, Headache, Initial in...\n",
       "108170   1245669  Injection site pain, Pain in extremity, Pain i...\n",
       "108171   1245670                           Chills, Myalgia, Pyrexia\n",
       "108172   1245671  Chest pain, Chills, Dyspnoea, Headache, Myalgi...\n",
       "108173   1245672  Adverse drug reaction, Asthenia, Chills, Heada...\n",
       "108174   1245673                              Chills, Pain, Pyrexia\n",
       "108175   1245674           Asthenia, Chills, Fatigue, Pain, Pyrexia\n",
       "108176   1245675                     Fatigue, Product quality issue\n",
       "108177   1245676                                  Fatigue, Overdose\n",
       "108178   1245677                       Expired product administered\n",
       "108179   1245678  Medication error, Needle issue, Syringe issue,...\n",
       "108180   1245679                                           Overdose\n",
       "108181   1245680  Arthralgia, Fatigue, Feeling abnormal, Headach...\n",
       "108182   1245681                                            Fatigue\n",
       "108183   1245682                               Chills, Feeling cold\n",
       "108184   1245683  Body temperature, Chills, Hangover, Headache, ...\n",
       "108185   1245684                                 Dizziness, Vertigo\n",
       "108186   1245685  Chills, Feeling abnormal, Headache, Hyperhidro...\n",
       "108187   1245686  Chills, Headache, Heart rate, Heart rate incre...\n",
       "108188   1245687  Body temperature, Body temperature increased, ...\n",
       "108189   1245985                                              Death\n",
       "\n",
       "[108190 rows x 2 columns]"
      ]
     },
     "execution_count": 7,
     "metadata": {},
     "output_type": "execute_result"
    }
   ],
   "source": [
    "sym_X = np.array(my_sym_X['text'])\n",
    "new_sym_X = []\n",
    "for x in sym_X:\n",
    "  new_syms = ''\n",
    "  for sym in x.split(', '):\n",
    "    if sym:\n",
    "      if new_syms:\n",
    "        new_syms += ', ' + sym\n",
    "      else:\n",
    "        new_syms = sym\n",
    "  new_sym_X.append(new_syms)\n",
    "\n",
    "sym_X = np.array(new_sym_X)\n",
    "sym_X = pd.concat([my_sym_X['VAERS_ID'], pd.Series(sym_X, name='symptoms')], axis=1)\n",
    "sym_X"
   ]
  },
  {
   "cell_type": "code",
   "execution_count": 8,
   "metadata": {
    "colab": {
     "base_uri": "https://localhost:8080/",
     "height": 419
    },
    "id": "-PWM9hhm9z_P",
    "outputId": "704f1266-9a6e-4ef0-a444-57d722efdd04"
   },
   "outputs": [
    {
     "data": {
      "text/html": [
       "<div>\n",
       "<style scoped>\n",
       "    .dataframe tbody tr th:only-of-type {\n",
       "        vertical-align: middle;\n",
       "    }\n",
       "\n",
       "    .dataframe tbody tr th {\n",
       "        vertical-align: top;\n",
       "    }\n",
       "\n",
       "    .dataframe thead th {\n",
       "        text-align: right;\n",
       "    }\n",
       "</style>\n",
       "<table border=\"1\" class=\"dataframe\">\n",
       "  <thead>\n",
       "    <tr style=\"text-align: right;\">\n",
       "      <th></th>\n",
       "      <th>VAERS_ID</th>\n",
       "      <th>SYMPTOM_TEXT</th>\n",
       "    </tr>\n",
       "  </thead>\n",
       "  <tbody>\n",
       "    <tr>\n",
       "      <th>0</th>\n",
       "      <td>916600</td>\n",
       "      <td>Right side of epiglottis swelled up and hinder...</td>\n",
       "    </tr>\n",
       "    <tr>\n",
       "      <th>1</th>\n",
       "      <td>916601</td>\n",
       "      <td>Approximately 30 min post vaccination administ...</td>\n",
       "    </tr>\n",
       "    <tr>\n",
       "      <th>2</th>\n",
       "      <td>916602</td>\n",
       "      <td>About 15 minutes after receiving the vaccine, ...</td>\n",
       "    </tr>\n",
       "    <tr>\n",
       "      <th>3</th>\n",
       "      <td>916603</td>\n",
       "      <td>extreme fatigue, dizziness,. could not lift my...</td>\n",
       "    </tr>\n",
       "    <tr>\n",
       "      <th>4</th>\n",
       "      <td>916604</td>\n",
       "      <td>Injection site swelling, redness, warm to the ...</td>\n",
       "    </tr>\n",
       "    <tr>\n",
       "      <th>5</th>\n",
       "      <td>916606</td>\n",
       "      <td>patient called back the next day and stated he...</td>\n",
       "    </tr>\n",
       "    <tr>\n",
       "      <th>6</th>\n",
       "      <td>916607</td>\n",
       "      <td>SEVERE chills approximately 13-14 hours after ...</td>\n",
       "    </tr>\n",
       "    <tr>\n",
       "      <th>7</th>\n",
       "      <td>916608</td>\n",
       "      <td>Nasal congestion and diarrhea</td>\n",
       "    </tr>\n",
       "    <tr>\n",
       "      <th>8</th>\n",
       "      <td>916609</td>\n",
       "      <td>On day 9 following the vaccination I noticed a...</td>\n",
       "    </tr>\n",
       "    <tr>\n",
       "      <th>9</th>\n",
       "      <td>916610</td>\n",
       "      <td>hives and rash all over body that has not gone...</td>\n",
       "    </tr>\n",
       "    <tr>\n",
       "      <th>10</th>\n",
       "      <td>916611</td>\n",
       "      <td>12pm Received shot 1 pm Sore arm at injection ...</td>\n",
       "    </tr>\n",
       "    <tr>\n",
       "      <th>11</th>\n",
       "      <td>916612</td>\n",
       "      <td>Left side of face became numb, including to be...</td>\n",
       "    </tr>\n",
       "    <tr>\n",
       "      <th>12</th>\n",
       "      <td>916613</td>\n",
       "      <td>On 12/30/2020 I got a pain in the stomach as i...</td>\n",
       "    </tr>\n",
       "    <tr>\n",
       "      <th>13</th>\n",
       "      <td>916614</td>\n",
       "      <td>Elevated HR and Blood pressure. Chest tightnes...</td>\n",
       "    </tr>\n",
       "    <tr>\n",
       "      <th>14</th>\n",
       "      <td>916615</td>\n",
       "      <td>Large red, raised itchy area surrounding injec...</td>\n",
       "    </tr>\n",
       "    <tr>\n",
       "      <th>15</th>\n",
       "      <td>916617</td>\n",
       "      <td>Dizziness, chills, fever, muscle aches, pain a...</td>\n",
       "    </tr>\n",
       "    <tr>\n",
       "      <th>16</th>\n",
       "      <td>916618</td>\n",
       "      <td>Soreness at injection site, especially when ra...</td>\n",
       "    </tr>\n",
       "    <tr>\n",
       "      <th>17</th>\n",
       "      <td>916619</td>\n",
       "      <td>Within two days of receiving COVID vaccine, I ...</td>\n",
       "    </tr>\n",
       "    <tr>\n",
       "      <th>18</th>\n",
       "      <td>916620</td>\n",
       "      <td>1.  Sore arm started several hours later appro...</td>\n",
       "    </tr>\n",
       "    <tr>\n",
       "      <th>19</th>\n",
       "      <td>916621</td>\n",
       "      <td>Fatigue - 2 hours prior. Muscle aches/pain - 3...</td>\n",
       "    </tr>\n",
       "    <tr>\n",
       "      <th>20</th>\n",
       "      <td>916622</td>\n",
       "      <td>Felt a little nauseous and a little headache s...</td>\n",
       "    </tr>\n",
       "    <tr>\n",
       "      <th>21</th>\n",
       "      <td>916623</td>\n",
       "      <td>Soreness at site of injection</td>\n",
       "    </tr>\n",
       "    <tr>\n",
       "      <th>22</th>\n",
       "      <td>916624</td>\n",
       "      <td>Swelling, warmth, induration, itchy. All about...</td>\n",
       "    </tr>\n",
       "    <tr>\n",
       "      <th>23</th>\n",
       "      <td>916625</td>\n",
       "      <td>Tachycardia approximately 10mins after receivi...</td>\n",
       "    </tr>\n",
       "    <tr>\n",
       "      <th>24</th>\n",
       "      <td>916626</td>\n",
       "      <td>Redness and itching to hands and forearms. als...</td>\n",
       "    </tr>\n",
       "    <tr>\n",
       "      <th>25</th>\n",
       "      <td>916627</td>\n",
       "      <td>Redness/induration at injection site, silver c...</td>\n",
       "    </tr>\n",
       "    <tr>\n",
       "      <th>26</th>\n",
       "      <td>916628</td>\n",
       "      <td>Arm soreness, bodyaches, slight temp, cough.</td>\n",
       "    </tr>\n",
       "    <tr>\n",
       "      <th>27</th>\n",
       "      <td>916629</td>\n",
       "      <td>Headache, chills, muscle aches and weakness</td>\n",
       "    </tr>\n",
       "    <tr>\n",
       "      <th>28</th>\n",
       "      <td>916630</td>\n",
       "      <td>(Typical soreness at injection site for severa...</td>\n",
       "    </tr>\n",
       "    <tr>\n",
       "      <th>29</th>\n",
       "      <td>916631</td>\n",
       "      <td>Arm pain throughout the day that worsened (cou...</td>\n",
       "    </tr>\n",
       "    <tr>\n",
       "      <th>...</th>\n",
       "      <td>...</td>\n",
       "      <td>...</td>\n",
       "    </tr>\n",
       "    <tr>\n",
       "      <th>108161</th>\n",
       "      <td>1245354</td>\n",
       "      <td>PINPRICK RASH TO ELBOWS; SWEATING; This sponta...</td>\n",
       "    </tr>\n",
       "    <tr>\n",
       "      <th>108162</th>\n",
       "      <td>1245355</td>\n",
       "      <td>SHAKING; BODY ACHE; CHILLS; FEVER; HEADACHE; T...</td>\n",
       "    </tr>\n",
       "    <tr>\n",
       "      <th>108163</th>\n",
       "      <td>1245370</td>\n",
       "      <td>very tired and sleep 18 hours; passed away; se...</td>\n",
       "    </tr>\n",
       "    <tr>\n",
       "      <th>108164</th>\n",
       "      <td>1245371</td>\n",
       "      <td>irritated her heart condition; Clot blood; wea...</td>\n",
       "    </tr>\n",
       "    <tr>\n",
       "      <th>108165</th>\n",
       "      <td>1245392</td>\n",
       "      <td>arm was really sore; felt tired; passed away /...</td>\n",
       "    </tr>\n",
       "    <tr>\n",
       "      <th>108166</th>\n",
       "      <td>1245400</td>\n",
       "      <td>Death; This spontaneous case was reported by a...</td>\n",
       "    </tr>\n",
       "    <tr>\n",
       "      <th>108167</th>\n",
       "      <td>1245485</td>\n",
       "      <td>death after 1 dose of vaccine; This spontaneou...</td>\n",
       "    </tr>\n",
       "    <tr>\n",
       "      <th>108168</th>\n",
       "      <td>1245569</td>\n",
       "      <td>THROMBOEMBOLIC COMPLICATION; This spontaneous ...</td>\n",
       "    </tr>\n",
       "    <tr>\n",
       "      <th>108169</th>\n",
       "      <td>1245667</td>\n",
       "      <td>FEVER; This spontaneous report was received fr...</td>\n",
       "    </tr>\n",
       "    <tr>\n",
       "      <th>108170</th>\n",
       "      <td>1245668</td>\n",
       "      <td>SHAKING; DID NOT SLEEP LAST NIGHT AT ALL; REST...</td>\n",
       "    </tr>\n",
       "    <tr>\n",
       "      <th>108171</th>\n",
       "      <td>1245669</td>\n",
       "      <td>BILATERAL LEG BODY ACHE; LEFT JAW PAIN; INJECT...</td>\n",
       "    </tr>\n",
       "    <tr>\n",
       "      <th>108172</th>\n",
       "      <td>1245670</td>\n",
       "      <td>FEVER; CHILLS; MUSCLE ACHE; This spontaneous r...</td>\n",
       "    </tr>\n",
       "    <tr>\n",
       "      <th>108173</th>\n",
       "      <td>1245671</td>\n",
       "      <td>CHEST HURTS; SHORTNESS OF BREATH; SHAKING INTE...</td>\n",
       "    </tr>\n",
       "    <tr>\n",
       "      <th>108174</th>\n",
       "      <td>1245672</td>\n",
       "      <td>RIGHT ARM PAIN; DON'T FEEL WELL; CHILLS; FEVER...</td>\n",
       "    </tr>\n",
       "    <tr>\n",
       "      <th>108175</th>\n",
       "      <td>1245673</td>\n",
       "      <td>Body ache; Chills; Fever; This spontaneous rep...</td>\n",
       "    </tr>\n",
       "    <tr>\n",
       "      <th>108176</th>\n",
       "      <td>1245674</td>\n",
       "      <td>MILD FEVER; FELT TIRED; CHILLS; BODY ACHES; WE...</td>\n",
       "    </tr>\n",
       "    <tr>\n",
       "      <th>108177</th>\n",
       "      <td>1245675</td>\n",
       "      <td>FATIGUE; MILKY PRESENSE IN THE VACCINE; This s...</td>\n",
       "    </tr>\n",
       "    <tr>\n",
       "      <th>108178</th>\n",
       "      <td>1245676</td>\n",
       "      <td>ADMINISTERED WHOLE VIAL; FELT A LITTLE TIRED; ...</td>\n",
       "    </tr>\n",
       "    <tr>\n",
       "      <th>108179</th>\n",
       "      <td>1245677</td>\n",
       "      <td>EXPIRED VACCINE ADMINISTERED; This spontaneous...</td>\n",
       "    </tr>\n",
       "    <tr>\n",
       "      <th>108180</th>\n",
       "      <td>1245678</td>\n",
       "      <td>NEEDLE BROKE COMPLETELY; MEDICATION ERROR; SYR...</td>\n",
       "    </tr>\n",
       "    <tr>\n",
       "      <th>108181</th>\n",
       "      <td>1245679</td>\n",
       "      <td>RECEIVED A FULL VIAL OF THE VACCINE; This spon...</td>\n",
       "    </tr>\n",
       "    <tr>\n",
       "      <th>108182</th>\n",
       "      <td>1245680</td>\n",
       "      <td>FEELING FOGGY; NERVE PAIN; JOINT PAIN IN FEET,...</td>\n",
       "    </tr>\n",
       "    <tr>\n",
       "      <th>108183</th>\n",
       "      <td>1245681</td>\n",
       "      <td>FELT TIRED; This spontaneous report received f...</td>\n",
       "    </tr>\n",
       "    <tr>\n",
       "      <th>108184</th>\n",
       "      <td>1245682</td>\n",
       "      <td>HAND EXTREMELY COLD; SEVERE CHILLS/TEETH CHATT...</td>\n",
       "    </tr>\n",
       "    <tr>\n",
       "      <th>108185</th>\n",
       "      <td>1245683</td>\n",
       "      <td>HANGOVER; CHILLS (SHAKING); FEVER; HEADACHE; N...</td>\n",
       "    </tr>\n",
       "    <tr>\n",
       "      <th>108186</th>\n",
       "      <td>1245684</td>\n",
       "      <td>HEAD SPINNING/WORLD SPINNING/ VERTIGO; SLIGHT ...</td>\n",
       "    </tr>\n",
       "    <tr>\n",
       "      <th>108187</th>\n",
       "      <td>1245685</td>\n",
       "      <td>BODY ACHES; WOKE UP SWEATY AND DRENCHED; THOUG...</td>\n",
       "    </tr>\n",
       "    <tr>\n",
       "      <th>108188</th>\n",
       "      <td>1245686</td>\n",
       "      <td>SWOLLEN LYMPH NODE; THROAT FEELING A LITTLE NU...</td>\n",
       "    </tr>\n",
       "    <tr>\n",
       "      <th>108189</th>\n",
       "      <td>1245687</td>\n",
       "      <td>DIZZINESS; SEVERE HEADACHE; NAUSEA; TEMPERATUR...</td>\n",
       "    </tr>\n",
       "    <tr>\n",
       "      <th>108190</th>\n",
       "      <td>1245985</td>\n",
       "      <td>This 80 year old   white  male received the Co...</td>\n",
       "    </tr>\n",
       "  </tbody>\n",
       "</table>\n",
       "<p>108191 rows × 2 columns</p>\n",
       "</div>"
      ],
      "text/plain": [
       "        VAERS_ID                                       SYMPTOM_TEXT\n",
       "0         916600  Right side of epiglottis swelled up and hinder...\n",
       "1         916601  Approximately 30 min post vaccination administ...\n",
       "2         916602  About 15 minutes after receiving the vaccine, ...\n",
       "3         916603  extreme fatigue, dizziness,. could not lift my...\n",
       "4         916604  Injection site swelling, redness, warm to the ...\n",
       "5         916606  patient called back the next day and stated he...\n",
       "6         916607  SEVERE chills approximately 13-14 hours after ...\n",
       "7         916608                      Nasal congestion and diarrhea\n",
       "8         916609  On day 9 following the vaccination I noticed a...\n",
       "9         916610  hives and rash all over body that has not gone...\n",
       "10        916611  12pm Received shot 1 pm Sore arm at injection ...\n",
       "11        916612  Left side of face became numb, including to be...\n",
       "12        916613  On 12/30/2020 I got a pain in the stomach as i...\n",
       "13        916614  Elevated HR and Blood pressure. Chest tightnes...\n",
       "14        916615  Large red, raised itchy area surrounding injec...\n",
       "15        916617  Dizziness, chills, fever, muscle aches, pain a...\n",
       "16        916618  Soreness at injection site, especially when ra...\n",
       "17        916619  Within two days of receiving COVID vaccine, I ...\n",
       "18        916620  1.  Sore arm started several hours later appro...\n",
       "19        916621  Fatigue - 2 hours prior. Muscle aches/pain - 3...\n",
       "20        916622  Felt a little nauseous and a little headache s...\n",
       "21        916623                      Soreness at site of injection\n",
       "22        916624  Swelling, warmth, induration, itchy. All about...\n",
       "23        916625  Tachycardia approximately 10mins after receivi...\n",
       "24        916626  Redness and itching to hands and forearms. als...\n",
       "25        916627  Redness/induration at injection site, silver c...\n",
       "26        916628       Arm soreness, bodyaches, slight temp, cough.\n",
       "27        916629        Headache, chills, muscle aches and weakness\n",
       "28        916630  (Typical soreness at injection site for severa...\n",
       "29        916631  Arm pain throughout the day that worsened (cou...\n",
       "...          ...                                                ...\n",
       "108161   1245354  PINPRICK RASH TO ELBOWS; SWEATING; This sponta...\n",
       "108162   1245355  SHAKING; BODY ACHE; CHILLS; FEVER; HEADACHE; T...\n",
       "108163   1245370  very tired and sleep 18 hours; passed away; se...\n",
       "108164   1245371  irritated her heart condition; Clot blood; wea...\n",
       "108165   1245392  arm was really sore; felt tired; passed away /...\n",
       "108166   1245400  Death; This spontaneous case was reported by a...\n",
       "108167   1245485  death after 1 dose of vaccine; This spontaneou...\n",
       "108168   1245569  THROMBOEMBOLIC COMPLICATION; This spontaneous ...\n",
       "108169   1245667  FEVER; This spontaneous report was received fr...\n",
       "108170   1245668  SHAKING; DID NOT SLEEP LAST NIGHT AT ALL; REST...\n",
       "108171   1245669  BILATERAL LEG BODY ACHE; LEFT JAW PAIN; INJECT...\n",
       "108172   1245670  FEVER; CHILLS; MUSCLE ACHE; This spontaneous r...\n",
       "108173   1245671  CHEST HURTS; SHORTNESS OF BREATH; SHAKING INTE...\n",
       "108174   1245672  RIGHT ARM PAIN; DON'T FEEL WELL; CHILLS; FEVER...\n",
       "108175   1245673  Body ache; Chills; Fever; This spontaneous rep...\n",
       "108176   1245674  MILD FEVER; FELT TIRED; CHILLS; BODY ACHES; WE...\n",
       "108177   1245675  FATIGUE; MILKY PRESENSE IN THE VACCINE; This s...\n",
       "108178   1245676  ADMINISTERED WHOLE VIAL; FELT A LITTLE TIRED; ...\n",
       "108179   1245677  EXPIRED VACCINE ADMINISTERED; This spontaneous...\n",
       "108180   1245678  NEEDLE BROKE COMPLETELY; MEDICATION ERROR; SYR...\n",
       "108181   1245679  RECEIVED A FULL VIAL OF THE VACCINE; This spon...\n",
       "108182   1245680  FEELING FOGGY; NERVE PAIN; JOINT PAIN IN FEET,...\n",
       "108183   1245681  FELT TIRED; This spontaneous report received f...\n",
       "108184   1245682  HAND EXTREMELY COLD; SEVERE CHILLS/TEETH CHATT...\n",
       "108185   1245683  HANGOVER; CHILLS (SHAKING); FEVER; HEADACHE; N...\n",
       "108186   1245684  HEAD SPINNING/WORLD SPINNING/ VERTIGO; SLIGHT ...\n",
       "108187   1245685  BODY ACHES; WOKE UP SWEATY AND DRENCHED; THOUG...\n",
       "108188   1245686  SWOLLEN LYMPH NODE; THROAT FEELING A LITTLE NU...\n",
       "108189   1245687  DIZZINESS; SEVERE HEADACHE; NAUSEA; TEMPERATUR...\n",
       "108190   1245985  This 80 year old   white  male received the Co...\n",
       "\n",
       "[108191 rows x 2 columns]"
      ]
     },
     "execution_count": 8,
     "metadata": {},
     "output_type": "execute_result"
    }
   ],
   "source": [
    "vaers_X = vaers_df[['VAERS_ID', 'SYMPTOM_TEXT']]\n",
    "vaers_X"
   ]
  },
  {
   "cell_type": "code",
   "execution_count": 9,
   "metadata": {
    "colab": {
     "base_uri": "https://localhost:8080/",
     "height": 606
    },
    "id": "F3HMxLq2vwLl",
    "outputId": "dd3505a8-4bc1-450c-a95f-459f17b89a80"
   },
   "outputs": [
    {
     "data": {
      "text/html": [
       "<div>\n",
       "<style scoped>\n",
       "    .dataframe tbody tr th:only-of-type {\n",
       "        vertical-align: middle;\n",
       "    }\n",
       "\n",
       "    .dataframe tbody tr th {\n",
       "        vertical-align: top;\n",
       "    }\n",
       "\n",
       "    .dataframe thead th {\n",
       "        text-align: right;\n",
       "    }\n",
       "</style>\n",
       "<table border=\"1\" class=\"dataframe\">\n",
       "  <thead>\n",
       "    <tr style=\"text-align: right;\">\n",
       "      <th></th>\n",
       "      <th>VAERS_ID</th>\n",
       "      <th>SYMPTOM_TEXT</th>\n",
       "      <th>symptoms</th>\n",
       "      <th>fulltext</th>\n",
       "    </tr>\n",
       "  </thead>\n",
       "  <tbody>\n",
       "    <tr>\n",
       "      <th>0</th>\n",
       "      <td>916600</td>\n",
       "      <td>Right side of epiglottis swelled up and hinder...</td>\n",
       "      <td>Dysphagia, Epiglottitis</td>\n",
       "      <td>My symptoms are Dysphagia, Epiglottitis. Right...</td>\n",
       "    </tr>\n",
       "    <tr>\n",
       "      <th>1</th>\n",
       "      <td>916601</td>\n",
       "      <td>Approximately 30 min post vaccination administ...</td>\n",
       "      <td>Anxiety, Dyspnoea</td>\n",
       "      <td>My symptoms are Anxiety, Dyspnoea. Approximate...</td>\n",
       "    </tr>\n",
       "    <tr>\n",
       "      <th>2</th>\n",
       "      <td>916602</td>\n",
       "      <td>About 15 minutes after receiving the vaccine, ...</td>\n",
       "      <td>Chest discomfort, Dysphagia, Pain in extremity...</td>\n",
       "      <td>My symptoms are Chest discomfort, Dysphagia, P...</td>\n",
       "    </tr>\n",
       "    <tr>\n",
       "      <th>3</th>\n",
       "      <td>916603</td>\n",
       "      <td>extreme fatigue, dizziness,. could not lift my...</td>\n",
       "      <td>Dizziness, Fatigue, Mobility decreased</td>\n",
       "      <td>My symptoms are Dizziness, Fatigue, Mobility d...</td>\n",
       "    </tr>\n",
       "    <tr>\n",
       "      <th>4</th>\n",
       "      <td>916604</td>\n",
       "      <td>Injection site swelling, redness, warm to the ...</td>\n",
       "      <td>Injection site erythema, Injection site prurit...</td>\n",
       "      <td>My symptoms are Injection site erythema, Injec...</td>\n",
       "    </tr>\n",
       "  </tbody>\n",
       "</table>\n",
       "</div>"
      ],
      "text/plain": [
       "   VAERS_ID                                       SYMPTOM_TEXT  \\\n",
       "0    916600  Right side of epiglottis swelled up and hinder...   \n",
       "1    916601  Approximately 30 min post vaccination administ...   \n",
       "2    916602  About 15 minutes after receiving the vaccine, ...   \n",
       "3    916603  extreme fatigue, dizziness,. could not lift my...   \n",
       "4    916604  Injection site swelling, redness, warm to the ...   \n",
       "\n",
       "                                            symptoms  \\\n",
       "0                            Dysphagia, Epiglottitis   \n",
       "1                                  Anxiety, Dyspnoea   \n",
       "2  Chest discomfort, Dysphagia, Pain in extremity...   \n",
       "3             Dizziness, Fatigue, Mobility decreased   \n",
       "4  Injection site erythema, Injection site prurit...   \n",
       "\n",
       "                                            fulltext  \n",
       "0  My symptoms are Dysphagia, Epiglottitis. Right...  \n",
       "1  My symptoms are Anxiety, Dyspnoea. Approximate...  \n",
       "2  My symptoms are Chest discomfort, Dysphagia, P...  \n",
       "3  My symptoms are Dizziness, Fatigue, Mobility d...  \n",
       "4  My symptoms are Injection site erythema, Injec...  "
      ]
     },
     "metadata": {},
     "output_type": "display_data"
    },
    {
     "data": {
      "text/html": [
       "<div>\n",
       "<style scoped>\n",
       "    .dataframe tbody tr th:only-of-type {\n",
       "        vertical-align: middle;\n",
       "    }\n",
       "\n",
       "    .dataframe tbody tr th {\n",
       "        vertical-align: top;\n",
       "    }\n",
       "\n",
       "    .dataframe thead th {\n",
       "        text-align: right;\n",
       "    }\n",
       "</style>\n",
       "<table border=\"1\" class=\"dataframe\">\n",
       "  <thead>\n",
       "    <tr style=\"text-align: right;\">\n",
       "      <th></th>\n",
       "      <th>fulltext</th>\n",
       "    </tr>\n",
       "  </thead>\n",
       "  <tbody>\n",
       "    <tr>\n",
       "      <th>0</th>\n",
       "      <td>My symptoms are Dysphagia, Epiglottitis. Right...</td>\n",
       "    </tr>\n",
       "    <tr>\n",
       "      <th>1</th>\n",
       "      <td>My symptoms are Anxiety, Dyspnoea. Approximate...</td>\n",
       "    </tr>\n",
       "    <tr>\n",
       "      <th>2</th>\n",
       "      <td>My symptoms are Chest discomfort, Dysphagia, P...</td>\n",
       "    </tr>\n",
       "    <tr>\n",
       "      <th>3</th>\n",
       "      <td>My symptoms are Dizziness, Fatigue, Mobility d...</td>\n",
       "    </tr>\n",
       "    <tr>\n",
       "      <th>4</th>\n",
       "      <td>My symptoms are Injection site erythema, Injec...</td>\n",
       "    </tr>\n",
       "    <tr>\n",
       "      <th>5</th>\n",
       "      <td>My symptoms are Pharyngeal swelling. patient c...</td>\n",
       "    </tr>\n",
       "    <tr>\n",
       "      <th>6</th>\n",
       "      <td>My symptoms are Abdominal pain, Chills, Sleep ...</td>\n",
       "    </tr>\n",
       "    <tr>\n",
       "      <th>7</th>\n",
       "      <td>My symptoms are Diarrhoea, Nasal congestion. N...</td>\n",
       "    </tr>\n",
       "    <tr>\n",
       "      <th>8</th>\n",
       "      <td>My symptoms are Vaccination site erythema, Vac...</td>\n",
       "    </tr>\n",
       "    <tr>\n",
       "      <th>9</th>\n",
       "      <td>My symptoms are Rash, Urticaria. hives and ras...</td>\n",
       "    </tr>\n",
       "    <tr>\n",
       "      <th>10</th>\n",
       "      <td>My symptoms are Blood pressure decreased, Ches...</td>\n",
       "    </tr>\n",
       "    <tr>\n",
       "      <th>11</th>\n",
       "      <td>My symptoms are Ear pain, Hypoaesthesia. Left ...</td>\n",
       "    </tr>\n",
       "    <tr>\n",
       "      <th>12</th>\n",
       "      <td>My symptoms are Abdominal pain upper, Dizzines...</td>\n",
       "    </tr>\n",
       "    <tr>\n",
       "      <th>13</th>\n",
       "      <td>My symptoms are Blood pressure increased, Ches...</td>\n",
       "    </tr>\n",
       "    <tr>\n",
       "      <th>14</th>\n",
       "      <td>My symptoms are Injection site erythema, Injec...</td>\n",
       "    </tr>\n",
       "    <tr>\n",
       "      <th>15</th>\n",
       "      <td>My symptoms are Chills, Dizziness, Injection s...</td>\n",
       "    </tr>\n",
       "    <tr>\n",
       "      <th>16</th>\n",
       "      <td>My symptoms are Injection site pain, Pain. Sor...</td>\n",
       "    </tr>\n",
       "    <tr>\n",
       "      <th>17</th>\n",
       "      <td>My symptoms are Injection site pain, Menorrhag...</td>\n",
       "    </tr>\n",
       "    <tr>\n",
       "      <th>18</th>\n",
       "      <td>My symptoms are Arthralgia, Chills, Headache, ...</td>\n",
       "    </tr>\n",
       "    <tr>\n",
       "      <th>19</th>\n",
       "      <td>My symptoms are Chills, Fatigue, Headache, Mya...</td>\n",
       "    </tr>\n",
       "    <tr>\n",
       "      <th>20</th>\n",
       "      <td>My symptoms are Headache, Heart rate increased...</td>\n",
       "    </tr>\n",
       "    <tr>\n",
       "      <th>21</th>\n",
       "      <td>My symptoms are Injection site pain. Soreness ...</td>\n",
       "    </tr>\n",
       "    <tr>\n",
       "      <th>22</th>\n",
       "      <td>My symptoms are Injection site induration, Inj...</td>\n",
       "    </tr>\n",
       "    <tr>\n",
       "      <th>23</th>\n",
       "      <td>My symptoms are Chills, Dizziness, Nausea, Pai...</td>\n",
       "    </tr>\n",
       "    <tr>\n",
       "      <th>24</th>\n",
       "      <td>My symptoms are Erythema, Pruritus. Redness an...</td>\n",
       "    </tr>\n",
       "    <tr>\n",
       "      <th>25</th>\n",
       "      <td>My symptoms are Injection site erythema, Injec...</td>\n",
       "    </tr>\n",
       "    <tr>\n",
       "      <th>26</th>\n",
       "      <td>My symptoms are Cough, Limb discomfort, Pain, ...</td>\n",
       "    </tr>\n",
       "    <tr>\n",
       "      <th>27</th>\n",
       "      <td>My symptoms are Asthenia, Chills, Headache, My...</td>\n",
       "    </tr>\n",
       "    <tr>\n",
       "      <th>28</th>\n",
       "      <td>My symptoms are Injection site erythema, Injec...</td>\n",
       "    </tr>\n",
       "    <tr>\n",
       "      <th>29</th>\n",
       "      <td>My symptoms are Chills, Feeling cold, Feeling ...</td>\n",
       "    </tr>\n",
       "    <tr>\n",
       "      <th>...</th>\n",
       "      <td>...</td>\n",
       "    </tr>\n",
       "    <tr>\n",
       "      <th>108160</th>\n",
       "      <td>My symptoms are Hyperhidrosis, Rash. PINPRICK ...</td>\n",
       "    </tr>\n",
       "    <tr>\n",
       "      <th>108161</th>\n",
       "      <td>My symptoms are Chills, Headache, Pain, Pyrexi...</td>\n",
       "    </tr>\n",
       "    <tr>\n",
       "      <th>108162</th>\n",
       "      <td>My symptoms are Chest pain, Death, Fatigue, In...</td>\n",
       "    </tr>\n",
       "    <tr>\n",
       "      <th>108163</th>\n",
       "      <td>My symptoms are Cardiac disorder, Cerebrovascu...</td>\n",
       "    </tr>\n",
       "    <tr>\n",
       "      <th>108164</th>\n",
       "      <td>My symptoms are Death, Fatigue, Vaccination si...</td>\n",
       "    </tr>\n",
       "    <tr>\n",
       "      <th>108165</th>\n",
       "      <td>My symptoms are Death. Death; This spontaneous...</td>\n",
       "    </tr>\n",
       "    <tr>\n",
       "      <th>108166</th>\n",
       "      <td>My symptoms are Death. death after 1 dose of v...</td>\n",
       "    </tr>\n",
       "    <tr>\n",
       "      <th>108167</th>\n",
       "      <td>My symptoms are Embolism. THROMBOEMBOLIC COMPL...</td>\n",
       "    </tr>\n",
       "    <tr>\n",
       "      <th>108168</th>\n",
       "      <td>My symptoms are Body temperature, Pyrexia. FEV...</td>\n",
       "    </tr>\n",
       "    <tr>\n",
       "      <th>108169</th>\n",
       "      <td>My symptoms are Chills, Feeling abnormal, Head...</td>\n",
       "    </tr>\n",
       "    <tr>\n",
       "      <th>108170</th>\n",
       "      <td>My symptoms are Injection site pain, Pain in e...</td>\n",
       "    </tr>\n",
       "    <tr>\n",
       "      <th>108171</th>\n",
       "      <td>My symptoms are Chills, Myalgia, Pyrexia. FEVE...</td>\n",
       "    </tr>\n",
       "    <tr>\n",
       "      <th>108172</th>\n",
       "      <td>My symptoms are Chest pain, Chills, Dyspnoea, ...</td>\n",
       "    </tr>\n",
       "    <tr>\n",
       "      <th>108173</th>\n",
       "      <td>My symptoms are Adverse drug reaction, Astheni...</td>\n",
       "    </tr>\n",
       "    <tr>\n",
       "      <th>108174</th>\n",
       "      <td>My symptoms are Chills, Pain, Pyrexia. Body ac...</td>\n",
       "    </tr>\n",
       "    <tr>\n",
       "      <th>108175</th>\n",
       "      <td>My symptoms are Asthenia, Chills, Fatigue, Pai...</td>\n",
       "    </tr>\n",
       "    <tr>\n",
       "      <th>108176</th>\n",
       "      <td>My symptoms are Fatigue, Product quality issue...</td>\n",
       "    </tr>\n",
       "    <tr>\n",
       "      <th>108177</th>\n",
       "      <td>My symptoms are Fatigue, Overdose. ADMINISTERE...</td>\n",
       "    </tr>\n",
       "    <tr>\n",
       "      <th>108178</th>\n",
       "      <td>My symptoms are Expired product administered. ...</td>\n",
       "    </tr>\n",
       "    <tr>\n",
       "      <th>108179</th>\n",
       "      <td>My symptoms are Medication error, Needle issue...</td>\n",
       "    </tr>\n",
       "    <tr>\n",
       "      <th>108180</th>\n",
       "      <td>My symptoms are Overdose. RECEIVED A FULL VIAL...</td>\n",
       "    </tr>\n",
       "    <tr>\n",
       "      <th>108181</th>\n",
       "      <td>My symptoms are Arthralgia, Fatigue, Feeling a...</td>\n",
       "    </tr>\n",
       "    <tr>\n",
       "      <th>108182</th>\n",
       "      <td>My symptoms are Fatigue. FELT TIRED; This spon...</td>\n",
       "    </tr>\n",
       "    <tr>\n",
       "      <th>108183</th>\n",
       "      <td>My symptoms are Chills, Feeling cold. HAND EXT...</td>\n",
       "    </tr>\n",
       "    <tr>\n",
       "      <th>108184</th>\n",
       "      <td>My symptoms are Body temperature, Chills, Hang...</td>\n",
       "    </tr>\n",
       "    <tr>\n",
       "      <th>108185</th>\n",
       "      <td>My symptoms are Dizziness, Vertigo. HEAD SPINN...</td>\n",
       "    </tr>\n",
       "    <tr>\n",
       "      <th>108186</th>\n",
       "      <td>My symptoms are Chills, Feeling abnormal, Head...</td>\n",
       "    </tr>\n",
       "    <tr>\n",
       "      <th>108187</th>\n",
       "      <td>My symptoms are Chills, Headache, Heart rate, ...</td>\n",
       "    </tr>\n",
       "    <tr>\n",
       "      <th>108188</th>\n",
       "      <td>My symptoms are Body temperature, Body tempera...</td>\n",
       "    </tr>\n",
       "    <tr>\n",
       "      <th>108189</th>\n",
       "      <td>My symptoms are Death. This 80 year old   whit...</td>\n",
       "    </tr>\n",
       "  </tbody>\n",
       "</table>\n",
       "<p>108190 rows × 1 columns</p>\n",
       "</div>"
      ],
      "text/plain": [
       "                                                 fulltext\n",
       "0       My symptoms are Dysphagia, Epiglottitis. Right...\n",
       "1       My symptoms are Anxiety, Dyspnoea. Approximate...\n",
       "2       My symptoms are Chest discomfort, Dysphagia, P...\n",
       "3       My symptoms are Dizziness, Fatigue, Mobility d...\n",
       "4       My symptoms are Injection site erythema, Injec...\n",
       "5       My symptoms are Pharyngeal swelling. patient c...\n",
       "6       My symptoms are Abdominal pain, Chills, Sleep ...\n",
       "7       My symptoms are Diarrhoea, Nasal congestion. N...\n",
       "8       My symptoms are Vaccination site erythema, Vac...\n",
       "9       My symptoms are Rash, Urticaria. hives and ras...\n",
       "10      My symptoms are Blood pressure decreased, Ches...\n",
       "11      My symptoms are Ear pain, Hypoaesthesia. Left ...\n",
       "12      My symptoms are Abdominal pain upper, Dizzines...\n",
       "13      My symptoms are Blood pressure increased, Ches...\n",
       "14      My symptoms are Injection site erythema, Injec...\n",
       "15      My symptoms are Chills, Dizziness, Injection s...\n",
       "16      My symptoms are Injection site pain, Pain. Sor...\n",
       "17      My symptoms are Injection site pain, Menorrhag...\n",
       "18      My symptoms are Arthralgia, Chills, Headache, ...\n",
       "19      My symptoms are Chills, Fatigue, Headache, Mya...\n",
       "20      My symptoms are Headache, Heart rate increased...\n",
       "21      My symptoms are Injection site pain. Soreness ...\n",
       "22      My symptoms are Injection site induration, Inj...\n",
       "23      My symptoms are Chills, Dizziness, Nausea, Pai...\n",
       "24      My symptoms are Erythema, Pruritus. Redness an...\n",
       "25      My symptoms are Injection site erythema, Injec...\n",
       "26      My symptoms are Cough, Limb discomfort, Pain, ...\n",
       "27      My symptoms are Asthenia, Chills, Headache, My...\n",
       "28      My symptoms are Injection site erythema, Injec...\n",
       "29      My symptoms are Chills, Feeling cold, Feeling ...\n",
       "...                                                   ...\n",
       "108160  My symptoms are Hyperhidrosis, Rash. PINPRICK ...\n",
       "108161  My symptoms are Chills, Headache, Pain, Pyrexi...\n",
       "108162  My symptoms are Chest pain, Death, Fatigue, In...\n",
       "108163  My symptoms are Cardiac disorder, Cerebrovascu...\n",
       "108164  My symptoms are Death, Fatigue, Vaccination si...\n",
       "108165  My symptoms are Death. Death; This spontaneous...\n",
       "108166  My symptoms are Death. death after 1 dose of v...\n",
       "108167  My symptoms are Embolism. THROMBOEMBOLIC COMPL...\n",
       "108168  My symptoms are Body temperature, Pyrexia. FEV...\n",
       "108169  My symptoms are Chills, Feeling abnormal, Head...\n",
       "108170  My symptoms are Injection site pain, Pain in e...\n",
       "108171  My symptoms are Chills, Myalgia, Pyrexia. FEVE...\n",
       "108172  My symptoms are Chest pain, Chills, Dyspnoea, ...\n",
       "108173  My symptoms are Adverse drug reaction, Astheni...\n",
       "108174  My symptoms are Chills, Pain, Pyrexia. Body ac...\n",
       "108175  My symptoms are Asthenia, Chills, Fatigue, Pai...\n",
       "108176  My symptoms are Fatigue, Product quality issue...\n",
       "108177  My symptoms are Fatigue, Overdose. ADMINISTERE...\n",
       "108178  My symptoms are Expired product administered. ...\n",
       "108179  My symptoms are Medication error, Needle issue...\n",
       "108180  My symptoms are Overdose. RECEIVED A FULL VIAL...\n",
       "108181  My symptoms are Arthralgia, Fatigue, Feeling a...\n",
       "108182  My symptoms are Fatigue. FELT TIRED; This spon...\n",
       "108183  My symptoms are Chills, Feeling cold. HAND EXT...\n",
       "108184  My symptoms are Body temperature, Chills, Hang...\n",
       "108185  My symptoms are Dizziness, Vertigo. HEAD SPINN...\n",
       "108186  My symptoms are Chills, Feeling abnormal, Head...\n",
       "108187  My symptoms are Chills, Headache, Heart rate, ...\n",
       "108188  My symptoms are Body temperature, Body tempera...\n",
       "108189  My symptoms are Death. This 80 year old   whit...\n",
       "\n",
       "[108190 rows x 1 columns]"
      ]
     },
     "metadata": {},
     "output_type": "display_data"
    }
   ],
   "source": [
    "full_X = pd.merge(vaers_X, sym_X, on=['VAERS_ID'])\n",
    "full_X['fulltext'] = 'My symptoms are ' + full_X['symptoms'] + \". \" + full_X['SYMPTOM_TEXT']\n",
    "X = full_X[['fulltext']]\n",
    "display(full_X.head())\n",
    "display(X)"
   ]
  },
  {
   "cell_type": "markdown",
   "metadata": {
    "id": "chSKVtzv90mr"
   },
   "source": [
    "### Target Extraction"
   ]
  },
  {
   "cell_type": "code",
   "execution_count": 10,
   "metadata": {
    "id": "2x6IA2V3xac5"
   },
   "outputs": [],
   "source": [
    "new_vaers_df = pd.merge(vaers_df, sym_X, on=['VAERS_ID'])"
   ]
  },
  {
   "cell_type": "code",
   "execution_count": 11,
   "metadata": {
    "colab": {
     "base_uri": "https://localhost:8080/"
    },
    "id": "s3cgumiq4uZH",
    "outputId": "80edc683-4aec-4079-808c-18940dd4e84e"
   },
   "outputs": [
    {
     "data": {
      "text/plain": [
       "array([[0., 1., 0.],\n",
       "       [0., 1., 0.],\n",
       "       [0., 0., 1.],\n",
       "       ...,\n",
       "       [1., 0., 0.],\n",
       "       [1., 0., 0.],\n",
       "       [0., 0., 1.]], dtype=float32)"
      ]
     },
     "execution_count": 11,
     "metadata": {},
     "output_type": "execute_result"
    }
   ],
   "source": [
    "# Non-binary classification\n",
    "y_target = np.zeros(len(new_vaers_df))\n",
    "target_level_1 = ~new_vaers_df[['HOSPITAL', 'OFC_VISIT']].isna().T.all()\n",
    "target_level_2 = ~new_vaers_df[['DIED', 'L_THREAT', 'ER_VISIT', 'DISABLE', 'BIRTH_DEFECT', 'ER_ED_VISIT']].isna().T.all()\n",
    "y_target[target_level_1] = 1\n",
    "y_target[target_level_2] = 2\n",
    "y_target = tf.one_hot(y_target, 3).numpy()\n",
    "y_target"
   ]
  },
  {
   "cell_type": "code",
   "execution_count": 12,
   "metadata": {
    "id": "ZNBa7lAcpcP2"
   },
   "outputs": [],
   "source": [
    "# Binary classification\n",
    "y_variation_1 = new_vaers_df[['DIED', 'L_THREAT', 'ER_VISIT', 'HOSPITAL', 'DISABLE', 'BIRTH_DEFECT', 'OFC_VISIT', 'ER_ED_VISIT']].isna().T.all()\n",
    "y_variation_2 = new_vaers_df[['DIED', 'L_THREAT', 'ER_VISIT', 'HOSPITAL', 'DISABLE', 'BIRTH_DEFECT', 'ER_ED_VISIT']].isna().T.all()"
   ]
  },
  {
   "cell_type": "markdown",
   "metadata": {
    "id": "wTQfvFmf9Hwn"
   },
   "source": [
    "### Train-Test Split"
   ]
  },
  {
   "cell_type": "code",
   "execution_count": 13,
   "metadata": {
    "colab": {
     "base_uri": "https://localhost:8080/"
    },
    "id": "6LZhOCSoCC7l",
    "outputId": "15fe6fe5-3d26-4db6-bb2f-0462e87ce5b2"
   },
   "outputs": [
    {
     "name": "stdout",
     "output_type": "stream",
     "text": [
      "(86552,)\n",
      "(86552, 3)\n",
      "[57989.0, 13367.0, 15196.0]\n",
      "(21638,)\n",
      "(21638, 3)\n",
      "[14469.0, 3364.0, 3805.0]\n"
     ]
    }
   ],
   "source": [
    "# Train-Test Split\n",
    "\n",
    "y = y_target\n",
    "\n",
    "X_train, X_test, y_train, y_test = train_test_split(X, y, test_size=0.2, random_state=97)\n",
    "X_train = np.array(X_train).reshape(X_train.shape[0]).astype('str')\n",
    "X_test = np.array(X_test).reshape(X_test.shape[0]).astype('str')\n",
    "\n",
    "print(X_train.shape)\n",
    "print(y_train.shape)\n",
    "print([y_train[:,i].sum() for i in range(3)])\n",
    "print(X_test.shape)\n",
    "print(y_test.shape)\n",
    "print([y_test[:,i].sum() for i in range(3)])"
   ]
  },
  {
   "cell_type": "code",
   "execution_count": 14,
   "metadata": {
    "id": "dT8ftx4nCC7m"
   },
   "outputs": [],
   "source": [
    "def plot_graphs(history, string):\n",
    "    plt.plot(history.history[string])\n",
    "    plt.plot(history.history['val_'+string])\n",
    "    plt.xlabel(\"Epochs\")\n",
    "    plt.ylabel(string)\n",
    "    plt.legend([string, 'val_'+string])\n",
    "    plt.show()"
   ]
  },
  {
   "cell_type": "markdown",
   "metadata": {
    "id": "rNuLuyW3CC7m"
   },
   "source": [
    "## Transfer Learning\n",
    "\n",
    "### Small Model"
   ]
  },
  {
   "cell_type": "code",
   "execution_count": null,
   "metadata": {
    "colab": {
     "base_uri": "https://localhost:8080/"
    },
    "id": "NCkD3LeMEKBd",
    "outputId": "3712e767-8726-4780-c243-03d03ea6d94f"
   },
   "outputs": [
    {
     "name": "stdout",
     "output_type": "stream",
     "text": [
      "WARNING:tensorflow:11 out of the last 11 calls to <function recreate_function.<locals>.restored_function_body at 0x7fd03c83f200> triggered tf.function retracing. Tracing is expensive and the excessive number of tracings could be due to (1) creating @tf.function repeatedly in a loop, (2) passing tensors with different shapes, (3) passing Python objects instead of tensors. For (1), please define your @tf.function outside of the loop. For (2), @tf.function has experimental_relax_shapes=True option that relaxes argument shapes that can avoid unnecessary retracing. For (3), please refer to https://www.tensorflow.org/guide/function#controlling_retracing and https://www.tensorflow.org/api_docs/python/tf/function for  more details.\n"
     ]
    },
    {
     "name": "stderr",
     "output_type": "stream",
     "text": [
      "WARNING:tensorflow:11 out of the last 11 calls to <function recreate_function.<locals>.restored_function_body at 0x7fd03c83f200> triggered tf.function retracing. Tracing is expensive and the excessive number of tracings could be due to (1) creating @tf.function repeatedly in a loop, (2) passing tensors with different shapes, (3) passing Python objects instead of tensors. For (1), please define your @tf.function outside of the loop. For (2), @tf.function has experimental_relax_shapes=True option that relaxes argument shapes that can avoid unnecessary retracing. For (3), please refer to https://www.tensorflow.org/guide/function#controlling_retracing and https://www.tensorflow.org/api_docs/python/tf/function for  more details.\n"
     ]
    },
    {
     "name": "stdout",
     "output_type": "stream",
     "text": [
      "WARNING:tensorflow:11 out of the last 11 calls to <function recreate_function.<locals>.restored_function_body at 0x7fd03b3b4200> triggered tf.function retracing. Tracing is expensive and the excessive number of tracings could be due to (1) creating @tf.function repeatedly in a loop, (2) passing tensors with different shapes, (3) passing Python objects instead of tensors. For (1), please define your @tf.function outside of the loop. For (2), @tf.function has experimental_relax_shapes=True option that relaxes argument shapes that can avoid unnecessary retracing. For (3), please refer to https://www.tensorflow.org/guide/function#controlling_retracing and https://www.tensorflow.org/api_docs/python/tf/function for  more details.\n"
     ]
    },
    {
     "name": "stderr",
     "output_type": "stream",
     "text": [
      "WARNING:tensorflow:11 out of the last 11 calls to <function recreate_function.<locals>.restored_function_body at 0x7fd03b3b4200> triggered tf.function retracing. Tracing is expensive and the excessive number of tracings could be due to (1) creating @tf.function repeatedly in a loop, (2) passing tensors with different shapes, (3) passing Python objects instead of tensors. For (1), please define your @tf.function outside of the loop. For (2), @tf.function has experimental_relax_shapes=True option that relaxes argument shapes that can avoid unnecessary retracing. For (3), please refer to https://www.tensorflow.org/guide/function#controlling_retracing and https://www.tensorflow.org/api_docs/python/tf/function for  more details.\n"
     ]
    },
    {
     "name": "stdout",
     "output_type": "stream",
     "text": [
      "WARNING:tensorflow:11 out of the last 11 calls to <function recreate_function.<locals>.restored_function_body at 0x7fd03b45e440> triggered tf.function retracing. Tracing is expensive and the excessive number of tracings could be due to (1) creating @tf.function repeatedly in a loop, (2) passing tensors with different shapes, (3) passing Python objects instead of tensors. For (1), please define your @tf.function outside of the loop. For (2), @tf.function has experimental_relax_shapes=True option that relaxes argument shapes that can avoid unnecessary retracing. For (3), please refer to https://www.tensorflow.org/guide/function#controlling_retracing and https://www.tensorflow.org/api_docs/python/tf/function for  more details.\n"
     ]
    },
    {
     "name": "stderr",
     "output_type": "stream",
     "text": [
      "WARNING:tensorflow:11 out of the last 11 calls to <function recreate_function.<locals>.restored_function_body at 0x7fd03b45e440> triggered tf.function retracing. Tracing is expensive and the excessive number of tracings could be due to (1) creating @tf.function repeatedly in a loop, (2) passing tensors with different shapes, (3) passing Python objects instead of tensors. For (1), please define your @tf.function outside of the loop. For (2), @tf.function has experimental_relax_shapes=True option that relaxes argument shapes that can avoid unnecessary retracing. For (3), please refer to https://www.tensorflow.org/guide/function#controlling_retracing and https://www.tensorflow.org/api_docs/python/tf/function for  more details.\n"
     ]
    },
    {
     "name": "stdout",
     "output_type": "stream",
     "text": [
      "(2, 20)\n"
     ]
    },
    {
     "data": {
      "text/plain": [
       "<tf.Tensor: shape=(2, 20), dtype=float32, numpy=\n",
       "array([[ 0.8666395 ,  0.35917717,  0.00579667,  0.681002  , -0.54226625,\n",
       "         0.22343189, -0.38796625,  0.62195706,  0.22117122, -0.48538068,\n",
       "        -1.2674141 ,  0.886369  , -0.32849073, -0.13924702, -0.53327686,\n",
       "         0.5739708 , -0.05905761,  0.13629246, -1.1718255 , -0.31494334],\n",
       "       [ 0.9602181 ,  0.62520486,  0.06261905,  0.37425604,  0.24782333,\n",
       "        -0.39351934, -0.7418429 ,  0.56599647, -0.26197797, -0.69016844,\n",
       "        -0.76565284,  0.71412426, -0.4537978 , -0.50701594, -0.8499377 ,\n",
       "         0.8917156 , -0.30278975,  0.2149126 , -1.1098894 , -0.46719775]],\n",
       "      dtype=float32)>"
      ]
     },
     "execution_count": 16,
     "metadata": {
      "tags": []
     },
     "output_type": "execute_result"
    }
   ],
   "source": [
    "embed = hub.load(\"https://tfhub.dev/google/tf2-preview/gnews-swivel-20dim-with-oov/1\")\n",
    "embeddings = embed([\"cat is on the mat\", \"dog is in the fog\"])\n",
    "print(embeddings.shape)\n",
    "embeddings"
   ]
  },
  {
   "cell_type": "code",
   "execution_count": null,
   "metadata": {
    "id": "Z7iTCExWCC7m",
    "outputId": "274fcec9-feee-4456-bbe4-9a82700293bf"
   },
   "outputs": [
    {
     "name": "stdout",
     "output_type": "stream",
     "text": [
      "WARNING:tensorflow:8 out of the last 8 calls to <function recreate_function.<locals>.restored_function_body at 0x000001E40A82A400> triggered tf.function retracing. Tracing is expensive and the excessive number of tracings could be due to (1) creating @tf.function repeatedly in a loop, (2) passing tensors with different shapes, (3) passing Python objects instead of tensors. For (1), please define your @tf.function outside of the loop. For (2), @tf.function has experimental_relax_shapes=True option that relaxes argument shapes that can avoid unnecessary retracing. For (3), please refer to https://www.tensorflow.org/guide/function#controlling_retracing and https://www.tensorflow.org/api_docs/python/tf/function for  more details.\n"
     ]
    },
    {
     "name": "stderr",
     "output_type": "stream",
     "text": [
      "WARNING:tensorflow:8 out of the last 8 calls to <function recreate_function.<locals>.restored_function_body at 0x000001E40A82A400> triggered tf.function retracing. Tracing is expensive and the excessive number of tracings could be due to (1) creating @tf.function repeatedly in a loop, (2) passing tensors with different shapes, (3) passing Python objects instead of tensors. For (1), please define your @tf.function outside of the loop. For (2), @tf.function has experimental_relax_shapes=True option that relaxes argument shapes that can avoid unnecessary retracing. For (3), please refer to https://www.tensorflow.org/guide/function#controlling_retracing and https://www.tensorflow.org/api_docs/python/tf/function for  more details.\n"
     ]
    },
    {
     "name": "stdout",
     "output_type": "stream",
     "text": [
      "WARNING:tensorflow:9 out of the last 9 calls to <function recreate_function.<locals>.restored_function_body at 0x000001E40A7BE2F0> triggered tf.function retracing. Tracing is expensive and the excessive number of tracings could be due to (1) creating @tf.function repeatedly in a loop, (2) passing tensors with different shapes, (3) passing Python objects instead of tensors. For (1), please define your @tf.function outside of the loop. For (2), @tf.function has experimental_relax_shapes=True option that relaxes argument shapes that can avoid unnecessary retracing. For (3), please refer to https://www.tensorflow.org/guide/function#controlling_retracing and https://www.tensorflow.org/api_docs/python/tf/function for  more details.\n"
     ]
    },
    {
     "name": "stderr",
     "output_type": "stream",
     "text": [
      "WARNING:tensorflow:9 out of the last 9 calls to <function recreate_function.<locals>.restored_function_body at 0x000001E40A7BE2F0> triggered tf.function retracing. Tracing is expensive and the excessive number of tracings could be due to (1) creating @tf.function repeatedly in a loop, (2) passing tensors with different shapes, (3) passing Python objects instead of tensors. For (1), please define your @tf.function outside of the loop. For (2), @tf.function has experimental_relax_shapes=True option that relaxes argument shapes that can avoid unnecessary retracing. For (3), please refer to https://www.tensorflow.org/guide/function#controlling_retracing and https://www.tensorflow.org/api_docs/python/tf/function for  more details.\n"
     ]
    },
    {
     "name": "stdout",
     "output_type": "stream",
     "text": [
      "Model: \"sequential_1\"\n",
      "_________________________________________________________________\n",
      "Layer (type)                 Output Shape              Param #   \n",
      "=================================================================\n",
      "keras_layer_2 (KerasLayer)   (None, 20)                389380    \n",
      "_________________________________________________________________\n",
      "dense_2 (Dense)              (None, 16)                336       \n",
      "_________________________________________________________________\n",
      "dense_3 (Dense)              (None, 1)                 17        \n",
      "=================================================================\n",
      "Total params: 389,733\n",
      "Trainable params: 353\n",
      "Non-trainable params: 389,380\n",
      "_________________________________________________________________\n"
     ]
    }
   ],
   "source": [
    "hub_layer = hub.KerasLayer(\"https://tfhub.dev/google/tf2-preview/gnews-swivel-20dim-with-oov/1\", output_shape=[20],\n",
    "                           input_shape=[], dtype=tf.string)\n",
    "model = tf.keras.Sequential()\n",
    "model.add(hub_layer)\n",
    "model.add(tf.keras.layers.Dense(16, activation='relu'))\n",
    "model.add(tf.keras.layers.Dense(1, activation='sigmoid'))\n",
    "model.compile(loss='binary_crossentropy',optimizer='RMSprop',metrics=['accuracy'])\n",
    "model.summary()"
   ]
  },
  {
   "cell_type": "code",
   "execution_count": null,
   "metadata": {
    "id": "N_2BYIrzCC7m",
    "outputId": "db34b17a-9c71-465e-b8d1-72ba84a1e99d"
   },
   "outputs": [
    {
     "name": "stdout",
     "output_type": "stream",
     "text": [
      "Epoch 1/100\n",
      "677/677 [==============================] - 3s 5ms/step - loss: 0.5504 - accuracy: 0.7208 - val_loss: 0.5527 - val_accuracy: 0.7194\n",
      "Epoch 2/100\n",
      "677/677 [==============================] - 3s 4ms/step - loss: 0.5497 - accuracy: 0.7222 - val_loss: 0.5576 - val_accuracy: 0.7168\n",
      "Epoch 3/100\n",
      "677/677 [==============================] - 3s 4ms/step - loss: 0.5491 - accuracy: 0.7212 - val_loss: 0.5521 - val_accuracy: 0.7184\n",
      "Epoch 4/100\n",
      "677/677 [==============================] - 3s 5ms/step - loss: 0.5487 - accuracy: 0.7226 - val_loss: 0.5511 - val_accuracy: 0.7190\n",
      "Epoch 5/100\n",
      "677/677 [==============================] - 3s 4ms/step - loss: 0.5480 - accuracy: 0.7237 - val_loss: 0.5518 - val_accuracy: 0.7198\n",
      "Epoch 6/100\n",
      "677/677 [==============================] - 3s 5ms/step - loss: 0.5475 - accuracy: 0.7244 - val_loss: 0.5546 - val_accuracy: 0.7184\n",
      "Epoch 7/100\n",
      "677/677 [==============================] - 3s 4ms/step - loss: 0.5470 - accuracy: 0.7242 - val_loss: 0.5505 - val_accuracy: 0.7203\n",
      "Epoch 8/100\n",
      "677/677 [==============================] - 3s 4ms/step - loss: 0.5468 - accuracy: 0.7244 - val_loss: 0.5498 - val_accuracy: 0.7205\n",
      "Epoch 9/100\n",
      "677/677 [==============================] - 3s 5ms/step - loss: 0.5465 - accuracy: 0.7241 - val_loss: 0.5570 - val_accuracy: 0.7186\n",
      "Epoch 10/100\n",
      "677/677 [==============================] - 3s 4ms/step - loss: 0.5459 - accuracy: 0.7253 - val_loss: 0.5486 - val_accuracy: 0.7218\n",
      "Epoch 11/100\n",
      "677/677 [==============================] - 3s 4ms/step - loss: 0.5457 - accuracy: 0.7251 - val_loss: 0.5494 - val_accuracy: 0.7208\n",
      "Epoch 12/100\n",
      "677/677 [==============================] - 3s 4ms/step - loss: 0.5455 - accuracy: 0.7253 - val_loss: 0.5541 - val_accuracy: 0.7213\n",
      "Epoch 13/100\n",
      "677/677 [==============================] - 3s 4ms/step - loss: 0.5450 - accuracy: 0.7249 - val_loss: 0.5489 - val_accuracy: 0.7218\n",
      "Epoch 14/100\n",
      "677/677 [==============================] - 3s 5ms/step - loss: 0.5449 - accuracy: 0.7255 - val_loss: 0.5502 - val_accuracy: 0.7208\n",
      "Epoch 15/100\n",
      "677/677 [==============================] - 3s 4ms/step - loss: 0.5444 - accuracy: 0.7261 - val_loss: 0.5488 - val_accuracy: 0.7218\n",
      "Epoch 16/100\n",
      "677/677 [==============================] - 3s 4ms/step - loss: 0.5443 - accuracy: 0.7261 - val_loss: 0.5486 - val_accuracy: 0.7223\n",
      "Epoch 17/100\n",
      "677/677 [==============================] - 3s 5ms/step - loss: 0.5440 - accuracy: 0.7255 - val_loss: 0.5480 - val_accuracy: 0.7219\n",
      "Epoch 18/100\n",
      "677/677 [==============================] - 3s 4ms/step - loss: 0.5438 - accuracy: 0.7261 - val_loss: 0.5479 - val_accuracy: 0.7221\n",
      "Epoch 19/100\n",
      "677/677 [==============================] - 3s 4ms/step - loss: 0.5437 - accuracy: 0.7270 - val_loss: 0.5492 - val_accuracy: 0.7224\n",
      "Epoch 20/100\n",
      "677/677 [==============================] - 3s 4ms/step - loss: 0.5437 - accuracy: 0.7268 - val_loss: 0.5491 - val_accuracy: 0.7217\n",
      "Epoch 21/100\n",
      "677/677 [==============================] - 3s 4ms/step - loss: 0.5431 - accuracy: 0.7267 - val_loss: 0.5528 - val_accuracy: 0.7206\n",
      "Epoch 22/100\n",
      "677/677 [==============================] - 3s 5ms/step - loss: 0.5433 - accuracy: 0.7271 - val_loss: 0.5479 - val_accuracy: 0.7238\n",
      "Epoch 23/100\n",
      "677/677 [==============================] - 3s 4ms/step - loss: 0.5429 - accuracy: 0.7270 - val_loss: 0.5468 - val_accuracy: 0.7239\n",
      "Epoch 24/100\n",
      "677/677 [==============================] - 3s 5ms/step - loss: 0.5427 - accuracy: 0.7272 - val_loss: 0.5491 - val_accuracy: 0.7228\n",
      "Epoch 25/100\n",
      "677/677 [==============================] - 3s 4ms/step - loss: 0.5425 - accuracy: 0.7269 - val_loss: 0.5532 - val_accuracy: 0.7205\n",
      "Epoch 26/100\n",
      "677/677 [==============================] - 3s 5ms/step - loss: 0.5423 - accuracy: 0.7279 - val_loss: 0.5495 - val_accuracy: 0.7236\n",
      "Epoch 27/100\n",
      "677/677 [==============================] - 3s 4ms/step - loss: 0.5422 - accuracy: 0.7280 - val_loss: 0.5483 - val_accuracy: 0.7241\n",
      "Epoch 28/100\n",
      "677/677 [==============================] - 3s 5ms/step - loss: 0.5421 - accuracy: 0.7274 - val_loss: 0.5497 - val_accuracy: 0.7219\n",
      "Epoch 29/100\n",
      "677/677 [==============================] - 3s 5ms/step - loss: 0.5420 - accuracy: 0.7282 - val_loss: 0.5491 - val_accuracy: 0.7241\n",
      "Epoch 30/100\n",
      "677/677 [==============================] - 3s 5ms/step - loss: 0.5419 - accuracy: 0.7273 - val_loss: 0.5465 - val_accuracy: 0.7241\n",
      "Epoch 31/100\n",
      "677/677 [==============================] - 3s 5ms/step - loss: 0.5416 - accuracy: 0.7284 - val_loss: 0.5495 - val_accuracy: 0.7224\n",
      "Epoch 32/100\n",
      "677/677 [==============================] - 3s 5ms/step - loss: 0.5413 - accuracy: 0.7286 - val_loss: 0.5474 - val_accuracy: 0.7230\n",
      "Epoch 33/100\n",
      "677/677 [==============================] - 3s 5ms/step - loss: 0.5414 - accuracy: 0.7281 - val_loss: 0.5459 - val_accuracy: 0.7246\n",
      "Epoch 34/100\n",
      "677/677 [==============================] - 3s 5ms/step - loss: 0.5414 - accuracy: 0.7285 - val_loss: 0.5457 - val_accuracy: 0.7254\n",
      "Epoch 35/100\n",
      "677/677 [==============================] - 3s 5ms/step - loss: 0.5411 - accuracy: 0.7289 - val_loss: 0.5460 - val_accuracy: 0.7252\n",
      "Epoch 36/100\n",
      "677/677 [==============================] - 3s 5ms/step - loss: 0.5411 - accuracy: 0.7283 - val_loss: 0.5495 - val_accuracy: 0.7252\n",
      "Epoch 37/100\n",
      "677/677 [==============================] - 3s 5ms/step - loss: 0.5411 - accuracy: 0.7285 - val_loss: 0.5543 - val_accuracy: 0.7230\n",
      "Epoch 38/100\n",
      "677/677 [==============================] - 3s 5ms/step - loss: 0.5409 - accuracy: 0.7286 - val_loss: 0.5494 - val_accuracy: 0.7244\n",
      "Epoch 39/100\n",
      "677/677 [==============================] - 3s 5ms/step - loss: 0.5406 - accuracy: 0.7292 - val_loss: 0.5491 - val_accuracy: 0.7241\n",
      "Epoch 40/100\n",
      "677/677 [==============================] - 3s 5ms/step - loss: 0.5408 - accuracy: 0.7284 - val_loss: 0.5463 - val_accuracy: 0.7270\n",
      "Epoch 41/100\n",
      "677/677 [==============================] - 3s 5ms/step - loss: 0.5406 - accuracy: 0.7290 - val_loss: 0.5459 - val_accuracy: 0.7266\n",
      "Epoch 42/100\n",
      "677/677 [==============================] - 3s 5ms/step - loss: 0.5406 - accuracy: 0.7287 - val_loss: 0.5454 - val_accuracy: 0.7266\n",
      "Epoch 43/100\n",
      "677/677 [==============================] - 3s 5ms/step - loss: 0.5403 - accuracy: 0.7289 - val_loss: 0.5501 - val_accuracy: 0.7220\n",
      "Epoch 44/100\n",
      "677/677 [==============================] - 3s 5ms/step - loss: 0.5402 - accuracy: 0.7293 - val_loss: 0.5450 - val_accuracy: 0.7279\n",
      "Epoch 45/100\n",
      "677/677 [==============================] - 3s 5ms/step - loss: 0.5401 - accuracy: 0.7290 - val_loss: 0.5465 - val_accuracy: 0.7252\n",
      "Epoch 46/100\n",
      "677/677 [==============================] - 3s 5ms/step - loss: 0.5400 - accuracy: 0.7293 - val_loss: 0.5458 - val_accuracy: 0.7262\n",
      "Epoch 47/100\n",
      "677/677 [==============================] - 3s 5ms/step - loss: 0.5401 - accuracy: 0.7290 - val_loss: 0.5446 - val_accuracy: 0.7272\n",
      "Epoch 48/100\n",
      "677/677 [==============================] - 3s 4ms/step - loss: 0.5400 - accuracy: 0.7292 - val_loss: 0.5562 - val_accuracy: 0.7170\n",
      "Epoch 49/100\n",
      "677/677 [==============================] - 3s 5ms/step - loss: 0.5400 - accuracy: 0.7297 - val_loss: 0.5479 - val_accuracy: 0.7236\n",
      "Epoch 50/100\n",
      "677/677 [==============================] - 3s 5ms/step - loss: 0.5399 - accuracy: 0.7296 - val_loss: 0.5459 - val_accuracy: 0.7261\n",
      "Epoch 51/100\n",
      "677/677 [==============================] - 3s 5ms/step - loss: 0.5399 - accuracy: 0.7300 - val_loss: 0.5446 - val_accuracy: 0.7274\n",
      "Epoch 52/100\n",
      "677/677 [==============================] - 3s 5ms/step - loss: 0.5397 - accuracy: 0.7290 - val_loss: 0.5444 - val_accuracy: 0.7273\n",
      "Epoch 53/100\n",
      "677/677 [==============================] - 3s 5ms/step - loss: 0.5397 - accuracy: 0.7303 - val_loss: 0.5460 - val_accuracy: 0.7265\n",
      "Epoch 54/100\n",
      "677/677 [==============================] - 3s 4ms/step - loss: 0.5397 - accuracy: 0.7304 - val_loss: 0.5475 - val_accuracy: 0.7261\n",
      "Epoch 55/100\n",
      "677/677 [==============================] - 3s 5ms/step - loss: 0.5395 - accuracy: 0.7298 - val_loss: 0.5463 - val_accuracy: 0.7263\n",
      "Epoch 56/100\n",
      "677/677 [==============================] - 3s 5ms/step - loss: 0.5396 - accuracy: 0.7293 - val_loss: 0.5487 - val_accuracy: 0.7243\n",
      "Epoch 57/100\n",
      "677/677 [==============================] - 3s 5ms/step - loss: 0.5395 - accuracy: 0.7290 - val_loss: 0.5480 - val_accuracy: 0.7234\n"
     ]
    },
    {
     "name": "stdout",
     "output_type": "stream",
     "text": [
      "Epoch 58/100\n",
      "677/677 [==============================] - 3s 5ms/step - loss: 0.5394 - accuracy: 0.7297 - val_loss: 0.5448 - val_accuracy: 0.7259\n",
      "Epoch 59/100\n",
      "677/677 [==============================] - 3s 5ms/step - loss: 0.5393 - accuracy: 0.7299 - val_loss: 0.5491 - val_accuracy: 0.7261\n",
      "Epoch 60/100\n",
      "677/677 [==============================] - 3s 5ms/step - loss: 0.5392 - accuracy: 0.7290 - val_loss: 0.5487 - val_accuracy: 0.7250\n",
      "Epoch 61/100\n",
      "677/677 [==============================] - 3s 5ms/step - loss: 0.5392 - accuracy: 0.7291 - val_loss: 0.5479 - val_accuracy: 0.7261\n",
      "Epoch 62/100\n",
      "677/677 [==============================] - 3s 5ms/step - loss: 0.5393 - accuracy: 0.7295 - val_loss: 0.5461 - val_accuracy: 0.7265\n",
      "Epoch 63/100\n",
      "677/677 [==============================] - 3s 5ms/step - loss: 0.5391 - accuracy: 0.7287 - val_loss: 0.5459 - val_accuracy: 0.7266\n",
      "Epoch 64/100\n",
      "677/677 [==============================] - 3s 5ms/step - loss: 0.5389 - accuracy: 0.7304 - val_loss: 0.5452 - val_accuracy: 0.7248\n",
      "Epoch 65/100\n",
      "677/677 [==============================] - 3s 5ms/step - loss: 0.5391 - accuracy: 0.7300 - val_loss: 0.5489 - val_accuracy: 0.7227\n",
      "Epoch 66/100\n",
      "677/677 [==============================] - 3s 5ms/step - loss: 0.5388 - accuracy: 0.7297 - val_loss: 0.5486 - val_accuracy: 0.7218\n",
      "Epoch 67/100\n",
      "677/677 [==============================] - 3s 5ms/step - loss: 0.5389 - accuracy: 0.7294 - val_loss: 0.5458 - val_accuracy: 0.7271\n",
      "Epoch 68/100\n",
      "677/677 [==============================] - 3s 5ms/step - loss: 0.5390 - accuracy: 0.7298 - val_loss: 0.5439 - val_accuracy: 0.7271\n",
      "Epoch 69/100\n",
      "677/677 [==============================] - 3s 5ms/step - loss: 0.5389 - accuracy: 0.7300 - val_loss: 0.5435 - val_accuracy: 0.7276\n",
      "Epoch 70/100\n",
      "677/677 [==============================] - 3s 5ms/step - loss: 0.5387 - accuracy: 0.7298 - val_loss: 0.5443 - val_accuracy: 0.7258\n",
      "Epoch 71/100\n",
      "677/677 [==============================] - 3s 5ms/step - loss: 0.5387 - accuracy: 0.7303 - val_loss: 0.5460 - val_accuracy: 0.7249\n",
      "Epoch 72/100\n",
      "677/677 [==============================] - 3s 5ms/step - loss: 0.5386 - accuracy: 0.7304 - val_loss: 0.5456 - val_accuracy: 0.7264\n",
      "Epoch 73/100\n",
      "677/677 [==============================] - 3s 5ms/step - loss: 0.5384 - accuracy: 0.7300 - val_loss: 0.5441 - val_accuracy: 0.7277\n",
      "Epoch 74/100\n",
      "677/677 [==============================] - 3s 5ms/step - loss: 0.5385 - accuracy: 0.7308 - val_loss: 0.5451 - val_accuracy: 0.7274\n",
      "Epoch 75/100\n",
      "677/677 [==============================] - 3s 5ms/step - loss: 0.5383 - accuracy: 0.7297 - val_loss: 0.5461 - val_accuracy: 0.7269\n",
      "Epoch 76/100\n",
      "677/677 [==============================] - 3s 5ms/step - loss: 0.5386 - accuracy: 0.7300 - val_loss: 0.5439 - val_accuracy: 0.7272\n",
      "Epoch 77/100\n",
      "677/677 [==============================] - 3s 5ms/step - loss: 0.5384 - accuracy: 0.7297 - val_loss: 0.5459 - val_accuracy: 0.7250\n",
      "Epoch 78/100\n",
      "677/677 [==============================] - 3s 5ms/step - loss: 0.5385 - accuracy: 0.7302 - val_loss: 0.5451 - val_accuracy: 0.7264\n",
      "Epoch 79/100\n",
      "677/677 [==============================] - 3s 5ms/step - loss: 0.5382 - accuracy: 0.7298 - val_loss: 0.5465 - val_accuracy: 0.7255\n",
      "Epoch 80/100\n",
      "677/677 [==============================] - 3s 5ms/step - loss: 0.5384 - accuracy: 0.7297 - val_loss: 0.5441 - val_accuracy: 0.7256\n",
      "Epoch 81/100\n",
      "677/677 [==============================] - 3s 5ms/step - loss: 0.5382 - accuracy: 0.7299 - val_loss: 0.5444 - val_accuracy: 0.7270\n",
      "Epoch 82/100\n",
      "677/677 [==============================] - 3s 5ms/step - loss: 0.5382 - accuracy: 0.7303 - val_loss: 0.5437 - val_accuracy: 0.7277\n",
      "Epoch 83/100\n",
      "677/677 [==============================] - 3s 5ms/step - loss: 0.5384 - accuracy: 0.7297 - val_loss: 0.5428 - val_accuracy: 0.7277\n",
      "Epoch 84/100\n",
      "677/677 [==============================] - 3s 5ms/step - loss: 0.5380 - accuracy: 0.7306 - val_loss: 0.5429 - val_accuracy: 0.7275\n",
      "Epoch 85/100\n",
      "677/677 [==============================] - 3s 5ms/step - loss: 0.5381 - accuracy: 0.7299 - val_loss: 0.5443 - val_accuracy: 0.7255\n",
      "Epoch 86/100\n",
      "677/677 [==============================] - 3s 5ms/step - loss: 0.5378 - accuracy: 0.7308 - val_loss: 0.5435 - val_accuracy: 0.7254\n",
      "Epoch 87/100\n",
      "677/677 [==============================] - 3s 4ms/step - loss: 0.5380 - accuracy: 0.7307 - val_loss: 0.5428 - val_accuracy: 0.7272\n",
      "Epoch 88/100\n",
      "677/677 [==============================] - 3s 4ms/step - loss: 0.5378 - accuracy: 0.7305 - val_loss: 0.5438 - val_accuracy: 0.7270\n",
      "Epoch 89/100\n",
      "677/677 [==============================] - 3s 5ms/step - loss: 0.5379 - accuracy: 0.7306 - val_loss: 0.5442 - val_accuracy: 0.7277\n",
      "Epoch 90/100\n",
      "677/677 [==============================] - 3s 5ms/step - loss: 0.5377 - accuracy: 0.7308 - val_loss: 0.5474 - val_accuracy: 0.7268\n",
      "Epoch 91/100\n",
      "677/677 [==============================] - 3s 5ms/step - loss: 0.5376 - accuracy: 0.7305 - val_loss: 0.5455 - val_accuracy: 0.7263\n",
      "Epoch 92/100\n",
      "677/677 [==============================] - 3s 5ms/step - loss: 0.5376 - accuracy: 0.7311 - val_loss: 0.5429 - val_accuracy: 0.7276\n",
      "Epoch 93/100\n",
      "677/677 [==============================] - 3s 5ms/step - loss: 0.5377 - accuracy: 0.7304 - val_loss: 0.5433 - val_accuracy: 0.7258\n",
      "Epoch 94/100\n",
      "677/677 [==============================] - 3s 5ms/step - loss: 0.5376 - accuracy: 0.7306 - val_loss: 0.5430 - val_accuracy: 0.7266\n",
      "Epoch 95/100\n",
      "677/677 [==============================] - 3s 5ms/step - loss: 0.5374 - accuracy: 0.7306 - val_loss: 0.5440 - val_accuracy: 0.7259\n",
      "Epoch 96/100\n",
      "677/677 [==============================] - 3s 5ms/step - loss: 0.5373 - accuracy: 0.7301 - val_loss: 0.5419 - val_accuracy: 0.7276\n",
      "Epoch 97/100\n",
      "677/677 [==============================] - 3s 5ms/step - loss: 0.5376 - accuracy: 0.7306 - val_loss: 0.5445 - val_accuracy: 0.7275\n",
      "Epoch 98/100\n",
      "677/677 [==============================] - 3s 5ms/step - loss: 0.5374 - accuracy: 0.7303 - val_loss: 0.5432 - val_accuracy: 0.7277\n",
      "Epoch 99/100\n",
      "677/677 [==============================] - 3s 5ms/step - loss: 0.5373 - accuracy: 0.7307 - val_loss: 0.5427 - val_accuracy: 0.7272\n",
      "Epoch 100/100\n",
      "677/677 [==============================] - 3s 5ms/step - loss: 0.5371 - accuracy: 0.7297 - val_loss: 0.5457 - val_accuracy: 0.7248\n"
     ]
    }
   ],
   "source": [
    "num_epochs = 100\n",
    "history = model.fit(X_train, y_train, batch_size=128, epochs=num_epochs, validation_data=(X_test, y_test))"
   ]
  },
  {
   "cell_type": "code",
   "execution_count": null,
   "metadata": {
    "id": "vmtnQG5GCC7n",
    "outputId": "3da56d91-dd30-42b6-bc8a-e5f8c8c19c78"
   },
   "outputs": [
    {
     "data": {
      "image/png": "[encoded data removed]",
      "text/plain": [
       "<Figure size 432x288 with 1 Axes>"
      ]
     },
     "metadata": {
      "needs_background": "light",
      "tags": []
     },
     "output_type": "display_data"
    },
    {
     "data": {
      "image/png": "[encoded data removed]",
      "text/plain": [
       "<Figure size 432x288 with 1 Axes>"
      ]
     },
     "metadata": {
      "needs_background": "light",
      "tags": []
     },
     "output_type": "display_data"
    }
   ],
   "source": [
    "plot_graphs(history, 'accuracy')\n",
    "plot_graphs(history, 'loss')"
   ]
  },
  {
   "cell_type": "markdown",
   "metadata": {
    "id": "qB2a_gHLCC7n"
   },
   "source": [
    "### Medium Model"
   ]
  },
  {
   "cell_type": "code",
   "execution_count": null,
   "metadata": {
    "colab": {
     "base_uri": "https://localhost:8080/"
    },
    "id": "ns5ClOd-Ed8d",
    "outputId": "9e626de8-ad3d-42f0-d86b-221e8bec379c"
   },
   "outputs": [
    {
     "name": "stdout",
     "output_type": "stream",
     "text": [
      "WARNING:tensorflow:11 out of the last 11 calls to <function recreate_function.<locals>.restored_function_body at 0x7fd03b39c200> triggered tf.function retracing. Tracing is expensive and the excessive number of tracings could be due to (1) creating @tf.function repeatedly in a loop, (2) passing tensors with different shapes, (3) passing Python objects instead of tensors. For (1), please define your @tf.function outside of the loop. For (2), @tf.function has experimental_relax_shapes=True option that relaxes argument shapes that can avoid unnecessary retracing. For (3), please refer to https://www.tensorflow.org/guide/function#controlling_retracing and https://www.tensorflow.org/api_docs/python/tf/function for  more details.\n"
     ]
    },
    {
     "name": "stderr",
     "output_type": "stream",
     "text": [
      "WARNING:tensorflow:11 out of the last 11 calls to <function recreate_function.<locals>.restored_function_body at 0x7fd03b39c200> triggered tf.function retracing. Tracing is expensive and the excessive number of tracings could be due to (1) creating @tf.function repeatedly in a loop, (2) passing tensors with different shapes, (3) passing Python objects instead of tensors. For (1), please define your @tf.function outside of the loop. For (2), @tf.function has experimental_relax_shapes=True option that relaxes argument shapes that can avoid unnecessary retracing. For (3), please refer to https://www.tensorflow.org/guide/function#controlling_retracing and https://www.tensorflow.org/api_docs/python/tf/function for  more details.\n"
     ]
    },
    {
     "name": "stdout",
     "output_type": "stream",
     "text": [
      "WARNING:tensorflow:11 out of the last 11 calls to <function recreate_function.<locals>.restored_function_body at 0x7fd03b39a440> triggered tf.function retracing. Tracing is expensive and the excessive number of tracings could be due to (1) creating @tf.function repeatedly in a loop, (2) passing tensors with different shapes, (3) passing Python objects instead of tensors. For (1), please define your @tf.function outside of the loop. For (2), @tf.function has experimental_relax_shapes=True option that relaxes argument shapes that can avoid unnecessary retracing. For (3), please refer to https://www.tensorflow.org/guide/function#controlling_retracing and https://www.tensorflow.org/api_docs/python/tf/function for  more details.\n"
     ]
    },
    {
     "name": "stderr",
     "output_type": "stream",
     "text": [
      "WARNING:tensorflow:11 out of the last 11 calls to <function recreate_function.<locals>.restored_function_body at 0x7fd03b39a440> triggered tf.function retracing. Tracing is expensive and the excessive number of tracings could be due to (1) creating @tf.function repeatedly in a loop, (2) passing tensors with different shapes, (3) passing Python objects instead of tensors. For (1), please define your @tf.function outside of the loop. For (2), @tf.function has experimental_relax_shapes=True option that relaxes argument shapes that can avoid unnecessary retracing. For (3), please refer to https://www.tensorflow.org/guide/function#controlling_retracing and https://www.tensorflow.org/api_docs/python/tf/function for  more details.\n"
     ]
    },
    {
     "name": "stdout",
     "output_type": "stream",
     "text": [
      "WARNING:tensorflow:11 out of the last 11 calls to <function recreate_function.<locals>.restored_function_body at 0x7fd03b3b4680> triggered tf.function retracing. Tracing is expensive and the excessive number of tracings could be due to (1) creating @tf.function repeatedly in a loop, (2) passing tensors with different shapes, (3) passing Python objects instead of tensors. For (1), please define your @tf.function outside of the loop. For (2), @tf.function has experimental_relax_shapes=True option that relaxes argument shapes that can avoid unnecessary retracing. For (3), please refer to https://www.tensorflow.org/guide/function#controlling_retracing and https://www.tensorflow.org/api_docs/python/tf/function for  more details.\n"
     ]
    },
    {
     "name": "stderr",
     "output_type": "stream",
     "text": [
      "WARNING:tensorflow:11 out of the last 11 calls to <function recreate_function.<locals>.restored_function_body at 0x7fd03b3b4680> triggered tf.function retracing. Tracing is expensive and the excessive number of tracings could be due to (1) creating @tf.function repeatedly in a loop, (2) passing tensors with different shapes, (3) passing Python objects instead of tensors. For (1), please define your @tf.function outside of the loop. For (2), @tf.function has experimental_relax_shapes=True option that relaxes argument shapes that can avoid unnecessary retracing. For (3), please refer to https://www.tensorflow.org/guide/function#controlling_retracing and https://www.tensorflow.org/api_docs/python/tf/function for  more details.\n"
     ]
    },
    {
     "name": "stdout",
     "output_type": "stream",
     "text": [
      "(2, 50)\n"
     ]
    },
    {
     "data": {
      "text/plain": [
       "<tf.Tensor: shape=(2, 50), dtype=float32, numpy=\n",
       "array([[ 0.16589954,  0.0254965 ,  0.1574857 ,  0.17688066,  0.02911299,\n",
       "        -0.03092718,  0.19445257, -0.05709129, -0.08631689, -0.04391516,\n",
       "         0.13032274,  0.10905275, -0.08515751,  0.01056632, -0.17220995,\n",
       "        -0.17925954,  0.19556305,  0.0802278 , -0.03247919, -0.49176937,\n",
       "        -0.07767699, -0.03160921, -0.13952136,  0.05959712,  0.06858718,\n",
       "         0.22386682, -0.16653948,  0.19412343, -0.05491862,  0.10997339,\n",
       "        -0.15811177, -0.02576607, -0.07910853, -0.258499  , -0.04206644,\n",
       "        -0.20052543,  0.1705603 , -0.15314153,  0.0039225 , -0.28694248,\n",
       "         0.02468278,  0.11069503,  0.03733957,  0.01433943, -0.11048374,\n",
       "         0.11931834, -0.11552787, -0.11110869,  0.02384969, -0.07074881],\n",
       "       [ 0.1437864 ,  0.08291595,  0.10897306,  0.04464385, -0.03630389,\n",
       "        -0.12605834,  0.20263346,  0.12862863, -0.07873426, -0.01195358,\n",
       "         0.0020956 , -0.03080653, -0.08019945, -0.18797135, -0.11973457,\n",
       "        -0.26926652,  0.05157408, -0.15541205, -0.12221853, -0.27182642,\n",
       "         0.08750801, -0.05013347,  0.03012378,  0.2053423 ,  0.10000334,\n",
       "         0.18292566, -0.18280756,  0.0780353 ,  0.10936535, -0.10147726,\n",
       "        -0.19995196,  0.0398768 , -0.15377024, -0.1095404 , -0.18498933,\n",
       "        -0.15899731,  0.0558111 ,  0.15251887,  0.02046264, -0.25878936,\n",
       "        -0.13057052,  0.0782799 ,  0.04044291,  0.14456013,  0.00264394,\n",
       "         0.1399635 , -0.04803645, -0.17253871, -0.03153546,  0.09077   ]],\n",
       "      dtype=float32)>"
      ]
     },
     "execution_count": 17,
     "metadata": {
      "tags": []
     },
     "output_type": "execute_result"
    }
   ],
   "source": [
    "embed = hub.load(\"https://tfhub.dev/google/tf2-preview/nnlm-en-dim50/1\")\n",
    "embeddings = embed([\"cat is on the mat\", \"dog is in the fog\"])\n",
    "print(embeddings.shape)\n",
    "embeddings"
   ]
  },
  {
   "cell_type": "code",
   "execution_count": null,
   "metadata": {
    "colab": {
     "base_uri": "https://localhost:8080/"
    },
    "id": "OsdpvtR3CC7n",
    "outputId": "9f7a5ffa-584c-4322-93f2-bca2ca31b00a"
   },
   "outputs": [
    {
     "name": "stdout",
     "output_type": "stream",
     "text": [
      "WARNING:tensorflow:11 out of the last 11 calls to <function recreate_function.<locals>.restored_function_body at 0x7f95463e4830> triggered tf.function retracing. Tracing is expensive and the excessive number of tracings could be due to (1) creating @tf.function repeatedly in a loop, (2) passing tensors with different shapes, (3) passing Python objects instead of tensors. For (1), please define your @tf.function outside of the loop. For (2), @tf.function has experimental_relax_shapes=True option that relaxes argument shapes that can avoid unnecessary retracing. For (3), please refer to https://www.tensorflow.org/guide/function#controlling_retracing and https://www.tensorflow.org/api_docs/python/tf/function for  more details.\n"
     ]
    },
    {
     "name": "stderr",
     "output_type": "stream",
     "text": [
      "WARNING:tensorflow:11 out of the last 11 calls to <function recreate_function.<locals>.restored_function_body at 0x7f95463e4830> triggered tf.function retracing. Tracing is expensive and the excessive number of tracings could be due to (1) creating @tf.function repeatedly in a loop, (2) passing tensors with different shapes, (3) passing Python objects instead of tensors. For (1), please define your @tf.function outside of the loop. For (2), @tf.function has experimental_relax_shapes=True option that relaxes argument shapes that can avoid unnecessary retracing. For (3), please refer to https://www.tensorflow.org/guide/function#controlling_retracing and https://www.tensorflow.org/api_docs/python/tf/function for  more details.\n"
     ]
    },
    {
     "name": "stdout",
     "output_type": "stream",
     "text": [
      "WARNING:tensorflow:11 out of the last 11 calls to <function recreate_function.<locals>.restored_function_body at 0x7f95463f8830> triggered tf.function retracing. Tracing is expensive and the excessive number of tracings could be due to (1) creating @tf.function repeatedly in a loop, (2) passing tensors with different shapes, (3) passing Python objects instead of tensors. For (1), please define your @tf.function outside of the loop. For (2), @tf.function has experimental_relax_shapes=True option that relaxes argument shapes that can avoid unnecessary retracing. For (3), please refer to https://www.tensorflow.org/guide/function#controlling_retracing and https://www.tensorflow.org/api_docs/python/tf/function for  more details.\n"
     ]
    },
    {
     "name": "stderr",
     "output_type": "stream",
     "text": [
      "WARNING:tensorflow:11 out of the last 11 calls to <function recreate_function.<locals>.restored_function_body at 0x7f95463f8830> triggered tf.function retracing. Tracing is expensive and the excessive number of tracings could be due to (1) creating @tf.function repeatedly in a loop, (2) passing tensors with different shapes, (3) passing Python objects instead of tensors. For (1), please define your @tf.function outside of the loop. For (2), @tf.function has experimental_relax_shapes=True option that relaxes argument shapes that can avoid unnecessary retracing. For (3), please refer to https://www.tensorflow.org/guide/function#controlling_retracing and https://www.tensorflow.org/api_docs/python/tf/function for  more details.\n"
     ]
    },
    {
     "name": "stdout",
     "output_type": "stream",
     "text": [
      "Model: \"sequential_13\"\n",
      "_________________________________________________________________\n",
      "Layer (type)                 Output Shape              Param #   \n",
      "=================================================================\n",
      "keras_layer_8 (KerasLayer)   (None, 50)                48190600  \n",
      "_________________________________________________________________\n",
      "dense_26 (Dense)             (None, 128)               6528      \n",
      "_________________________________________________________________\n",
      "dropout_11 (Dropout)         (None, 128)               0         \n",
      "_________________________________________________________________\n",
      "dense_27 (Dense)             (None, 3)                 387       \n",
      "=================================================================\n",
      "Total params: 48,197,515\n",
      "Trainable params: 48,197,515\n",
      "Non-trainable params: 0\n",
      "_________________________________________________________________\n"
     ]
    }
   ],
   "source": [
    "hub_layer = hub.KerasLayer(\"https://tfhub.dev/google/tf2-preview/nnlm-en-dim50/1\", output_shape=[50],\n",
    "                           input_shape=[], dtype=tf.string, trainable=True)\n",
    "model = tf.keras.Sequential([\n",
    "    hub_layer,\n",
    "    # tf.keras.layers.Reshape((50, 1)),\n",
    "    # tf.keras.layers.Bidirectional(tf.keras.layers.LSTM(64)),\n",
    "    tf.keras.layers.Dense(128, activation='relu'),\n",
    "    tf.keras.layers.Dropout(0.5),\n",
    "    tf.keras.layers.Dense(3, activation='sigmoid')\n",
    "])\n",
    "model.compile(loss='categorical_crossentropy',optimizer='RMSprop',metrics=['accuracy'])\n",
    "model.summary()"
   ]
  },
  {
   "cell_type": "code",
   "execution_count": null,
   "metadata": {
    "colab": {
     "base_uri": "https://localhost:8080/"
    },
    "id": "laiagEi2CC7o",
    "outputId": "eefbf8ea-7b3c-42bf-ceb1-d5a755a99f99"
   },
   "outputs": [
    {
     "name": "stdout",
     "output_type": "stream",
     "text": [
      "Epoch 1/20\n",
      "677/677 [==============================] - 11s 15ms/step - loss: 0.7267 - accuracy: 0.7160 - val_loss: 0.5726 - val_accuracy: 0.7750\n",
      "Epoch 2/20\n",
      "677/677 [==============================] - 10s 14ms/step - loss: 0.5473 - accuracy: 0.7905 - val_loss: 0.5558 - val_accuracy: 0.7847\n",
      "Epoch 3/20\n",
      "677/677 [==============================] - 10s 14ms/step - loss: 0.5146 - accuracy: 0.8041 - val_loss: 0.5556 - val_accuracy: 0.7876\n",
      "Epoch 4/20\n",
      "677/677 [==============================] - 9s 14ms/step - loss: 0.4900 - accuracy: 0.8182 - val_loss: 0.5513 - val_accuracy: 0.7894\n",
      "Epoch 5/20\n",
      "677/677 [==============================] - 9s 14ms/step - loss: 0.4814 - accuracy: 0.8190 - val_loss: 0.5578 - val_accuracy: 0.7905\n",
      "Epoch 6/20\n",
      "677/677 [==============================] - 9s 14ms/step - loss: 0.4636 - accuracy: 0.8266 - val_loss: 0.5622 - val_accuracy: 0.7900\n",
      "Epoch 7/20\n",
      "677/677 [==============================] - 10s 14ms/step - loss: 0.4571 - accuracy: 0.8297 - val_loss: 0.5651 - val_accuracy: 0.7881\n",
      "Epoch 8/20\n",
      "677/677 [==============================] - 10s 14ms/step - loss: 0.4491 - accuracy: 0.8332 - val_loss: 0.5730 - val_accuracy: 0.7912\n",
      "Epoch 9/20\n",
      "677/677 [==============================] - 10s 14ms/step - loss: 0.4360 - accuracy: 0.8400 - val_loss: 0.5808 - val_accuracy: 0.7884\n",
      "Epoch 10/20\n",
      "677/677 [==============================] - 10s 15ms/step - loss: 0.4246 - accuracy: 0.8416 - val_loss: 0.5891 - val_accuracy: 0.7840\n",
      "Epoch 11/20\n",
      "677/677 [==============================] - 10s 14ms/step - loss: 0.4123 - accuracy: 0.8474 - val_loss: 0.5951 - val_accuracy: 0.7888\n",
      "Epoch 12/20\n",
      "677/677 [==============================] - 10s 14ms/step - loss: 0.3993 - accuracy: 0.8532 - val_loss: 0.6117 - val_accuracy: 0.7822\n",
      "Epoch 13/20\n",
      "677/677 [==============================] - 10s 14ms/step - loss: 0.3914 - accuracy: 0.8572 - val_loss: 0.6136 - val_accuracy: 0.7811\n",
      "Epoch 14/20\n",
      "677/677 [==============================] - 10s 14ms/step - loss: 0.3797 - accuracy: 0.8628 - val_loss: 0.6278 - val_accuracy: 0.7808\n",
      "Epoch 15/20\n",
      "677/677 [==============================] - 9s 14ms/step - loss: 0.3690 - accuracy: 0.8667 - val_loss: 0.6462 - val_accuracy: 0.7818\n",
      "Epoch 16/20\n",
      "677/677 [==============================] - 10s 14ms/step - loss: 0.3542 - accuracy: 0.8734 - val_loss: 0.6517 - val_accuracy: 0.7775\n",
      "Epoch 17/20\n",
      "677/677 [==============================] - 10s 14ms/step - loss: 0.3490 - accuracy: 0.8750 - val_loss: 0.6687 - val_accuracy: 0.7728\n",
      "Epoch 18/20\n",
      "677/677 [==============================] - 10s 14ms/step - loss: 0.3300 - accuracy: 0.8842 - val_loss: 0.6754 - val_accuracy: 0.7736\n",
      "Epoch 19/20\n",
      "677/677 [==============================] - 9s 13ms/step - loss: 0.3194 - accuracy: 0.8877 - val_loss: 0.6937 - val_accuracy: 0.7708\n",
      "Epoch 20/20\n",
      "677/677 [==============================] - 9s 13ms/step - loss: 0.3110 - accuracy: 0.8901 - val_loss: 0.7224 - val_accuracy: 0.7747\n"
     ]
    }
   ],
   "source": [
    "num_epochs = 20\n",
    "history = model.fit(X_train, y_train, batch_size=128, epochs=num_epochs, validation_data=(X_test, y_test))"
   ]
  },
  {
   "cell_type": "code",
   "execution_count": null,
   "metadata": {
    "colab": {
     "base_uri": "https://localhost:8080/",
     "height": 541
    },
    "id": "YR_E6q6XCC7o",
    "outputId": "5883c356-cf75-4012-c82d-a3788a5bbd22"
   },
   "outputs": [
    {
     "data": {
      "image/png": "[encoded data removed]",
      "text/plain": [
       "<Figure size 432x288 with 1 Axes>"
      ]
     },
     "metadata": {
      "needs_background": "light",
      "tags": []
     },
     "output_type": "display_data"
    },
    {
     "data": {
      "image/png": "[encoded data removed]",
      "text/plain": [
       "<Figure size 432x288 with 1 Axes>"
      ]
     },
     "metadata": {
      "needs_background": "light",
      "tags": []
     },
     "output_type": "display_data"
    }
   ],
   "source": [
    "plot_graphs(history, 'accuracy')\n",
    "plot_graphs(history, 'loss')"
   ]
  },
  {
   "cell_type": "markdown",
   "metadata": {
    "id": "HytlCCUqCC7o"
   },
   "source": [
    "### Medium Model with Sophisticated NN\n"
   ]
  },
  {
   "cell_type": "code",
   "execution_count": null,
   "metadata": {
    "colab": {
     "base_uri": "https://localhost:8080/"
    },
    "id": "j1E7FGFCCC7o",
    "outputId": "4a368f2f-2ee5-47a5-ccff-407512d4d539"
   },
   "outputs": [
    {
     "name": "stdout",
     "output_type": "stream",
     "text": [
      "WARNING:tensorflow:11 out of the last 11 calls to <function recreate_function.<locals>.restored_function_body at 0x7f954663f710> triggered tf.function retracing. Tracing is expensive and the excessive number of tracings could be due to (1) creating @tf.function repeatedly in a loop, (2) passing tensors with different shapes, (3) passing Python objects instead of tensors. For (1), please define your @tf.function outside of the loop. For (2), @tf.function has experimental_relax_shapes=True option that relaxes argument shapes that can avoid unnecessary retracing. For (3), please refer to https://www.tensorflow.org/guide/function#controlling_retracing and https://www.tensorflow.org/api_docs/python/tf/function for  more details.\n"
     ]
    },
    {
     "name": "stderr",
     "output_type": "stream",
     "text": [
      "WARNING:tensorflow:11 out of the last 11 calls to <function recreate_function.<locals>.restored_function_body at 0x7f954663f710> triggered tf.function retracing. Tracing is expensive and the excessive number of tracings could be due to (1) creating @tf.function repeatedly in a loop, (2) passing tensors with different shapes, (3) passing Python objects instead of tensors. For (1), please define your @tf.function outside of the loop. For (2), @tf.function has experimental_relax_shapes=True option that relaxes argument shapes that can avoid unnecessary retracing. For (3), please refer to https://www.tensorflow.org/guide/function#controlling_retracing and https://www.tensorflow.org/api_docs/python/tf/function for  more details.\n"
     ]
    },
    {
     "name": "stdout",
     "output_type": "stream",
     "text": [
      "WARNING:tensorflow:11 out of the last 11 calls to <function recreate_function.<locals>.restored_function_body at 0x7f954663a830> triggered tf.function retracing. Tracing is expensive and the excessive number of tracings could be due to (1) creating @tf.function repeatedly in a loop, (2) passing tensors with different shapes, (3) passing Python objects instead of tensors. For (1), please define your @tf.function outside of the loop. For (2), @tf.function has experimental_relax_shapes=True option that relaxes argument shapes that can avoid unnecessary retracing. For (3), please refer to https://www.tensorflow.org/guide/function#controlling_retracing and https://www.tensorflow.org/api_docs/python/tf/function for  more details.\n"
     ]
    },
    {
     "name": "stderr",
     "output_type": "stream",
     "text": [
      "WARNING:tensorflow:11 out of the last 11 calls to <function recreate_function.<locals>.restored_function_body at 0x7f954663a830> triggered tf.function retracing. Tracing is expensive and the excessive number of tracings could be due to (1) creating @tf.function repeatedly in a loop, (2) passing tensors with different shapes, (3) passing Python objects instead of tensors. For (1), please define your @tf.function outside of the loop. For (2), @tf.function has experimental_relax_shapes=True option that relaxes argument shapes that can avoid unnecessary retracing. For (3), please refer to https://www.tensorflow.org/guide/function#controlling_retracing and https://www.tensorflow.org/api_docs/python/tf/function for  more details.\n"
     ]
    },
    {
     "name": "stdout",
     "output_type": "stream",
     "text": [
      "Model: \"sequential_12\"\n",
      "_________________________________________________________________\n",
      "Layer (type)                 Output Shape              Param #   \n",
      "=================================================================\n",
      "keras_layer_7 (KerasLayer)   (None, 50)                48190600  \n",
      "_________________________________________________________________\n",
      "dense_24 (Dense)             (None, 256)               13056     \n",
      "_________________________________________________________________\n",
      "dropout_10 (Dropout)         (None, 256)               0         \n",
      "_________________________________________________________________\n",
      "dense_25 (Dense)             (None, 3)                 771       \n",
      "=================================================================\n",
      "Total params: 48,204,427\n",
      "Trainable params: 48,204,427\n",
      "Non-trainable params: 0\n",
      "_________________________________________________________________\n"
     ]
    }
   ],
   "source": [
    "hub_layer = hub.KerasLayer(\"https://tfhub.dev/google/tf2-preview/nnlm-en-dim50/1\", output_shape=[50],\n",
    "                           input_shape=[], dtype=tf.string, trainable=True)\n",
    "model = tf.keras.Sequential([\n",
    "    hub_layer,\n",
    "    # tf.keras.layers.Reshape((50, 1)),\n",
    "    # tf.keras.layers.Bidirectional(tf.keras.layers.LSTM(64)),\n",
    "    tf.keras.layers.Dense(256, activation='relu'),\n",
    "    tf.keras.layers.Dropout(0.5),\n",
    "    tf.keras.layers.Dense(3, activation='sigmoid')\n",
    "])\n",
    "model.compile(loss='categorical_crossentropy',optimizer='RMSprop',metrics=['accuracy'])\n",
    "model.summary()"
   ]
  },
  {
   "cell_type": "code",
   "execution_count": null,
   "metadata": {
    "colab": {
     "base_uri": "https://localhost:8080/",
     "height": 833
    },
    "id": "xO-XqzDjCC7p",
    "outputId": "96b85b65-6332-492f-911e-ed37de68f6a2"
   },
   "outputs": [
    {
     "name": "stdout",
     "output_type": "stream",
     "text": [
      "Epoch 1/100\n",
      "677/677 [==============================] - 10s 15ms/step - loss: 0.7185 - accuracy: 0.7171 - val_loss: 0.5718 - val_accuracy: 0.7741\n",
      "Epoch 2/100\n",
      "677/677 [==============================] - 9s 14ms/step - loss: 0.5445 - accuracy: 0.7926 - val_loss: 0.5557 - val_accuracy: 0.7863\n",
      "Epoch 3/100\n",
      "677/677 [==============================] - 9s 14ms/step - loss: 0.5064 - accuracy: 0.8067 - val_loss: 0.5503 - val_accuracy: 0.7883\n",
      "Epoch 4/100\n",
      "677/677 [==============================] - 9s 14ms/step - loss: 0.4867 - accuracy: 0.8135 - val_loss: 0.5536 - val_accuracy: 0.7896\n",
      "Epoch 5/100\n",
      "677/677 [==============================] - 9s 14ms/step - loss: 0.4674 - accuracy: 0.8251 - val_loss: 0.5550 - val_accuracy: 0.7887\n",
      "Epoch 6/100\n",
      "677/677 [==============================] - 9s 14ms/step - loss: 0.4559 - accuracy: 0.8286 - val_loss: 0.5563 - val_accuracy: 0.7899\n",
      "Epoch 7/100\n",
      "677/677 [==============================] - 9s 14ms/step - loss: 0.4425 - accuracy: 0.8344 - val_loss: 0.5672 - val_accuracy: 0.7853\n",
      "Epoch 8/100\n",
      "677/677 [==============================] - 9s 14ms/step - loss: 0.4274 - accuracy: 0.8414 - val_loss: 0.5749 - val_accuracy: 0.7905\n",
      "Epoch 9/100\n",
      "677/677 [==============================] - 9s 13ms/step - loss: 0.4210 - accuracy: 0.8432 - val_loss: 0.5771 - val_accuracy: 0.7891\n",
      "Epoch 10/100\n",
      "677/677 [==============================] - 9s 14ms/step - loss: 0.4030 - accuracy: 0.8507 - val_loss: 0.5880 - val_accuracy: 0.7871\n",
      "Epoch 11/100\n",
      "677/677 [==============================] - 9s 14ms/step - loss: 0.3889 - accuracy: 0.8576 - val_loss: 0.6214 - val_accuracy: 0.7867\n",
      "Epoch 12/100\n",
      "677/677 [==============================] - 9s 14ms/step - loss: 0.3668 - accuracy: 0.8659 - val_loss: 0.6216 - val_accuracy: 0.7778\n",
      "Epoch 13/100\n",
      "677/677 [==============================] - 9s 13ms/step - loss: 0.3533 - accuracy: 0.8732 - val_loss: 0.6409 - val_accuracy: 0.7766\n",
      "Epoch 14/100\n",
      "677/677 [==============================] - 9s 14ms/step - loss: 0.3390 - accuracy: 0.8770 - val_loss: 0.6515 - val_accuracy: 0.7791\n",
      "Epoch 15/100\n",
      "388/677 [================>.............] - ETA: 3s - loss: 0.3160 - accuracy: 0.8892"
     ]
    },
    {
     "ename": "KeyboardInterrupt",
     "evalue": "ignored",
     "output_type": "error",
     "traceback": [
      "\u001b[0;31m---------------------------------------------------------------------------\u001b[0m",
      "\u001b[0;31mKeyboardInterrupt\u001b[0m                         Traceback (most recent call last)",
      "\u001b[0;32m<ipython-input-76-43790a366a72>\u001b[0m in \u001b[0;36m<module>\u001b[0;34m()\u001b[0m\n\u001b[1;32m      1\u001b[0m \u001b[0mnum_epochs\u001b[0m \u001b[0;34m=\u001b[0m \u001b[0;36m100\u001b[0m\u001b[0;34m\u001b[0m\u001b[0;34m\u001b[0m\u001b[0m\n\u001b[0;32m----> 2\u001b[0;31m \u001b[0mhistory\u001b[0m \u001b[0;34m=\u001b[0m \u001b[0mmodel\u001b[0m\u001b[0;34m.\u001b[0m\u001b[0mfit\u001b[0m\u001b[0;34m(\u001b[0m\u001b[0mX_train\u001b[0m\u001b[0;34m,\u001b[0m \u001b[0my_train\u001b[0m\u001b[0;34m,\u001b[0m \u001b[0mbatch_size\u001b[0m\u001b[0;34m=\u001b[0m\u001b[0;36m128\u001b[0m\u001b[0;34m,\u001b[0m \u001b[0mepochs\u001b[0m\u001b[0;34m=\u001b[0m\u001b[0mnum_epochs\u001b[0m\u001b[0;34m,\u001b[0m \u001b[0mvalidation_data\u001b[0m\u001b[0;34m=\u001b[0m\u001b[0;34m(\u001b[0m\u001b[0mX_test\u001b[0m\u001b[0;34m,\u001b[0m \u001b[0my_test\u001b[0m\u001b[0;34m)\u001b[0m\u001b[0;34m)\u001b[0m\u001b[0;34m\u001b[0m\u001b[0;34m\u001b[0m\u001b[0m\n\u001b[0m",
      "\u001b[0;32m/usr/local/lib/python3.7/dist-packages/tensorflow/python/keras/engine/training.py\u001b[0m in \u001b[0;36mfit\u001b[0;34m(self, x, y, batch_size, epochs, verbose, callbacks, validation_split, validation_data, shuffle, class_weight, sample_weight, initial_epoch, steps_per_epoch, validation_steps, validation_batch_size, validation_freq, max_queue_size, workers, use_multiprocessing)\u001b[0m\n\u001b[1;32m   1103\u001b[0m               \u001b[0mlogs\u001b[0m \u001b[0;34m=\u001b[0m \u001b[0mtmp_logs\u001b[0m  \u001b[0;31m# No error, now safe to assign to logs.\u001b[0m\u001b[0;34m\u001b[0m\u001b[0;34m\u001b[0m\u001b[0m\n\u001b[1;32m   1104\u001b[0m               \u001b[0mend_step\u001b[0m \u001b[0;34m=\u001b[0m \u001b[0mstep\u001b[0m \u001b[0;34m+\u001b[0m \u001b[0mdata_handler\u001b[0m\u001b[0;34m.\u001b[0m\u001b[0mstep_increment\u001b[0m\u001b[0;34m\u001b[0m\u001b[0;34m\u001b[0m\u001b[0m\n\u001b[0;32m-> 1105\u001b[0;31m               \u001b[0mcallbacks\u001b[0m\u001b[0;34m.\u001b[0m\u001b[0mon_train_batch_end\u001b[0m\u001b[0;34m(\u001b[0m\u001b[0mend_step\u001b[0m\u001b[0;34m,\u001b[0m \u001b[0mlogs\u001b[0m\u001b[0;34m)\u001b[0m\u001b[0;34m\u001b[0m\u001b[0;34m\u001b[0m\u001b[0m\n\u001b[0m\u001b[1;32m   1106\u001b[0m               \u001b[0;32mif\u001b[0m \u001b[0mself\u001b[0m\u001b[0;34m.\u001b[0m\u001b[0mstop_training\u001b[0m\u001b[0;34m:\u001b[0m\u001b[0;34m\u001b[0m\u001b[0;34m\u001b[0m\u001b[0m\n\u001b[1;32m   1107\u001b[0m                 \u001b[0;32mbreak\u001b[0m\u001b[0;34m\u001b[0m\u001b[0;34m\u001b[0m\u001b[0m\n",
      "\u001b[0;32m/usr/local/lib/python3.7/dist-packages/tensorflow/python/keras/callbacks.py\u001b[0m in \u001b[0;36mon_train_batch_end\u001b[0;34m(self, batch, logs)\u001b[0m\n\u001b[1;32m    452\u001b[0m     \"\"\"\n\u001b[1;32m    453\u001b[0m     \u001b[0;32mif\u001b[0m \u001b[0mself\u001b[0m\u001b[0;34m.\u001b[0m\u001b[0m_should_call_train_batch_hooks\u001b[0m\u001b[0;34m:\u001b[0m\u001b[0;34m\u001b[0m\u001b[0;34m\u001b[0m\u001b[0m\n\u001b[0;32m--> 454\u001b[0;31m       \u001b[0mself\u001b[0m\u001b[0;34m.\u001b[0m\u001b[0m_call_batch_hook\u001b[0m\u001b[0;34m(\u001b[0m\u001b[0mModeKeys\u001b[0m\u001b[0;34m.\u001b[0m\u001b[0mTRAIN\u001b[0m\u001b[0;34m,\u001b[0m \u001b[0;34m'end'\u001b[0m\u001b[0;34m,\u001b[0m \u001b[0mbatch\u001b[0m\u001b[0;34m,\u001b[0m \u001b[0mlogs\u001b[0m\u001b[0;34m=\u001b[0m\u001b[0mlogs\u001b[0m\u001b[0;34m)\u001b[0m\u001b[0;34m\u001b[0m\u001b[0;34m\u001b[0m\u001b[0m\n\u001b[0m\u001b[1;32m    455\u001b[0m \u001b[0;34m\u001b[0m\u001b[0m\n\u001b[1;32m    456\u001b[0m   \u001b[0;32mdef\u001b[0m \u001b[0mon_test_batch_begin\u001b[0m\u001b[0;34m(\u001b[0m\u001b[0mself\u001b[0m\u001b[0;34m,\u001b[0m \u001b[0mbatch\u001b[0m\u001b[0;34m,\u001b[0m \u001b[0mlogs\u001b[0m\u001b[0;34m=\u001b[0m\u001b[0;32mNone\u001b[0m\u001b[0;34m)\u001b[0m\u001b[0;34m:\u001b[0m\u001b[0;34m\u001b[0m\u001b[0;34m\u001b[0m\u001b[0m\n",
      "\u001b[0;32m/usr/local/lib/python3.7/dist-packages/tensorflow/python/keras/callbacks.py\u001b[0m in \u001b[0;36m_call_batch_hook\u001b[0;34m(self, mode, hook, batch, logs)\u001b[0m\n\u001b[1;32m    294\u001b[0m       \u001b[0mself\u001b[0m\u001b[0;34m.\u001b[0m\u001b[0m_call_batch_begin_hook\u001b[0m\u001b[0;34m(\u001b[0m\u001b[0mmode\u001b[0m\u001b[0;34m,\u001b[0m \u001b[0mbatch\u001b[0m\u001b[0;34m,\u001b[0m \u001b[0mlogs\u001b[0m\u001b[0;34m)\u001b[0m\u001b[0;34m\u001b[0m\u001b[0;34m\u001b[0m\u001b[0m\n\u001b[1;32m    295\u001b[0m     \u001b[0;32melif\u001b[0m \u001b[0mhook\u001b[0m \u001b[0;34m==\u001b[0m \u001b[0;34m'end'\u001b[0m\u001b[0;34m:\u001b[0m\u001b[0;34m\u001b[0m\u001b[0;34m\u001b[0m\u001b[0m\n\u001b[0;32m--> 296\u001b[0;31m       \u001b[0mself\u001b[0m\u001b[0;34m.\u001b[0m\u001b[0m_call_batch_end_hook\u001b[0m\u001b[0;34m(\u001b[0m\u001b[0mmode\u001b[0m\u001b[0;34m,\u001b[0m \u001b[0mbatch\u001b[0m\u001b[0;34m,\u001b[0m \u001b[0mlogs\u001b[0m\u001b[0;34m)\u001b[0m\u001b[0;34m\u001b[0m\u001b[0;34m\u001b[0m\u001b[0m\n\u001b[0m\u001b[1;32m    297\u001b[0m     \u001b[0;32melse\u001b[0m\u001b[0;34m:\u001b[0m\u001b[0;34m\u001b[0m\u001b[0;34m\u001b[0m\u001b[0m\n\u001b[1;32m    298\u001b[0m       \u001b[0;32mraise\u001b[0m \u001b[0mValueError\u001b[0m\u001b[0;34m(\u001b[0m\u001b[0;34m'Unrecognized hook: {}'\u001b[0m\u001b[0;34m.\u001b[0m\u001b[0mformat\u001b[0m\u001b[0;34m(\u001b[0m\u001b[0mhook\u001b[0m\u001b[0;34m)\u001b[0m\u001b[0;34m)\u001b[0m\u001b[0;34m\u001b[0m\u001b[0;34m\u001b[0m\u001b[0m\n",
      "\u001b[0;32m/usr/local/lib/python3.7/dist-packages/tensorflow/python/keras/callbacks.py\u001b[0m in \u001b[0;36m_call_batch_end_hook\u001b[0;34m(self, mode, batch, logs)\u001b[0m\n\u001b[1;32m    314\u001b[0m       \u001b[0mself\u001b[0m\u001b[0;34m.\u001b[0m\u001b[0m_batch_times\u001b[0m\u001b[0;34m.\u001b[0m\u001b[0mappend\u001b[0m\u001b[0;34m(\u001b[0m\u001b[0mbatch_time\u001b[0m\u001b[0;34m)\u001b[0m\u001b[0;34m\u001b[0m\u001b[0;34m\u001b[0m\u001b[0m\n\u001b[1;32m    315\u001b[0m \u001b[0;34m\u001b[0m\u001b[0m\n\u001b[0;32m--> 316\u001b[0;31m     \u001b[0mself\u001b[0m\u001b[0;34m.\u001b[0m\u001b[0m_call_batch_hook_helper\u001b[0m\u001b[0;34m(\u001b[0m\u001b[0mhook_name\u001b[0m\u001b[0;34m,\u001b[0m \u001b[0mbatch\u001b[0m\u001b[0;34m,\u001b[0m \u001b[0mlogs\u001b[0m\u001b[0;34m)\u001b[0m\u001b[0;34m\u001b[0m\u001b[0;34m\u001b[0m\u001b[0m\n\u001b[0m\u001b[1;32m    317\u001b[0m \u001b[0;34m\u001b[0m\u001b[0m\n\u001b[1;32m    318\u001b[0m     \u001b[0;32mif\u001b[0m \u001b[0mlen\u001b[0m\u001b[0;34m(\u001b[0m\u001b[0mself\u001b[0m\u001b[0;34m.\u001b[0m\u001b[0m_batch_times\u001b[0m\u001b[0;34m)\u001b[0m \u001b[0;34m>=\u001b[0m \u001b[0mself\u001b[0m\u001b[0;34m.\u001b[0m\u001b[0m_num_batches_for_timing_check\u001b[0m\u001b[0;34m:\u001b[0m\u001b[0;34m\u001b[0m\u001b[0;34m\u001b[0m\u001b[0m\n",
      "\u001b[0;32m/usr/local/lib/python3.7/dist-packages/tensorflow/python/keras/callbacks.py\u001b[0m in \u001b[0;36m_call_batch_hook_helper\u001b[0;34m(self, hook_name, batch, logs)\u001b[0m\n\u001b[1;32m    354\u001b[0m       \u001b[0mhook\u001b[0m \u001b[0;34m=\u001b[0m \u001b[0mgetattr\u001b[0m\u001b[0;34m(\u001b[0m\u001b[0mcallback\u001b[0m\u001b[0;34m,\u001b[0m \u001b[0mhook_name\u001b[0m\u001b[0;34m)\u001b[0m\u001b[0;34m\u001b[0m\u001b[0;34m\u001b[0m\u001b[0m\n\u001b[1;32m    355\u001b[0m       \u001b[0;32mif\u001b[0m \u001b[0mgetattr\u001b[0m\u001b[0;34m(\u001b[0m\u001b[0mcallback\u001b[0m\u001b[0;34m,\u001b[0m \u001b[0;34m'_supports_tf_logs'\u001b[0m\u001b[0;34m,\u001b[0m \u001b[0;32mFalse\u001b[0m\u001b[0;34m)\u001b[0m\u001b[0;34m:\u001b[0m\u001b[0;34m\u001b[0m\u001b[0;34m\u001b[0m\u001b[0m\n\u001b[0;32m--> 356\u001b[0;31m         \u001b[0mhook\u001b[0m\u001b[0;34m(\u001b[0m\u001b[0mbatch\u001b[0m\u001b[0;34m,\u001b[0m \u001b[0mlogs\u001b[0m\u001b[0;34m)\u001b[0m\u001b[0;34m\u001b[0m\u001b[0;34m\u001b[0m\u001b[0m\n\u001b[0m\u001b[1;32m    357\u001b[0m       \u001b[0;32melse\u001b[0m\u001b[0;34m:\u001b[0m\u001b[0;34m\u001b[0m\u001b[0;34m\u001b[0m\u001b[0m\n\u001b[1;32m    358\u001b[0m         \u001b[0;32mif\u001b[0m \u001b[0mnumpy_logs\u001b[0m \u001b[0;32mis\u001b[0m \u001b[0;32mNone\u001b[0m\u001b[0;34m:\u001b[0m  \u001b[0;31m# Only convert once.\u001b[0m\u001b[0;34m\u001b[0m\u001b[0;34m\u001b[0m\u001b[0m\n",
      "\u001b[0;32m/usr/local/lib/python3.7/dist-packages/tensorflow/python/keras/callbacks.py\u001b[0m in \u001b[0;36mon_train_batch_end\u001b[0;34m(self, batch, logs)\u001b[0m\n\u001b[1;32m   1018\u001b[0m \u001b[0;34m\u001b[0m\u001b[0m\n\u001b[1;32m   1019\u001b[0m   \u001b[0;32mdef\u001b[0m \u001b[0mon_train_batch_end\u001b[0m\u001b[0;34m(\u001b[0m\u001b[0mself\u001b[0m\u001b[0;34m,\u001b[0m \u001b[0mbatch\u001b[0m\u001b[0;34m,\u001b[0m \u001b[0mlogs\u001b[0m\u001b[0;34m=\u001b[0m\u001b[0;32mNone\u001b[0m\u001b[0;34m)\u001b[0m\u001b[0;34m:\u001b[0m\u001b[0;34m\u001b[0m\u001b[0;34m\u001b[0m\u001b[0m\n\u001b[0;32m-> 1020\u001b[0;31m     \u001b[0mself\u001b[0m\u001b[0;34m.\u001b[0m\u001b[0m_batch_update_progbar\u001b[0m\u001b[0;34m(\u001b[0m\u001b[0mbatch\u001b[0m\u001b[0;34m,\u001b[0m \u001b[0mlogs\u001b[0m\u001b[0;34m)\u001b[0m\u001b[0;34m\u001b[0m\u001b[0;34m\u001b[0m\u001b[0m\n\u001b[0m\u001b[1;32m   1021\u001b[0m \u001b[0;34m\u001b[0m\u001b[0m\n\u001b[1;32m   1022\u001b[0m   \u001b[0;32mdef\u001b[0m \u001b[0mon_test_batch_end\u001b[0m\u001b[0;34m(\u001b[0m\u001b[0mself\u001b[0m\u001b[0;34m,\u001b[0m \u001b[0mbatch\u001b[0m\u001b[0;34m,\u001b[0m \u001b[0mlogs\u001b[0m\u001b[0;34m=\u001b[0m\u001b[0;32mNone\u001b[0m\u001b[0;34m)\u001b[0m\u001b[0;34m:\u001b[0m\u001b[0;34m\u001b[0m\u001b[0;34m\u001b[0m\u001b[0m\n",
      "\u001b[0;32m/usr/local/lib/python3.7/dist-packages/tensorflow/python/keras/callbacks.py\u001b[0m in \u001b[0;36m_batch_update_progbar\u001b[0;34m(self, batch, logs)\u001b[0m\n\u001b[1;32m   1082\u001b[0m     \u001b[0;32mif\u001b[0m \u001b[0mself\u001b[0m\u001b[0;34m.\u001b[0m\u001b[0mverbose\u001b[0m \u001b[0;34m==\u001b[0m \u001b[0;36m1\u001b[0m\u001b[0;34m:\u001b[0m\u001b[0;34m\u001b[0m\u001b[0;34m\u001b[0m\u001b[0m\n\u001b[1;32m   1083\u001b[0m       \u001b[0;31m# Only block async when verbose = 1.\u001b[0m\u001b[0;34m\u001b[0m\u001b[0;34m\u001b[0m\u001b[0;34m\u001b[0m\u001b[0m\n\u001b[0;32m-> 1084\u001b[0;31m       \u001b[0mlogs\u001b[0m \u001b[0;34m=\u001b[0m \u001b[0mtf_utils\u001b[0m\u001b[0;34m.\u001b[0m\u001b[0mto_numpy_or_python_type\u001b[0m\u001b[0;34m(\u001b[0m\u001b[0mlogs\u001b[0m\u001b[0;34m)\u001b[0m\u001b[0;34m\u001b[0m\u001b[0;34m\u001b[0m\u001b[0m\n\u001b[0m\u001b[1;32m   1085\u001b[0m       \u001b[0mself\u001b[0m\u001b[0;34m.\u001b[0m\u001b[0mprogbar\u001b[0m\u001b[0;34m.\u001b[0m\u001b[0mupdate\u001b[0m\u001b[0;34m(\u001b[0m\u001b[0mself\u001b[0m\u001b[0;34m.\u001b[0m\u001b[0mseen\u001b[0m\u001b[0;34m,\u001b[0m \u001b[0mlist\u001b[0m\u001b[0;34m(\u001b[0m\u001b[0mlogs\u001b[0m\u001b[0;34m.\u001b[0m\u001b[0mitems\u001b[0m\u001b[0;34m(\u001b[0m\u001b[0;34m)\u001b[0m\u001b[0;34m)\u001b[0m\u001b[0;34m,\u001b[0m \u001b[0mfinalize\u001b[0m\u001b[0;34m=\u001b[0m\u001b[0;32mFalse\u001b[0m\u001b[0;34m)\u001b[0m\u001b[0;34m\u001b[0m\u001b[0;34m\u001b[0m\u001b[0m\n\u001b[1;32m   1086\u001b[0m \u001b[0;34m\u001b[0m\u001b[0m\n",
      "\u001b[0;32m/usr/local/lib/python3.7/dist-packages/tensorflow/python/keras/utils/tf_utils.py\u001b[0m in \u001b[0;36mto_numpy_or_python_type\u001b[0;34m(tensors)\u001b[0m\n\u001b[1;32m    512\u001b[0m     \u001b[0;32mreturn\u001b[0m \u001b[0mt\u001b[0m  \u001b[0;31m# Don't turn ragged or sparse tensors to NumPy.\u001b[0m\u001b[0;34m\u001b[0m\u001b[0;34m\u001b[0m\u001b[0m\n\u001b[1;32m    513\u001b[0m \u001b[0;34m\u001b[0m\u001b[0m\n\u001b[0;32m--> 514\u001b[0;31m   \u001b[0;32mreturn\u001b[0m \u001b[0mnest\u001b[0m\u001b[0;34m.\u001b[0m\u001b[0mmap_structure\u001b[0m\u001b[0;34m(\u001b[0m\u001b[0m_to_single_numpy_or_python_type\u001b[0m\u001b[0;34m,\u001b[0m \u001b[0mtensors\u001b[0m\u001b[0;34m)\u001b[0m\u001b[0;34m\u001b[0m\u001b[0;34m\u001b[0m\u001b[0m\n\u001b[0m\u001b[1;32m    515\u001b[0m \u001b[0;34m\u001b[0m\u001b[0m\n\u001b[1;32m    516\u001b[0m \u001b[0;34m\u001b[0m\u001b[0m\n",
      "\u001b[0;32m/usr/local/lib/python3.7/dist-packages/tensorflow/python/util/nest.py\u001b[0m in \u001b[0;36mmap_structure\u001b[0;34m(func, *structure, **kwargs)\u001b[0m\n\u001b[1;32m    657\u001b[0m \u001b[0;34m\u001b[0m\u001b[0m\n\u001b[1;32m    658\u001b[0m   return pack_sequence_as(\n\u001b[0;32m--> 659\u001b[0;31m       \u001b[0mstructure\u001b[0m\u001b[0;34m[\u001b[0m\u001b[0;36m0\u001b[0m\u001b[0;34m]\u001b[0m\u001b[0;34m,\u001b[0m \u001b[0;34m[\u001b[0m\u001b[0mfunc\u001b[0m\u001b[0;34m(\u001b[0m\u001b[0;34m*\u001b[0m\u001b[0mx\u001b[0m\u001b[0;34m)\u001b[0m \u001b[0;32mfor\u001b[0m \u001b[0mx\u001b[0m \u001b[0;32min\u001b[0m \u001b[0mentries\u001b[0m\u001b[0;34m]\u001b[0m\u001b[0;34m,\u001b[0m\u001b[0;34m\u001b[0m\u001b[0;34m\u001b[0m\u001b[0m\n\u001b[0m\u001b[1;32m    660\u001b[0m       expand_composites=expand_composites)\n\u001b[1;32m    661\u001b[0m \u001b[0;34m\u001b[0m\u001b[0m\n",
      "\u001b[0;32m/usr/local/lib/python3.7/dist-packages/tensorflow/python/util/nest.py\u001b[0m in \u001b[0;36m<listcomp>\u001b[0;34m(.0)\u001b[0m\n\u001b[1;32m    657\u001b[0m \u001b[0;34m\u001b[0m\u001b[0m\n\u001b[1;32m    658\u001b[0m   return pack_sequence_as(\n\u001b[0;32m--> 659\u001b[0;31m       \u001b[0mstructure\u001b[0m\u001b[0;34m[\u001b[0m\u001b[0;36m0\u001b[0m\u001b[0;34m]\u001b[0m\u001b[0;34m,\u001b[0m \u001b[0;34m[\u001b[0m\u001b[0mfunc\u001b[0m\u001b[0;34m(\u001b[0m\u001b[0;34m*\u001b[0m\u001b[0mx\u001b[0m\u001b[0;34m)\u001b[0m \u001b[0;32mfor\u001b[0m \u001b[0mx\u001b[0m \u001b[0;32min\u001b[0m \u001b[0mentries\u001b[0m\u001b[0;34m]\u001b[0m\u001b[0;34m,\u001b[0m\u001b[0;34m\u001b[0m\u001b[0;34m\u001b[0m\u001b[0m\n\u001b[0m\u001b[1;32m    660\u001b[0m       expand_composites=expand_composites)\n\u001b[1;32m    661\u001b[0m \u001b[0;34m\u001b[0m\u001b[0m\n",
      "\u001b[0;32m/usr/local/lib/python3.7/dist-packages/tensorflow/python/keras/utils/tf_utils.py\u001b[0m in \u001b[0;36m_to_single_numpy_or_python_type\u001b[0;34m(t)\u001b[0m\n\u001b[1;32m    508\u001b[0m   \u001b[0;32mdef\u001b[0m \u001b[0m_to_single_numpy_or_python_type\u001b[0m\u001b[0;34m(\u001b[0m\u001b[0mt\u001b[0m\u001b[0;34m)\u001b[0m\u001b[0;34m:\u001b[0m\u001b[0;34m\u001b[0m\u001b[0;34m\u001b[0m\u001b[0m\n\u001b[1;32m    509\u001b[0m     \u001b[0;32mif\u001b[0m \u001b[0misinstance\u001b[0m\u001b[0;34m(\u001b[0m\u001b[0mt\u001b[0m\u001b[0;34m,\u001b[0m \u001b[0mops\u001b[0m\u001b[0;34m.\u001b[0m\u001b[0mTensor\u001b[0m\u001b[0;34m)\u001b[0m\u001b[0;34m:\u001b[0m\u001b[0;34m\u001b[0m\u001b[0;34m\u001b[0m\u001b[0m\n\u001b[0;32m--> 510\u001b[0;31m       \u001b[0mx\u001b[0m \u001b[0;34m=\u001b[0m \u001b[0mt\u001b[0m\u001b[0;34m.\u001b[0m\u001b[0mnumpy\u001b[0m\u001b[0;34m(\u001b[0m\u001b[0;34m)\u001b[0m\u001b[0;34m\u001b[0m\u001b[0;34m\u001b[0m\u001b[0m\n\u001b[0m\u001b[1;32m    511\u001b[0m       \u001b[0;32mreturn\u001b[0m \u001b[0mx\u001b[0m\u001b[0;34m.\u001b[0m\u001b[0mitem\u001b[0m\u001b[0;34m(\u001b[0m\u001b[0;34m)\u001b[0m \u001b[0;32mif\u001b[0m \u001b[0mnp\u001b[0m\u001b[0;34m.\u001b[0m\u001b[0mndim\u001b[0m\u001b[0;34m(\u001b[0m\u001b[0mx\u001b[0m\u001b[0;34m)\u001b[0m \u001b[0;34m==\u001b[0m \u001b[0;36m0\u001b[0m \u001b[0;32melse\u001b[0m \u001b[0mx\u001b[0m\u001b[0;34m\u001b[0m\u001b[0;34m\u001b[0m\u001b[0m\n\u001b[1;32m    512\u001b[0m     \u001b[0;32mreturn\u001b[0m \u001b[0mt\u001b[0m  \u001b[0;31m# Don't turn ragged or sparse tensors to NumPy.\u001b[0m\u001b[0;34m\u001b[0m\u001b[0;34m\u001b[0m\u001b[0m\n",
      "\u001b[0;32m/usr/local/lib/python3.7/dist-packages/tensorflow/python/framework/ops.py\u001b[0m in \u001b[0;36mnumpy\u001b[0;34m(self)\u001b[0m\n\u001b[1;32m   1069\u001b[0m     \"\"\"\n\u001b[1;32m   1070\u001b[0m     \u001b[0;31m# TODO(slebedev): Consider avoiding a copy for non-CPU or remote tensors.\u001b[0m\u001b[0;34m\u001b[0m\u001b[0;34m\u001b[0m\u001b[0;34m\u001b[0m\u001b[0m\n\u001b[0;32m-> 1071\u001b[0;31m     \u001b[0mmaybe_arr\u001b[0m \u001b[0;34m=\u001b[0m \u001b[0mself\u001b[0m\u001b[0;34m.\u001b[0m\u001b[0m_numpy\u001b[0m\u001b[0;34m(\u001b[0m\u001b[0;34m)\u001b[0m  \u001b[0;31m# pylint: disable=protected-access\u001b[0m\u001b[0;34m\u001b[0m\u001b[0;34m\u001b[0m\u001b[0m\n\u001b[0m\u001b[1;32m   1072\u001b[0m     \u001b[0;32mreturn\u001b[0m \u001b[0mmaybe_arr\u001b[0m\u001b[0;34m.\u001b[0m\u001b[0mcopy\u001b[0m\u001b[0;34m(\u001b[0m\u001b[0;34m)\u001b[0m \u001b[0;32mif\u001b[0m \u001b[0misinstance\u001b[0m\u001b[0;34m(\u001b[0m\u001b[0mmaybe_arr\u001b[0m\u001b[0;34m,\u001b[0m \u001b[0mnp\u001b[0m\u001b[0;34m.\u001b[0m\u001b[0mndarray\u001b[0m\u001b[0;34m)\u001b[0m \u001b[0;32melse\u001b[0m \u001b[0mmaybe_arr\u001b[0m\u001b[0;34m\u001b[0m\u001b[0;34m\u001b[0m\u001b[0m\n\u001b[1;32m   1073\u001b[0m \u001b[0;34m\u001b[0m\u001b[0m\n",
      "\u001b[0;32m/usr/local/lib/python3.7/dist-packages/tensorflow/python/framework/ops.py\u001b[0m in \u001b[0;36m_numpy\u001b[0;34m(self)\u001b[0m\n\u001b[1;32m   1035\u001b[0m   \u001b[0;32mdef\u001b[0m \u001b[0m_numpy\u001b[0m\u001b[0;34m(\u001b[0m\u001b[0mself\u001b[0m\u001b[0;34m)\u001b[0m\u001b[0;34m:\u001b[0m\u001b[0;34m\u001b[0m\u001b[0;34m\u001b[0m\u001b[0m\n\u001b[1;32m   1036\u001b[0m     \u001b[0;32mtry\u001b[0m\u001b[0;34m:\u001b[0m\u001b[0;34m\u001b[0m\u001b[0;34m\u001b[0m\u001b[0m\n\u001b[0;32m-> 1037\u001b[0;31m       \u001b[0;32mreturn\u001b[0m \u001b[0mself\u001b[0m\u001b[0;34m.\u001b[0m\u001b[0m_numpy_internal\u001b[0m\u001b[0;34m(\u001b[0m\u001b[0;34m)\u001b[0m\u001b[0;34m\u001b[0m\u001b[0;34m\u001b[0m\u001b[0m\n\u001b[0m\u001b[1;32m   1038\u001b[0m     \u001b[0;32mexcept\u001b[0m \u001b[0mcore\u001b[0m\u001b[0;34m.\u001b[0m\u001b[0m_NotOkStatusException\u001b[0m \u001b[0;32mas\u001b[0m \u001b[0me\u001b[0m\u001b[0;34m:\u001b[0m  \u001b[0;31m# pylint: disable=protected-access\u001b[0m\u001b[0;34m\u001b[0m\u001b[0;34m\u001b[0m\u001b[0m\n\u001b[1;32m   1039\u001b[0m       \u001b[0msix\u001b[0m\u001b[0;34m.\u001b[0m\u001b[0mraise_from\u001b[0m\u001b[0;34m(\u001b[0m\u001b[0mcore\u001b[0m\u001b[0;34m.\u001b[0m\u001b[0m_status_to_exception\u001b[0m\u001b[0;34m(\u001b[0m\u001b[0me\u001b[0m\u001b[0;34m.\u001b[0m\u001b[0mcode\u001b[0m\u001b[0;34m,\u001b[0m \u001b[0me\u001b[0m\u001b[0;34m.\u001b[0m\u001b[0mmessage\u001b[0m\u001b[0;34m)\u001b[0m\u001b[0;34m,\u001b[0m \u001b[0;32mNone\u001b[0m\u001b[0;34m)\u001b[0m  \u001b[0;31m# pylint: disable=protected-access\u001b[0m\u001b[0;34m\u001b[0m\u001b[0;34m\u001b[0m\u001b[0m\n",
      "\u001b[0;31mKeyboardInterrupt\u001b[0m: "
     ]
    }
   ],
   "source": [
    "num_epochs = 100\n",
    "history = model.fit(X_train, y_train, batch_size=128, epochs=num_epochs, validation_data=(X_test, y_test))"
   ]
  },
  {
   "cell_type": "code",
   "execution_count": null,
   "metadata": {
    "colab": {
     "base_uri": "https://localhost:8080/",
     "height": 541
    },
    "id": "dN5vAF-bCC7p",
    "outputId": "135d1402-d1e5-4e92-c0c5-34fd0fb7f4f1"
   },
   "outputs": [
    {
     "data": {
      "image/png": "[encoded data removed]",
      "text/plain": [
       "<Figure size 432x288 with 1 Axes>"
      ]
     },
     "metadata": {
      "needs_background": "light",
      "tags": []
     },
     "output_type": "display_data"
    },
    {
     "data": {
      "image/png": "[encoded data removed]",
      "text/plain": [
       "<Figure size 432x288 with 1 Axes>"
      ]
     },
     "metadata": {
      "needs_background": "light",
      "tags": []
     },
     "output_type": "display_data"
    }
   ],
   "source": [
    "plot_graphs(history, 'accuracy')\n",
    "plot_graphs(history, 'loss')"
   ]
  },
  {
   "cell_type": "markdown",
   "metadata": {
    "id": "9EgHNtCMVWbN"
   },
   "source": [
    "### Large Model with Sophisticated NN\n",
    "\n",
    "### Non-Binary Classification (Non-Trainable parameter)"
   ]
  },
  {
   "cell_type": "code",
   "execution_count": null,
   "metadata": {
    "colab": {
     "base_uri": "https://localhost:8080/"
    },
    "id": "9siXBp8LG-9W",
    "outputId": "594a6fd6-9804-41f7-b373-3fed9ed5607e"
   },
   "outputs": [
    {
     "name": "stdout",
     "output_type": "stream",
     "text": [
      "Model: \"sequential_4\"\n",
      "_________________________________________________________________\n",
      "Layer (type)                 Output Shape              Param #   \n",
      "=================================================================\n",
      "keras_layer (KerasLayer)     (None, 128)               124642688 \n",
      "_________________________________________________________________\n",
      "reshape (Reshape)            (None, 128, 1)            0         \n",
      "_________________________________________________________________\n",
      "bidirectional_4 (Bidirection (None, 128)               33792     \n",
      "_________________________________________________________________\n",
      "dense_8 (Dense)              (None, 256)               33024     \n",
      "_________________________________________________________________\n",
      "dropout_4 (Dropout)          (None, 256)               0         \n",
      "_________________________________________________________________\n",
      "dense_9 (Dense)              (None, 3)                 771       \n",
      "=================================================================\n",
      "Total params: 124,710,275\n",
      "Trainable params: 67,587\n",
      "Non-trainable params: 124,642,688\n",
      "_________________________________________________________________\n"
     ]
    }
   ],
   "source": [
    "hub_layer = hub.KerasLayer(\"https://tfhub.dev/google/tf2-preview/nnlm-en-dim128/1\", output_shape=[128],\n",
    "                           input_shape=[], dtype=tf.string)\n",
    "model = tf.keras.Sequential([\n",
    "    hub_layer,\n",
    "    tf.keras.layers.Reshape((128, 1)),\n",
    "    tf.keras.layers.Bidirectional(tf.keras.layers.LSTM(64)),\n",
    "    tf.keras.layers.Dense(256, activation='relu'),\n",
    "    tf.keras.layers.Dropout(0.5),\n",
    "    tf.keras.layers.Dense(3, activation='sigmoid')\n",
    "])\n",
    "model.compile(loss='categorical_crossentropy',optimizer='RMSprop',metrics=['accuracy'])\n",
    "model.summary()"
   ]
  },
  {
   "cell_type": "code",
   "execution_count": null,
   "metadata": {
    "colab": {
     "base_uri": "https://localhost:8080/",
     "height": 1000
    },
    "id": "dY1Hm7gcG-_j",
    "outputId": "301a4b39-07e4-4b1e-a8a8-8e54a76a1284"
   },
   "outputs": [
    {
     "name": "stdout",
     "output_type": "stream",
     "text": [
      "Epoch 1/100\n",
      "677/677 [==============================] - 20s 26ms/step - loss: 0.8697 - accuracy: 0.6676 - val_loss: 0.8371 - val_accuracy: 0.6708\n",
      "Epoch 2/100\n",
      "677/677 [==============================] - 20s 30ms/step - loss: 0.8238 - accuracy: 0.6789 - val_loss: 0.8128 - val_accuracy: 0.6748\n",
      "Epoch 3/100\n",
      "677/677 [==============================] - 18s 26ms/step - loss: 0.8075 - accuracy: 0.6818 - val_loss: 0.8107 - val_accuracy: 0.6760\n",
      "Epoch 4/100\n",
      "677/677 [==============================] - 19s 28ms/step - loss: 0.7904 - accuracy: 0.6877 - val_loss: 0.8398 - val_accuracy: 0.6488\n",
      "Epoch 5/100\n",
      "677/677 [==============================] - 18s 27ms/step - loss: 0.7830 - accuracy: 0.6914 - val_loss: 0.7947 - val_accuracy: 0.6888\n",
      "Epoch 6/100\n",
      "677/677 [==============================] - 21s 30ms/step - loss: 0.7737 - accuracy: 0.6967 - val_loss: 0.7864 - val_accuracy: 0.6924\n",
      "Epoch 7/100\n",
      "677/677 [==============================] - 20s 29ms/step - loss: 0.7682 - accuracy: 0.6996 - val_loss: 0.7708 - val_accuracy: 0.6943\n",
      "Epoch 8/100\n",
      "677/677 [==============================] - 20s 29ms/step - loss: 0.7750 - accuracy: 0.6936 - val_loss: 0.7760 - val_accuracy: 0.6927\n",
      "Epoch 9/100\n",
      "677/677 [==============================] - 16s 24ms/step - loss: 0.7610 - accuracy: 0.7000 - val_loss: 0.7935 - val_accuracy: 0.6850\n",
      "Epoch 10/100\n",
      "677/677 [==============================] - 18s 26ms/step - loss: 0.7620 - accuracy: 0.6984 - val_loss: 0.7668 - val_accuracy: 0.6914\n",
      "Epoch 11/100\n",
      "677/677 [==============================] - 19s 28ms/step - loss: 0.7615 - accuracy: 0.6981 - val_loss: 0.7671 - val_accuracy: 0.6942\n",
      "Epoch 12/100\n",
      "677/677 [==============================] - 18s 26ms/step - loss: 0.7577 - accuracy: 0.6998 - val_loss: 0.7656 - val_accuracy: 0.6944\n",
      "Epoch 13/100\n",
      "677/677 [==============================] - 20s 30ms/step - loss: 0.7510 - accuracy: 0.7037 - val_loss: 0.7802 - val_accuracy: 0.6893\n",
      "Epoch 14/100\n",
      "677/677 [==============================] - 18s 26ms/step - loss: 0.7539 - accuracy: 0.7016 - val_loss: 0.7659 - val_accuracy: 0.6960\n",
      "Epoch 15/100\n",
      "677/677 [==============================] - 19s 28ms/step - loss: 0.7500 - accuracy: 0.7018 - val_loss: 0.7737 - val_accuracy: 0.6893\n",
      "Epoch 16/100\n",
      "677/677 [==============================] - 17s 26ms/step - loss: 0.7489 - accuracy: 0.7026 - val_loss: 0.7626 - val_accuracy: 0.6960\n",
      "Epoch 17/100\n",
      "677/677 [==============================] - 16s 24ms/step - loss: 0.7445 - accuracy: 0.7059 - val_loss: 0.7736 - val_accuracy: 0.6958\n",
      "Epoch 18/100\n",
      "677/677 [==============================] - 16s 24ms/step - loss: 0.7445 - accuracy: 0.7056 - val_loss: 0.7545 - val_accuracy: 0.7010\n",
      "Epoch 19/100\n",
      "677/677 [==============================] - 18s 27ms/step - loss: 0.7396 - accuracy: 0.7058 - val_loss: 0.7556 - val_accuracy: 0.6969\n",
      "Epoch 20/100\n",
      "677/677 [==============================] - 19s 27ms/step - loss: 0.7381 - accuracy: 0.7067 - val_loss: 0.7547 - val_accuracy: 0.6996\n",
      "Epoch 21/100\n",
      "677/677 [==============================] - 16s 23ms/step - loss: 0.7396 - accuracy: 0.7062 - val_loss: 0.7422 - val_accuracy: 0.7050\n",
      "Epoch 22/100\n",
      "677/677 [==============================] - 18s 26ms/step - loss: 0.7353 - accuracy: 0.7081 - val_loss: 0.7624 - val_accuracy: 0.6893\n",
      "Epoch 23/100\n",
      "677/677 [==============================] - 18s 27ms/step - loss: 0.7363 - accuracy: 0.7087 - val_loss: 0.7468 - val_accuracy: 0.7004\n",
      "Epoch 24/100\n",
      "677/677 [==============================] - 22s 32ms/step - loss: 0.7309 - accuracy: 0.7098 - val_loss: 0.7546 - val_accuracy: 0.6994\n",
      "Epoch 25/100\n",
      "677/677 [==============================] - 17s 25ms/step - loss: 0.7354 - accuracy: 0.7089 - val_loss: 0.7540 - val_accuracy: 0.7006\n",
      "Epoch 26/100\n",
      "677/677 [==============================] - 20s 29ms/step - loss: 0.7278 - accuracy: 0.7118 - val_loss: 0.7361 - val_accuracy: 0.7049\n",
      "Epoch 27/100\n",
      "677/677 [==============================] - 17s 25ms/step - loss: 0.7291 - accuracy: 0.7103 - val_loss: 0.7504 - val_accuracy: 0.7013\n",
      "Epoch 28/100\n",
      "677/677 [==============================] - 18s 26ms/step - loss: 0.7276 - accuracy: 0.7112 - val_loss: 0.7289 - val_accuracy: 0.7079\n",
      "Epoch 29/100\n",
      "677/677 [==============================] - 16s 24ms/step - loss: 0.7271 - accuracy: 0.7108 - val_loss: 0.7388 - val_accuracy: 0.7043\n",
      "Epoch 30/100\n",
      "677/677 [==============================] - 20s 30ms/step - loss: 0.7212 - accuracy: 0.7141 - val_loss: 0.7470 - val_accuracy: 0.7013\n",
      "Epoch 31/100\n",
      "677/677 [==============================] - 19s 29ms/step - loss: 0.7188 - accuracy: 0.7169 - val_loss: 0.7356 - val_accuracy: 0.7047\n",
      "Epoch 32/100\n",
      "677/677 [==============================] - 20s 29ms/step - loss: 0.7187 - accuracy: 0.7166 - val_loss: 0.7468 - val_accuracy: 0.7014\n",
      "Epoch 33/100\n",
      "677/677 [==============================] - 16s 24ms/step - loss: 0.7198 - accuracy: 0.7154 - val_loss: 0.7352 - val_accuracy: 0.7060\n",
      "Epoch 34/100\n",
      "677/677 [==============================] - 17s 26ms/step - loss: 0.7170 - accuracy: 0.7150 - val_loss: 0.7458 - val_accuracy: 0.7073\n",
      "Epoch 35/100\n",
      "677/677 [==============================] - 21s 30ms/step - loss: 0.7149 - accuracy: 0.7151 - val_loss: 0.7306 - val_accuracy: 0.7053\n",
      "Epoch 36/100\n",
      "677/677 [==============================] - 20s 29ms/step - loss: 0.7129 - accuracy: 0.7215 - val_loss: 0.7364 - val_accuracy: 0.7016\n",
      "Epoch 37/100\n",
      "677/677 [==============================] - 18s 27ms/step - loss: 0.7139 - accuracy: 0.7159 - val_loss: 0.7551 - val_accuracy: 0.7113\n",
      "Epoch 38/100\n",
      "677/677 [==============================] - 17s 25ms/step - loss: 0.7072 - accuracy: 0.7207 - val_loss: 0.7416 - val_accuracy: 0.7041\n",
      "Epoch 39/100\n",
      "677/677 [==============================] - 20s 30ms/step - loss: 0.7136 - accuracy: 0.7180 - val_loss: 0.7252 - val_accuracy: 0.7080\n",
      "Epoch 40/100\n",
      "677/677 [==============================] - 20s 29ms/step - loss: 0.7110 - accuracy: 0.7185 - val_loss: 0.7441 - val_accuracy: 0.6990\n",
      "Epoch 41/100\n",
      "677/677 [==============================] - 16s 23ms/step - loss: 0.7124 - accuracy: 0.7179 - val_loss: 0.7274 - val_accuracy: 0.7093\n",
      "Epoch 42/100\n",
      "203/677 [=======>......................] - ETA: 9s - loss: 0.6990 - accuracy: 0.7213"
     ]
    },
    {
     "ename": "KeyboardInterrupt",
     "evalue": "ignored",
     "output_type": "error",
     "traceback": [
      "\u001b[0;31m---------------------------------------------------------------------------\u001b[0m",
      "\u001b[0;31mKeyboardInterrupt\u001b[0m                         Traceback (most recent call last)",
      "\u001b[0;32m<ipython-input-60-43790a366a72>\u001b[0m in \u001b[0;36m<module>\u001b[0;34m()\u001b[0m\n\u001b[1;32m      1\u001b[0m \u001b[0mnum_epochs\u001b[0m \u001b[0;34m=\u001b[0m \u001b[0;36m100\u001b[0m\u001b[0;34m\u001b[0m\u001b[0;34m\u001b[0m\u001b[0m\n\u001b[0;32m----> 2\u001b[0;31m \u001b[0mhistory\u001b[0m \u001b[0;34m=\u001b[0m \u001b[0mmodel\u001b[0m\u001b[0;34m.\u001b[0m\u001b[0mfit\u001b[0m\u001b[0;34m(\u001b[0m\u001b[0mX_train\u001b[0m\u001b[0;34m,\u001b[0m \u001b[0my_train\u001b[0m\u001b[0;34m,\u001b[0m \u001b[0mbatch_size\u001b[0m\u001b[0;34m=\u001b[0m\u001b[0;36m128\u001b[0m\u001b[0;34m,\u001b[0m \u001b[0mepochs\u001b[0m\u001b[0;34m=\u001b[0m\u001b[0mnum_epochs\u001b[0m\u001b[0;34m,\u001b[0m \u001b[0mvalidation_data\u001b[0m\u001b[0;34m=\u001b[0m\u001b[0;34m(\u001b[0m\u001b[0mX_test\u001b[0m\u001b[0;34m,\u001b[0m \u001b[0my_test\u001b[0m\u001b[0;34m)\u001b[0m\u001b[0;34m)\u001b[0m\u001b[0;34m\u001b[0m\u001b[0;34m\u001b[0m\u001b[0m\n\u001b[0m",
      "\u001b[0;32m/usr/local/lib/python3.7/dist-packages/tensorflow/python/keras/engine/training.py\u001b[0m in \u001b[0;36mfit\u001b[0;34m(self, x, y, batch_size, epochs, verbose, callbacks, validation_split, validation_data, shuffle, class_weight, sample_weight, initial_epoch, steps_per_epoch, validation_steps, validation_batch_size, validation_freq, max_queue_size, workers, use_multiprocessing)\u001b[0m\n\u001b[1;32m   1098\u001b[0m                 _r=1):\n\u001b[1;32m   1099\u001b[0m               \u001b[0mcallbacks\u001b[0m\u001b[0;34m.\u001b[0m\u001b[0mon_train_batch_begin\u001b[0m\u001b[0;34m(\u001b[0m\u001b[0mstep\u001b[0m\u001b[0;34m)\u001b[0m\u001b[0;34m\u001b[0m\u001b[0;34m\u001b[0m\u001b[0m\n\u001b[0;32m-> 1100\u001b[0;31m               \u001b[0mtmp_logs\u001b[0m \u001b[0;34m=\u001b[0m \u001b[0mself\u001b[0m\u001b[0;34m.\u001b[0m\u001b[0mtrain_function\u001b[0m\u001b[0;34m(\u001b[0m\u001b[0miterator\u001b[0m\u001b[0;34m)\u001b[0m\u001b[0;34m\u001b[0m\u001b[0;34m\u001b[0m\u001b[0m\n\u001b[0m\u001b[1;32m   1101\u001b[0m               \u001b[0;32mif\u001b[0m \u001b[0mdata_handler\u001b[0m\u001b[0;34m.\u001b[0m\u001b[0mshould_sync\u001b[0m\u001b[0;34m:\u001b[0m\u001b[0;34m\u001b[0m\u001b[0;34m\u001b[0m\u001b[0m\n\u001b[1;32m   1102\u001b[0m                 \u001b[0mcontext\u001b[0m\u001b[0;34m.\u001b[0m\u001b[0masync_wait\u001b[0m\u001b[0;34m(\u001b[0m\u001b[0;34m)\u001b[0m\u001b[0;34m\u001b[0m\u001b[0;34m\u001b[0m\u001b[0m\n",
      "\u001b[0;32m/usr/local/lib/python3.7/dist-packages/tensorflow/python/eager/def_function.py\u001b[0m in \u001b[0;36m__call__\u001b[0;34m(self, *args, **kwds)\u001b[0m\n\u001b[1;32m    837\u001b[0m       \u001b[0;32mif\u001b[0m \u001b[0mwithout_tracing\u001b[0m\u001b[0;34m:\u001b[0m\u001b[0;34m\u001b[0m\u001b[0;34m\u001b[0m\u001b[0m\n\u001b[1;32m    838\u001b[0m         _frequent_tracing_detector.called_without_tracing(\n\u001b[0;32m--> 839\u001b[0;31m             self._key_for_call_stats)\n\u001b[0m\u001b[1;32m    840\u001b[0m       \u001b[0;32melse\u001b[0m\u001b[0;34m:\u001b[0m\u001b[0;34m\u001b[0m\u001b[0;34m\u001b[0m\u001b[0m\n\u001b[1;32m    841\u001b[0m         _frequent_tracing_detector.called_with_tracing(self._key_for_call_stats,\n",
      "\u001b[0;32m/usr/local/lib/python3.7/dist-packages/tensorflow/python/eager/def_function.py\u001b[0m in \u001b[0;36mcalled_without_tracing\u001b[0;34m(self, key)\u001b[0m\n\u001b[1;32m    102\u001b[0m \u001b[0;34m\u001b[0m\u001b[0m\n\u001b[1;32m    103\u001b[0m   \u001b[0;32mdef\u001b[0m \u001b[0mcalled_without_tracing\u001b[0m\u001b[0;34m(\u001b[0m\u001b[0mself\u001b[0m\u001b[0;34m,\u001b[0m \u001b[0mkey\u001b[0m\u001b[0;34m)\u001b[0m\u001b[0;34m:\u001b[0m\u001b[0;34m\u001b[0m\u001b[0;34m\u001b[0m\u001b[0m\n\u001b[0;32m--> 104\u001b[0;31m     \u001b[0;32mwith\u001b[0m \u001b[0mself\u001b[0m\u001b[0;34m.\u001b[0m\u001b[0m_lock\u001b[0m\u001b[0;34m:\u001b[0m\u001b[0;34m\u001b[0m\u001b[0;34m\u001b[0m\u001b[0m\n\u001b[0m\u001b[1;32m    105\u001b[0m       \u001b[0mcounter\u001b[0m \u001b[0;34m=\u001b[0m \u001b[0mself\u001b[0m\u001b[0;34m.\u001b[0m\u001b[0m_get_counter\u001b[0m\u001b[0;34m(\u001b[0m\u001b[0mkey\u001b[0m\u001b[0;34m)\u001b[0m\u001b[0;34m\u001b[0m\u001b[0;34m\u001b[0m\u001b[0m\n\u001b[1;32m    106\u001b[0m       \u001b[0mcounter\u001b[0m\u001b[0;34m.\u001b[0m\u001b[0mcalled_without_tracing\u001b[0m\u001b[0;34m(\u001b[0m\u001b[0;34m)\u001b[0m\u001b[0;34m\u001b[0m\u001b[0;34m\u001b[0m\u001b[0m\n",
      "\u001b[0;31mKeyboardInterrupt\u001b[0m: "
     ]
    }
   ],
   "source": [
    "num_epochs = 100\n",
    "history = model.fit(X_train, y_train, batch_size=128, epochs=num_epochs, validation_data=(X_test, y_test))"
   ]
  },
  {
   "cell_type": "markdown",
   "metadata": {
    "id": "6wFATPQUHgdq"
   },
   "source": [
    "### Non-Binary Classification (Trainable parameter)"
   ]
  },
  {
   "cell_type": "code",
   "execution_count": null,
   "metadata": {
    "colab": {
     "base_uri": "https://localhost:8080/"
    },
    "id": "CtAAQvhOHgwT",
    "outputId": "19ce5a04-6321-417d-c97c-712cc2cd0df6"
   },
   "outputs": [
    {
     "name": "stdout",
     "output_type": "stream",
     "text": [
      "WARNING:tensorflow:11 out of the last 11 calls to <function recreate_function.<locals>.restored_function_body at 0x7f95d99194d0> triggered tf.function retracing. Tracing is expensive and the excessive number of tracings could be due to (1) creating @tf.function repeatedly in a loop, (2) passing tensors with different shapes, (3) passing Python objects instead of tensors. For (1), please define your @tf.function outside of the loop. For (2), @tf.function has experimental_relax_shapes=True option that relaxes argument shapes that can avoid unnecessary retracing. For (3), please refer to https://www.tensorflow.org/guide/function#controlling_retracing and https://www.tensorflow.org/api_docs/python/tf/function for  more details.\n"
     ]
    },
    {
     "name": "stderr",
     "output_type": "stream",
     "text": [
      "WARNING:tensorflow:11 out of the last 11 calls to <function recreate_function.<locals>.restored_function_body at 0x7f95d99194d0> triggered tf.function retracing. Tracing is expensive and the excessive number of tracings could be due to (1) creating @tf.function repeatedly in a loop, (2) passing tensors with different shapes, (3) passing Python objects instead of tensors. For (1), please define your @tf.function outside of the loop. For (2), @tf.function has experimental_relax_shapes=True option that relaxes argument shapes that can avoid unnecessary retracing. For (3), please refer to https://www.tensorflow.org/guide/function#controlling_retracing and https://www.tensorflow.org/api_docs/python/tf/function for  more details.\n"
     ]
    },
    {
     "name": "stdout",
     "output_type": "stream",
     "text": [
      "WARNING:tensorflow:11 out of the last 11 calls to <function recreate_function.<locals>.restored_function_body at 0x7f95d991f3b0> triggered tf.function retracing. Tracing is expensive and the excessive number of tracings could be due to (1) creating @tf.function repeatedly in a loop, (2) passing tensors with different shapes, (3) passing Python objects instead of tensors. For (1), please define your @tf.function outside of the loop. For (2), @tf.function has experimental_relax_shapes=True option that relaxes argument shapes that can avoid unnecessary retracing. For (3), please refer to https://www.tensorflow.org/guide/function#controlling_retracing and https://www.tensorflow.org/api_docs/python/tf/function for  more details.\n"
     ]
    },
    {
     "name": "stderr",
     "output_type": "stream",
     "text": [
      "WARNING:tensorflow:11 out of the last 11 calls to <function recreate_function.<locals>.restored_function_body at 0x7f95d991f3b0> triggered tf.function retracing. Tracing is expensive and the excessive number of tracings could be due to (1) creating @tf.function repeatedly in a loop, (2) passing tensors with different shapes, (3) passing Python objects instead of tensors. For (1), please define your @tf.function outside of the loop. For (2), @tf.function has experimental_relax_shapes=True option that relaxes argument shapes that can avoid unnecessary retracing. For (3), please refer to https://www.tensorflow.org/guide/function#controlling_retracing and https://www.tensorflow.org/api_docs/python/tf/function for  more details.\n"
     ]
    },
    {
     "name": "stdout",
     "output_type": "stream",
     "text": [
      "Model: \"sequential_18\"\n",
      "_________________________________________________________________\n",
      "Layer (type)                 Output Shape              Param #   \n",
      "=================================================================\n",
      "keras_layer_12 (KerasLayer)  (None, 128)               124642688 \n",
      "_________________________________________________________________\n",
      "reshape_3 (Reshape)          (None, 128, 1)            0         \n",
      "_________________________________________________________________\n",
      "bidirectional_10 (Bidirectio (None, 32)                2304      \n",
      "_________________________________________________________________\n",
      "dense_36 (Dense)             (None, 64)                2112      \n",
      "_________________________________________________________________\n",
      "dropout_17 (Dropout)         (None, 64)                0         \n",
      "_________________________________________________________________\n",
      "dense_37 (Dense)             (None, 3)                 195       \n",
      "=================================================================\n",
      "Total params: 124,647,299\n",
      "Trainable params: 124,647,299\n",
      "Non-trainable params: 0\n",
      "_________________________________________________________________\n"
     ]
    }
   ],
   "source": [
    "hub_layer = hub.KerasLayer(\"https://tfhub.dev/google/tf2-preview/nnlm-en-dim128/1\", output_shape=[128],\n",
    "                           input_shape=[], dtype=tf.string, trainable=True)\n",
    "model = tf.keras.Sequential([\n",
    "    hub_layer,\n",
    "    tf.keras.layers.Reshape((128, 1)),\n",
    "    tf.keras.layers.Bidirectional(tf.keras.layers.LSTM(16)),\n",
    "    tf.keras.layers.Dense(64, activation='relu'),\n",
    "    tf.keras.layers.Dropout(0.5),\n",
    "    tf.keras.layers.Dense(3, activation='sigmoid'),\n",
    "])\n",
    "model.compile(loss='categorical_crossentropy',optimizer=tf.keras.optimizers.RMSprop(5e-4),metrics=['accuracy'])\n",
    "model.summary()"
   ]
  },
  {
   "cell_type": "code",
   "execution_count": null,
   "metadata": {
    "colab": {
     "base_uri": "https://localhost:8080/"
    },
    "id": "Z6x9Q5TzHgzW",
    "outputId": "4fde9ead-4480-4158-c7c2-5e7c6b48a23c"
   },
   "outputs": [
    {
     "name": "stdout",
     "output_type": "stream",
     "text": [
      "Epoch 1/10\n",
      "WARNING:tensorflow:11 out of the last 11 calls to <function recreate_function.<locals>.restored_function_body at 0x7f95eb43be60> triggered tf.function retracing. Tracing is expensive and the excessive number of tracings could be due to (1) creating @tf.function repeatedly in a loop, (2) passing tensors with different shapes, (3) passing Python objects instead of tensors. For (1), please define your @tf.function outside of the loop. For (2), @tf.function has experimental_relax_shapes=True option that relaxes argument shapes that can avoid unnecessary retracing. For (3), please refer to https://www.tensorflow.org/guide/function#controlling_retracing and https://www.tensorflow.org/api_docs/python/tf/function for  more details.\n"
     ]
    },
    {
     "name": "stderr",
     "output_type": "stream",
     "text": [
      "WARNING:tensorflow:11 out of the last 11 calls to <function recreate_function.<locals>.restored_function_body at 0x7f95eb43be60> triggered tf.function retracing. Tracing is expensive and the excessive number of tracings could be due to (1) creating @tf.function repeatedly in a loop, (2) passing tensors with different shapes, (3) passing Python objects instead of tensors. For (1), please define your @tf.function outside of the loop. For (2), @tf.function has experimental_relax_shapes=True option that relaxes argument shapes that can avoid unnecessary retracing. For (3), please refer to https://www.tensorflow.org/guide/function#controlling_retracing and https://www.tensorflow.org/api_docs/python/tf/function for  more details.\n"
     ]
    },
    {
     "name": "stdout",
     "output_type": "stream",
     "text": [
      "WARNING:tensorflow:11 out of the last 11 calls to <function recreate_function.<locals>.restored_function_body at 0x7f95463f8d40> triggered tf.function retracing. Tracing is expensive and the excessive number of tracings could be due to (1) creating @tf.function repeatedly in a loop, (2) passing tensors with different shapes, (3) passing Python objects instead of tensors. For (1), please define your @tf.function outside of the loop. For (2), @tf.function has experimental_relax_shapes=True option that relaxes argument shapes that can avoid unnecessary retracing. For (3), please refer to https://www.tensorflow.org/guide/function#controlling_retracing and https://www.tensorflow.org/api_docs/python/tf/function for  more details.\n"
     ]
    },
    {
     "name": "stderr",
     "output_type": "stream",
     "text": [
      "WARNING:tensorflow:11 out of the last 11 calls to <function recreate_function.<locals>.restored_function_body at 0x7f95463f8d40> triggered tf.function retracing. Tracing is expensive and the excessive number of tracings could be due to (1) creating @tf.function repeatedly in a loop, (2) passing tensors with different shapes, (3) passing Python objects instead of tensors. For (1), please define your @tf.function outside of the loop. For (2), @tf.function has experimental_relax_shapes=True option that relaxes argument shapes that can avoid unnecessary retracing. For (3), please refer to https://www.tensorflow.org/guide/function#controlling_retracing and https://www.tensorflow.org/api_docs/python/tf/function for  more details.\n"
     ]
    },
    {
     "name": "stdout",
     "output_type": "stream",
     "text": [
      "677/677 [==============================] - 30s 39ms/step - loss: 0.7857 - accuracy: 0.7019 - val_loss: 0.6045 - val_accuracy: 0.7642\n",
      "Epoch 2/10\n",
      "677/677 [==============================] - 25s 38ms/step - loss: 0.5908 - accuracy: 0.7736 - val_loss: 0.5817 - val_accuracy: 0.7773\n",
      "Epoch 3/10\n",
      "677/677 [==============================] - 25s 38ms/step - loss: 0.5538 - accuracy: 0.7898 - val_loss: 0.5662 - val_accuracy: 0.7834\n",
      "Epoch 4/10\n",
      "677/677 [==============================] - 25s 37ms/step - loss: 0.5330 - accuracy: 0.7997 - val_loss: 0.5586 - val_accuracy: 0.7863\n",
      "Epoch 5/10\n",
      "677/677 [==============================] - 25s 38ms/step - loss: 0.5154 - accuracy: 0.8080 - val_loss: 0.5624 - val_accuracy: 0.7863\n",
      "Epoch 6/10\n",
      "677/677 [==============================] - 25s 38ms/step - loss: 0.4987 - accuracy: 0.8158 - val_loss: 0.5638 - val_accuracy: 0.7881\n",
      "Epoch 7/10\n",
      "677/677 [==============================] - 25s 37ms/step - loss: 0.4815 - accuracy: 0.8251 - val_loss: 0.5792 - val_accuracy: 0.7881\n",
      "Epoch 8/10\n",
      "677/677 [==============================] - 25s 37ms/step - loss: 0.4664 - accuracy: 0.8323 - val_loss: 0.5835 - val_accuracy: 0.7860\n",
      "Epoch 9/10\n",
      "677/677 [==============================] - 26s 38ms/step - loss: 0.4566 - accuracy: 0.8344 - val_loss: 0.5907 - val_accuracy: 0.7799\n",
      "Epoch 10/10\n",
      "677/677 [==============================] - 25s 37ms/step - loss: 0.4494 - accuracy: 0.8403 - val_loss: 0.5923 - val_accuracy: 0.7781\n"
     ]
    }
   ],
   "source": [
    "num_epochs = 10\n",
    "history = model.fit(X_train, y_train, batch_size=128, epochs=num_epochs, validation_data=(X_test, y_test))"
   ]
  },
  {
   "cell_type": "code",
   "execution_count": null,
   "metadata": {
    "colab": {
     "base_uri": "https://localhost:8080/",
     "height": 545
    },
    "id": "-JKjbTPNbMK-",
    "outputId": "7bf8527a-463e-4e77-e00f-e16687857476"
   },
   "outputs": [
    {
     "data": {
      "image/png": "[encoded data removed]",
      "text/plain": [
       "<Figure size 432x288 with 1 Axes>"
      ]
     },
     "metadata": {
      "needs_background": "light",
      "tags": []
     },
     "output_type": "display_data"
    },
    {
     "data": {
      "image/png": "[encoded data removed]",
      "text/plain": [
       "<Figure size 432x288 with 1 Axes>"
      ]
     },
     "metadata": {
      "needs_background": "light",
      "tags": []
     },
     "output_type": "display_data"
    }
   ],
   "source": [
    "plot_graphs(history, 'accuracy')\n",
    "plot_graphs(history, 'loss')"
   ]
  },
  {
   "cell_type": "code",
   "execution_count": null,
   "metadata": {
    "id": "CfQ-ed2_bMOj"
   },
   "outputs": [],
   "source": [
    "predicted = model.predict(X_test)\n",
    "predicted = tf.argmax(predicted, axis=1)\n",
    "expected = tf.argmax(y_test, axis=1)"
   ]
  },
  {
   "cell_type": "code",
   "execution_count": null,
   "metadata": {
    "colab": {
     "base_uri": "https://localhost:8080/"
    },
    "id": "svJWar_Obdlr",
    "outputId": "fd670f14-4b76-48ce-d541-2d12b0c1aaf2"
   },
   "outputs": [
    {
     "name": "stdout",
     "output_type": "stream",
     "text": [
      "[[13158   700   583]\n",
      " [ 1786  1045   548]\n",
      " [  812   373  2633]]\n",
      "[14441, 3379, 3818]\n"
     ]
    },
    {
     "data": {
      "text/plain": [
       "[array([0.91115574, 0.0484731 , 0.04037117]),\n",
       " array([0.52855875, 0.3092631 , 0.16217816]),\n",
       " array([0.21267679, 0.09769513, 0.68962808])]"
      ]
     },
     "execution_count": 102,
     "metadata": {
      "tags": []
     },
     "output_type": "execute_result"
    }
   ],
   "source": [
    "confused_matrix = tf.math.confusion_matrix(expected, predicted).numpy()\n",
    "print(confused_matrix)\n",
    "sum_row = [temp.sum() for temp in confused_matrix]\n",
    "print(sum_row)\n",
    "[confused_matrix[i] / sum_row[i] for i in range(3)]"
   ]
  },
  {
   "cell_type": "markdown",
   "metadata": {
    "id": "YzmC3kY_G6jd"
   },
   "source": [
    "### Binary Classification"
   ]
  },
  {
   "cell_type": "code",
   "execution_count": null,
   "metadata": {
    "colab": {
     "base_uri": "https://localhost:8080/"
    },
    "id": "_FYDy0DoVYrE",
    "outputId": "24172598-e1c5-4c83-cf10-240a2d05d28b"
   },
   "outputs": [
    {
     "name": "stdout",
     "output_type": "stream",
     "text": [
      "WARNING:tensorflow:11 out of the last 11 calls to <function recreate_function.<locals>.restored_function_body at 0x7fd046ad8680> triggered tf.function retracing. Tracing is expensive and the excessive number of tracings could be due to (1) creating @tf.function repeatedly in a loop, (2) passing tensors with different shapes, (3) passing Python objects instead of tensors. For (1), please define your @tf.function outside of the loop. For (2), @tf.function has experimental_relax_shapes=True option that relaxes argument shapes that can avoid unnecessary retracing. For (3), please refer to https://www.tensorflow.org/guide/function#controlling_retracing and https://www.tensorflow.org/api_docs/python/tf/function for  more details.\n"
     ]
    },
    {
     "name": "stderr",
     "output_type": "stream",
     "text": [
      "WARNING:tensorflow:11 out of the last 11 calls to <function recreate_function.<locals>.restored_function_body at 0x7fd046ad8680> triggered tf.function retracing. Tracing is expensive and the excessive number of tracings could be due to (1) creating @tf.function repeatedly in a loop, (2) passing tensors with different shapes, (3) passing Python objects instead of tensors. For (1), please define your @tf.function outside of the loop. For (2), @tf.function has experimental_relax_shapes=True option that relaxes argument shapes that can avoid unnecessary retracing. For (3), please refer to https://www.tensorflow.org/guide/function#controlling_retracing and https://www.tensorflow.org/api_docs/python/tf/function for  more details.\n"
     ]
    },
    {
     "name": "stdout",
     "output_type": "stream",
     "text": [
      "WARNING:tensorflow:11 out of the last 11 calls to <function recreate_function.<locals>.restored_function_body at 0x7fd046ad98c0> triggered tf.function retracing. Tracing is expensive and the excessive number of tracings could be due to (1) creating @tf.function repeatedly in a loop, (2) passing tensors with different shapes, (3) passing Python objects instead of tensors. For (1), please define your @tf.function outside of the loop. For (2), @tf.function has experimental_relax_shapes=True option that relaxes argument shapes that can avoid unnecessary retracing. For (3), please refer to https://www.tensorflow.org/guide/function#controlling_retracing and https://www.tensorflow.org/api_docs/python/tf/function for  more details.\n"
     ]
    },
    {
     "name": "stderr",
     "output_type": "stream",
     "text": [
      "WARNING:tensorflow:11 out of the last 11 calls to <function recreate_function.<locals>.restored_function_body at 0x7fd046ad98c0> triggered tf.function retracing. Tracing is expensive and the excessive number of tracings could be due to (1) creating @tf.function repeatedly in a loop, (2) passing tensors with different shapes, (3) passing Python objects instead of tensors. For (1), please define your @tf.function outside of the loop. For (2), @tf.function has experimental_relax_shapes=True option that relaxes argument shapes that can avoid unnecessary retracing. For (3), please refer to https://www.tensorflow.org/guide/function#controlling_retracing and https://www.tensorflow.org/api_docs/python/tf/function for  more details.\n"
     ]
    },
    {
     "name": "stdout",
     "output_type": "stream",
     "text": [
      "Model: \"sequential_18\"\n",
      "_________________________________________________________________\n",
      "Layer (type)                 Output Shape              Param #   \n",
      "=================================================================\n",
      "keras_layer_17 (KerasLayer)  (None, 128)               124642688 \n",
      "_________________________________________________________________\n",
      "reshape_7 (Reshape)          (None, 128, 1)            0         \n",
      "_________________________________________________________________\n",
      "bidirectional_14 (Bidirectio (None, 64)                8704      \n",
      "_________________________________________________________________\n",
      "dense_36 (Dense)             (None, 64)                4160      \n",
      "_________________________________________________________________\n",
      "dense_37 (Dense)             (None, 1)                 65        \n",
      "=================================================================\n",
      "Total params: 124,655,617\n",
      "Trainable params: 12,929\n",
      "Non-trainable params: 124,642,688\n",
      "_________________________________________________________________\n"
     ]
    }
   ],
   "source": [
    "hub_layer = hub.KerasLayer(\"https://tfhub.dev/google/tf2-preview/nnlm-en-dim128/1\", output_shape=[128],\n",
    "                           input_shape=[], dtype=tf.string)\n",
    "model = tf.keras.Sequential([\n",
    "    hub_layer,\n",
    "    tf.keras.layers.Reshape((128, 1)),\n",
    "    tf.keras.layers.Bidirectional(tf.keras.layers.LSTM(32)),\n",
    "    tf.keras.layers.Dense(64, activation='relu'),\n",
    "    tf.keras.layers.Dense(1, activation='sigmoid')\n",
    "])\n",
    "model.compile(loss='binary_crossentropy',optimizer='RMSprop',metrics=['accuracy'])\n",
    "model.summary()"
   ]
  },
  {
   "cell_type": "code",
   "execution_count": null,
   "metadata": {
    "id": "2lssp9OUVt12"
   },
   "outputs": [],
   "source": [
    "num_epochs = 100\n",
    "history = model.fit(X_train, y_train, batch_size=128, epochs=num_epochs, validation_data=(X_test, y_test))"
   ]
  },
  {
   "cell_type": "code",
   "execution_count": null,
   "metadata": {
    "id": "1ofj1SIJV3cu"
   },
   "outputs": [],
   "source": [
    "plot_graphs(history, 'accuracy')\n",
    "plot_graphs(history, 'loss')"
   ]
  },
  {
   "cell_type": "markdown",
   "metadata": {
    "id": "2EDi9qASCC7p"
   },
   "source": [
    "## No Transfer Learning"
   ]
  },
  {
   "cell_type": "code",
   "execution_count": 15,
   "metadata": {
    "id": "XL2Efi0xCC7p"
   },
   "outputs": [],
   "source": [
    "# Preprocess Texts\n",
    "\n",
    "vocab_size = 40000\n",
    "embedding_dim = 16\n",
    "max_length = 400\n",
    "trunc_type=\"post\"\n",
    "oov_tok = \"<OOV>\"\n",
    "\n",
    "tokenizer = Tokenizer(num_words=vocab_size, oov_token=oov_tok)\n",
    "tokenizer.fit_on_texts(X_train)\n",
    "word_index = tokenizer.word_index\n",
    "sequences = tokenizer.texts_to_sequences(X_train)\n",
    "padded = pad_sequences(sequences, maxlen=max_length, truncating=trunc_type)\n",
    "\n",
    "testing_sequences = tokenizer.texts_to_sequences(X_test)\n",
    "testing_padded = pad_sequences(testing_sequences, maxlen=max_length)"
   ]
  },
  {
   "cell_type": "code",
   "execution_count": 16,
   "metadata": {
    "colab": {
     "base_uri": "https://localhost:8080/"
    },
    "id": "X4JoV8CQCC7q",
    "outputId": "b9ea6df3-d219-4c2c-f609-d097fb02c94a"
   },
   "outputs": [
    {
     "data": {
      "text/plain": [
       "39450"
      ]
     },
     "execution_count": 16,
     "metadata": {},
     "output_type": "execute_result"
    }
   ],
   "source": [
    "len(word_index)"
   ]
  },
  {
   "cell_type": "code",
   "execution_count": 17,
   "metadata": {
    "colab": {
     "base_uri": "https://localhost:8080/",
     "height": 52
    },
    "id": "ZRAb2ImZ9C6l",
    "outputId": "764efade-0103-4159-fd80-a429323edf9f"
   },
   "outputs": [
    {
     "data": {
      "text/plain": [
       "'My symptoms are Nausea, Pyrexia. Received vaccine afternoon of 1/19/21. Before going to bed that night, began to have fever and nausea. As of this afternoon (1p) only having  fever, no nausea.'"
      ]
     },
     "execution_count": 17,
     "metadata": {},
     "output_type": "execute_result"
    }
   ],
   "source": [
    "X_train[0]"
   ]
  },
  {
   "cell_type": "code",
   "execution_count": 18,
   "metadata": {
    "colab": {
     "base_uri": "https://localhost:8080/"
    },
    "id": "t0OGEODyrBno",
    "outputId": "45bcd99b-368e-4c18-fa16-1b3d3e720f33"
   },
   "outputs": [
    {
     "data": {
      "text/plain": [
       "array([    0,     0,     0,     0,     0,     0,     0,     0,     0,\n",
       "           0,     0,     0,     0,     0,     0,     0,     0,     0,\n",
       "           0,     0,     0,     0,     0,     0,     0,     0,     0,\n",
       "           0,     0,     0,     0,     0,     0,     0,     0,     0,\n",
       "           0,     0,     0,     0,     0,     0,     0,     0,     0,\n",
       "           0,     0,     0,     0,     0,     0,     0,     0,     0,\n",
       "           0,     0,     0,     0,     0,     0,     0,     0,     0,\n",
       "           0,     0,     0,     0,     0,     0,     0,     0,     0,\n",
       "           0,     0,     0,     0,     0,     0,     0,     0,     0,\n",
       "           0,     0,     0,     0,     0,     0,     0,     0,     0,\n",
       "           0,     0,     0,     0,     0,     0,     0,     0,     0,\n",
       "           0,     0,     0,     0,     0,     0,     0,     0,     0,\n",
       "           0,     0,     0,     0,     0,     0,     0,     0,     0,\n",
       "           0,     0,     0,     0,     0,     0,     0,     0,     0,\n",
       "           0,     0,     0,     0,     0,     0,     0,     0,     0,\n",
       "           0,     0,     0,     0,     0,     0,     0,     0,     0,\n",
       "           0,     0,     0,     0,     0,     0,     0,     0,     0,\n",
       "           0,     0,     0,     0,     0,     0,     0,     0,     0,\n",
       "           0,     0,     0,     0,     0,     0,     0,     0,     0,\n",
       "           0,     0,     0,     0,     0,     0,     0,     0,     0,\n",
       "           0,     0,     0,     0,     0,     0,     0,     0,     0,\n",
       "           0,     0,     0,     0,     0,     0,     0,     0,     0,\n",
       "           0,     0,     0,     0,     0,     0,     0,     0,     0,\n",
       "           0,     0,     0,     0,     0,     0,     0,     0,     0,\n",
       "           0,     0,     0,     0,     0,     0,     0,     0,     0,\n",
       "           0,     0,     0,     0,     0,     0,     0,     0,     0,\n",
       "           0,     0,     0,     0,     0,     0,     0,     0,     0,\n",
       "           0,     0,     0,     0,     0,     0,     0,     0,     0,\n",
       "           0,     0,     0,     0,     0,     0,     0,     0,     0,\n",
       "           0,     0,     0,     0,     0,     0,     0,     0,     0,\n",
       "           0,     0,     0,     0,     0,     0,     0,     0,     0,\n",
       "           0,     0,     0,     0,     0,     0,     0,     0,     0,\n",
       "           0,     0,     0,     0,     0,     0,     0,     0,     0,\n",
       "           0,     0,     0,     0,     0,     0,     0,     0,     0,\n",
       "           0,     0,     0,     0,     0,     0,     0,     0,     0,\n",
       "           0,     0,     0,     0,     0,     0,     0,     0,     0,\n",
       "           0,     0,     0,     0,     0,     0,     0,     0,     0,\n",
       "           0,     0,     0,     0,     0,     0,     0,     0,     0,\n",
       "           0,     0,     0,     0,     0,     0,     0,     0,     0,\n",
       "           0,     0,     0,     0,     0,     0,     0,     0,     0,\n",
       "           0,     0,     0,     0,     0,     0,     9,    11,    12,\n",
       "          52,    79,    29,    17,   723,     4,    49,    25,   111,\n",
       "         352,   407,     6,   389,    31,   178,   244,     6,    75,\n",
       "          45,     3,    52,    46,     4,    34,   723, 10836,   396,\n",
       "         262,    45,    35,    52])"
      ]
     },
     "execution_count": 18,
     "metadata": {},
     "output_type": "execute_result"
    }
   ],
   "source": [
    "padded[0]"
   ]
  },
  {
   "cell_type": "code",
   "execution_count": null,
   "metadata": {
    "id": "L5zVz33torIJ"
   },
   "outputs": [],
   "source": [
    "# Output word_index to json file\n",
    "\n",
    "import json\n",
    "\n",
    "# Data to be written     \n",
    "with open(\"word_index.json\", \"w\") as outfile: \n",
    "    json.dump(word_index, outfile)"
   ]
  },
  {
   "cell_type": "code",
   "execution_count": null,
   "metadata": {
    "id": "ViBsp1WbCC7q"
   },
   "outputs": [],
   "source": [
    "# some inspirations:\n",
    "#     layer = LSTM(64)(layer)\n",
    "#     layer = Dense(256,name='FC1')(layer)\n",
    "#     layer = Activation('relu')(layer)\n",
    "#     layer = Dropout(0.5)(layer)\n",
    "#     layer = Dense(1,name='out_layer')(layer)\n",
    "#     layer = Activation('sigmoid')(layer)"
   ]
  },
  {
   "cell_type": "markdown",
   "metadata": {
    "id": "bmxN8r8m8sKG"
   },
   "source": [
    "### Non-Binary Classification"
   ]
  },
  {
   "cell_type": "code",
   "execution_count": 29,
   "metadata": {
    "colab": {
     "base_uri": "https://localhost:8080/"
    },
    "id": "3BWZhZX68uZl",
    "outputId": "4233d52c-d956-4e2d-9941-fe588bf3ab1b"
   },
   "outputs": [
    {
     "name": "stdout",
     "output_type": "stream",
     "text": [
      "Model: \"sequential\"\n",
      "_________________________________________________________________\n",
      "Layer (type)                 Output Shape              Param #   \n",
      "=================================================================\n",
      "embedding (Embedding)        (None, 400, 16)           640000    \n",
      "_________________________________________________________________\n",
      "bidirectional (Bidirectional (None, 128)               41472     \n",
      "_________________________________________________________________\n",
      "dense (Dense)                (None, 256)               33024     \n",
      "_________________________________________________________________\n",
      "dropout (Dropout)            (None, 256)               0         \n",
      "_________________________________________________________________\n",
      "dense_1 (Dense)              (None, 3)                 771       \n",
      "=================================================================\n",
      "Total params: 715,267\n",
      "Trainable params: 715,267\n",
      "Non-trainable params: 0\n",
      "_________________________________________________________________\n"
     ]
    }
   ],
   "source": [
    "import tensorflow.keras.backend as K\n",
    "\n",
    "def weighted_categorical_crossentropy(weights):\n",
    "    \"\"\"\n",
    "    A weighted version of keras.objectives.categorical_crossentropy\n",
    "\n",
    "    Variables:\n",
    "        weights: numpy array of shape (C,) where C is the number of classes\n",
    "\n",
    "    Usage:\n",
    "        weights = np.array([0.5,2,10]) # Class one at 0.5, class 2 twice the normal weights, class 3 10x.\n",
    "        loss = weighted_categorical_crossentropy(weights)\n",
    "        model.compile(loss=loss,optimizer='adam')\n",
    "    \"\"\"\n",
    "    weights = K.variable(weights)\n",
    "    def loss(y_true, y_pred):\n",
    "        # scale predictions so that the class probas of each sample sum to 1\n",
    "        y_pred /= K.sum(y_pred, axis=-1, keepdims=True)\n",
    "        # clip to prevent NaN's and Inf's\n",
    "        y_pred = K.clip(y_pred, K.epsilon(), 1 - K.epsilon())\n",
    "        # calc\n",
    "        loss = y_true * K.log(y_pred) * weights\n",
    "        loss = -K.sum(loss, -1)\n",
    "        return loss\n",
    "    return loss\n",
    "\n",
    "class TerminateOnBaseline(tf.keras.callbacks.Callback):\n",
    "    def on_epoch_end(self, epoch, logs=None):\n",
    "        logs = logs or {}\n",
    "        acc = logs.get(\"val_accuracy\")\n",
    "        if acc is not None:\n",
    "            if acc >= 0.82:\n",
    "                print('Epoch %d: Reached baseline, terminating training' % (epoch))\n",
    "                self.model.stop_training = True\n",
    "\n",
    "our_weights = np.array([1.0, 0.25, 2.0])\n",
    "awesome_loss = weighted_categorical_crossentropy(our_weights)\n",
    "\n",
    "model = tf.keras.Sequential([\n",
    "    tf.keras.layers.Embedding(vocab_size, embedding_dim, input_length=max_length),\n",
    "    # tf.keras.layers.Bidirectional(tf.keras.layers.LSTM(64, return_sequences=True)),\n",
    "    tf.keras.layers.Bidirectional(tf.keras.layers.LSTM(64)),\n",
    "    tf.keras.layers.Dense(256, activation='relu'),\n",
    "    tf.keras.layers.Dropout(0.5),\n",
    "    tf.keras.layers.Dense(3, activation='sigmoid')\n",
    "])\n",
    "model.compile(loss=awesome_loss,optimizer=tf.keras.optimizers.RMSprop(),metrics=['accuracy'])\n",
    "model.summary()"
   ]
  },
  {
   "cell_type": "code",
   "execution_count": 45,
   "metadata": {
    "colab": {
     "base_uri": "https://localhost:8080/"
    },
    "id": "v2X2RfNn8-vA",
    "outputId": "50c1f011-c1d0-4acb-fda8-b3b316e6724a"
   },
   "outputs": [
    {
     "name": "stdout",
     "output_type": "stream",
     "text": [
      "Epoch 1/10\n",
      "677/677 [==============================] - 34s 45ms/step - loss: 0.6232 - accuracy: 0.7190 - val_loss: 0.4483 - val_accuracy: 0.7835\n",
      "Epoch 2/10\n",
      "677/677 [==============================] - 29s 43ms/step - loss: 0.4112 - accuracy: 0.7857 - val_loss: 0.4025 - val_accuracy: 0.7868\n",
      "Epoch 3/10\n",
      "677/677 [==============================] - 30s 44ms/step - loss: 0.3840 - accuracy: 0.7896 - val_loss: 0.3876 - val_accuracy: 0.7844\n",
      "Epoch 4/10\n",
      "677/677 [==============================] - 30s 44ms/step - loss: 0.3801 - accuracy: 0.7871 - val_loss: 0.3948 - val_accuracy: 0.7879\n",
      "Epoch 5/10\n",
      "677/677 [==============================] - 30s 44ms/step - loss: 0.3678 - accuracy: 0.7929 - val_loss: 0.3962 - val_accuracy: 0.7748\n",
      "Epoch 6/10\n",
      "677/677 [==============================] - 29s 43ms/step - loss: 0.3592 - accuracy: 0.7931 - val_loss: 0.3824 - val_accuracy: 0.7855\n",
      "Epoch 7/10\n",
      "677/677 [==============================] - 29s 43ms/step - loss: 0.3499 - accuracy: 0.7918 - val_loss: 0.4006 - val_accuracy: 0.7774\n",
      "Epoch 8/10\n",
      "677/677 [==============================] - 29s 43ms/step - loss: 0.3450 - accuracy: 0.7984 - val_loss: 0.3913 - val_accuracy: 0.7924\n",
      "Epoch 9/10\n",
      "677/677 [==============================] - 29s 43ms/step - loss: 0.3363 - accuracy: 0.8004 - val_loss: 0.3946 - val_accuracy: 0.7967\n",
      "Epoch 10/10\n",
      "677/677 [==============================] - 29s 43ms/step - loss: 0.3308 - accuracy: 0.8076 - val_loss: 0.3963 - val_accuracy: 0.7961\n"
     ]
    }
   ],
   "source": [
    "num_epochs = 10\n",
    "# history = model.fit(padded, y_train, batch_size=128, epochs=num_epochs, validation_data=(testing_padded, y_test))\n",
    "history = model.fit(padded, y_train, batch_size=128, epochs=num_epochs, validation_data=(testing_padded, y_test), callbacks=[TerminateOnBaseline()])"
   ]
  },
  {
   "cell_type": "code",
   "execution_count": 49,
   "metadata": {
    "colab": {
     "base_uri": "https://localhost:8080/",
     "height": 541
    },
    "id": "81beeq1rHRNP",
    "outputId": "90fbd0bf-3755-4159-80c3-8d5c97b22e3f"
   },
   "outputs": [
    {
     "data": {
      "image/png": "[encoded data removed]",
      "text/plain": [
       "<Figure size 432x288 with 1 Axes>"
      ]
     },
     "metadata": {
      "needs_background": "light",
      "tags": []
     },
     "output_type": "display_data"
    },
    {
     "data": {
      "image/png": "[encoded data removed]",
      "text/plain": [
       "<Figure size 432x288 with 1 Axes>"
      ]
     },
     "metadata": {
      "needs_background": "light",
      "tags": []
     },
     "output_type": "display_data"
    }
   ],
   "source": [
    "plot_graphs(history, 'accuracy')\n",
    "plot_graphs(history, 'loss')"
   ]
  },
  {
   "cell_type": "code",
   "execution_count": 42,
   "metadata": {
    "id": "VMwAU0XzEm16"
   },
   "outputs": [
    {
     "ename": "ValueError",
     "evalue": "Improper config format: {'format': 'layers-model', 'generatedBy': 'keras v2.4.0', 'convertedBy': 'TensorFlow.js Converter v3.6.0', 'modelTopology': {'keras_version': '2.4.0', 'backend': 'tensorflow', 'model_config': {'class_name': 'Sequential', 'config': {'name': 'sequential_6', 'layers': [{'class_name': 'InputLayer', 'config': {'batch_input_shape': [None, 400], 'dtype': 'float32', 'sparse': False, 'ragged': False, 'name': 'embedding_6_input'}}, {'class_name': 'Embedding', 'config': {'name': 'embedding_6', 'trainable': True, 'batch_input_shape': [None, 400], 'dtype': 'float32', 'input_dim': 40000, 'output_dim': 16, 'embeddings_initializer': {'class_name': 'RandomUniform', 'config': {'minval': -0.05, 'maxval': 0.05, 'seed': None}}, 'embeddings_regularizer': None, 'activity_regularizer': None, 'embeddings_constraint': None, 'mask_zero': False, 'input_length': 400}}, {'class_name': 'Bidirectional', 'config': {'name': 'bidirectional_6', 'trainable': True, 'dtype': 'float32', 'layer': {'class_name': 'LSTM', 'config': {'name': 'lstm_6', 'trainable': True, 'dtype': 'float32', 'return_sequences': False, 'return_state': False, 'go_backwards': False, 'stateful': False, 'unroll': False, 'time_major': False, 'units': 64, 'activation': 'tanh', 'recurrent_activation': 'sigmoid', 'use_bias': True, 'kernel_initializer': {'class_name': 'GlorotUniform', 'config': {'seed': None}}, 'recurrent_initializer': {'class_name': 'Orthogonal', 'config': {'gain': 1.0, 'seed': None}}, 'bias_initializer': {'class_name': 'Zeros', 'config': {}}, 'unit_forget_bias': True, 'kernel_regularizer': None, 'recurrent_regularizer': None, 'bias_regularizer': None, 'activity_regularizer': None, 'kernel_constraint': None, 'recurrent_constraint': None, 'bias_constraint': None, 'dropout': 0.0, 'recurrent_dropout': 0.0, 'implementation': 2}}, 'merge_mode': 'concat'}}, {'class_name': 'Dense', 'config': {'name': 'dense_12', 'trainable': True, 'dtype': 'float32', 'units': 256, 'activation': 'relu', 'use_bias': True, 'kernel_initializer': {'class_name': 'GlorotUniform', 'config': {'seed': None}}, 'bias_initializer': {'class_name': 'Zeros', 'config': {}}, 'kernel_regularizer': None, 'bias_regularizer': None, 'activity_regularizer': None, 'kernel_constraint': None, 'bias_constraint': None}}, {'class_name': 'Dropout', 'config': {'name': 'dropout_6', 'trainable': True, 'dtype': 'float32', 'rate': 0.5, 'noise_shape': None, 'seed': None}}, {'class_name': 'Dense', 'config': {'name': 'dense_13', 'trainable': True, 'dtype': 'float32', 'units': 3, 'activation': 'sigmoid', 'use_bias': True, 'kernel_initializer': {'class_name': 'GlorotUniform', 'config': {'seed': None}}, 'bias_initializer': {'class_name': 'Zeros', 'config': {}}, 'kernel_regularizer': None, 'bias_regularizer': None, 'activity_regularizer': None, 'kernel_constraint': None, 'bias_constraint': None}}]}}, 'training_config': {'loss': 'loss', 'metrics': [[{'class_name': 'MeanMetricWrapper', 'config': {'name': 'accuracy', 'dtype': 'float32', 'fn': 'categorical_accuracy'}}]], 'weighted_metrics': None, 'loss_weights': None, 'optimizer_config': {'class_name': 'RMSprop', 'config': {'name': 'RMSprop', 'learning_rate': 0.0010000000474974513, 'decay': 0.0, 'rho': 0.8999999761581421, 'momentum': 0.0, 'epsilon': 1e-07, 'centered': False}}}}, 'weightsManifest': [{'paths': ['group1-shard1of1.bin'], 'weights': [{'name': 'bidirectional_6/forward_lstm_6/lstm_cell_19/kernel', 'shape': [16, 256], 'dtype': 'float32'}, {'name': 'bidirectional_6/forward_lstm_6/lstm_cell_19/recurrent_kernel', 'shape': [64, 256], 'dtype': 'float32'}, {'name': 'bidirectional_6/forward_lstm_6/lstm_cell_19/bias', 'shape': [256], 'dtype': 'float32'}, {'name': 'bidirectional_6/backward_lstm_6/lstm_cell_20/kernel', 'shape': [16, 256], 'dtype': 'float32'}, {'name': 'bidirectional_6/backward_lstm_6/lstm_cell_20/recurrent_kernel', 'shape': [64, 256], 'dtype': 'float32'}, {'name': 'bidirectional_6/backward_lstm_6/lstm_cell_20/bias', 'shape': [256], 'dtype': 'float32'}, {'name': 'dense_12/kernel', 'shape': [128, 256], 'dtype': 'float32'}, {'name': 'dense_12/bias', 'shape': [256], 'dtype': 'float32'}, {'name': 'dense_13/kernel', 'shape': [256, 3], 'dtype': 'float32'}, {'name': 'dense_13/bias', 'shape': [3], 'dtype': 'float32'}, {'name': 'embedding_6/embeddings', 'shape': [40000, 16], 'dtype': 'float32'}]}]}",
     "output_type": "error",
     "traceback": [
      "\u001b[1;31m---------------------------------------------------------------------------\u001b[0m",
      "\u001b[1;31mValueError\u001b[0m                                Traceback (most recent call last)",
      "\u001b[1;32m<ipython-input-42-49082a1b3757>\u001b[0m in \u001b[0;36m<module>\u001b[1;34m\u001b[0m\n\u001b[0;32m      2\u001b[0m \u001b[1;32mimport\u001b[0m \u001b[0mos\u001b[0m\u001b[1;33m\u001b[0m\u001b[1;33m\u001b[0m\u001b[0m\n\u001b[0;32m      3\u001b[0m \u001b[1;33m\u001b[0m\u001b[0m\n\u001b[1;32m----> 4\u001b[1;33m \u001b[0mmodel\u001b[0m \u001b[1;33m=\u001b[0m \u001b[0mtf\u001b[0m\u001b[1;33m.\u001b[0m\u001b[0mkeras\u001b[0m\u001b[1;33m.\u001b[0m\u001b[0mmodels\u001b[0m\u001b[1;33m.\u001b[0m\u001b[0mmodel_from_json\u001b[0m\u001b[1;33m(\u001b[0m\u001b[0mjson\u001b[0m\u001b[1;33m.\u001b[0m\u001b[0mdumps\u001b[0m\u001b[1;33m(\u001b[0m\u001b[0mjson\u001b[0m\u001b[1;33m.\u001b[0m\u001b[0mload\u001b[0m\u001b[1;33m(\u001b[0m\u001b[0mopen\u001b[0m\u001b[1;33m(\u001b[0m\u001b[1;34m\"../models/kipi-ml-v1.2/model.json\"\u001b[0m\u001b[1;33m)\u001b[0m\u001b[1;33m)\u001b[0m\u001b[1;33m)\u001b[0m\u001b[1;33m)\u001b[0m\u001b[1;33m\u001b[0m\u001b[1;33m\u001b[0m\u001b[0m\n\u001b[0m\u001b[0;32m      5\u001b[0m \u001b[0mmodel\u001b[0m\u001b[1;33m.\u001b[0m\u001b[0mload_weights\u001b[0m\u001b[1;33m(\u001b[0m\u001b[0mos\u001b[0m\u001b[1;33m.\u001b[0m\u001b[0mpath\u001b[0m\u001b[1;33m.\u001b[0m\u001b[0mjoin\u001b[0m\u001b[1;33m(\u001b[0m\u001b[0mos\u001b[0m\u001b[1;33m.\u001b[0m\u001b[0mpath\u001b[0m\u001b[1;33m.\u001b[0m\u001b[0mdirname\u001b[0m\u001b[1;33m(\u001b[0m\u001b[0mmodelFile\u001b[0m\u001b[1;33m)\u001b[0m\u001b[1;33m,\u001b[0m \u001b[1;34m'my_model.h5'\u001b[0m\u001b[1;33m)\u001b[0m\u001b[1;33m)\u001b[0m\u001b[1;33m\u001b[0m\u001b[1;33m\u001b[0m\u001b[0m\n\u001b[0;32m      6\u001b[0m \u001b[1;31m# predicted = model.predict(testing_padded)\u001b[0m\u001b[1;33m\u001b[0m\u001b[1;33m\u001b[0m\u001b[1;33m\u001b[0m\u001b[0m\n",
      "\u001b[1;32m~\\Anaconda3\\lib\\site-packages\\tensorflow\\python\\keras\\saving\\model_config.py\u001b[0m in \u001b[0;36mmodel_from_json\u001b[1;34m(json_string, custom_objects)\u001b[0m\n\u001b[0;32m    129\u001b[0m   \u001b[0mconfig\u001b[0m \u001b[1;33m=\u001b[0m \u001b[0mjson\u001b[0m\u001b[1;33m.\u001b[0m\u001b[0mloads\u001b[0m\u001b[1;33m(\u001b[0m\u001b[0mjson_string\u001b[0m\u001b[1;33m)\u001b[0m\u001b[1;33m\u001b[0m\u001b[1;33m\u001b[0m\u001b[0m\n\u001b[0;32m    130\u001b[0m   \u001b[1;32mfrom\u001b[0m \u001b[0mtensorflow\u001b[0m\u001b[1;33m.\u001b[0m\u001b[0mpython\u001b[0m\u001b[1;33m.\u001b[0m\u001b[0mkeras\u001b[0m\u001b[1;33m.\u001b[0m\u001b[0mlayers\u001b[0m \u001b[1;32mimport\u001b[0m \u001b[0mdeserialize\u001b[0m  \u001b[1;31m# pylint: disable=g-import-not-at-top\u001b[0m\u001b[1;33m\u001b[0m\u001b[1;33m\u001b[0m\u001b[0m\n\u001b[1;32m--> 131\u001b[1;33m   \u001b[1;32mreturn\u001b[0m \u001b[0mdeserialize\u001b[0m\u001b[1;33m(\u001b[0m\u001b[0mconfig\u001b[0m\u001b[1;33m,\u001b[0m \u001b[0mcustom_objects\u001b[0m\u001b[1;33m=\u001b[0m\u001b[0mcustom_objects\u001b[0m\u001b[1;33m)\u001b[0m\u001b[1;33m\u001b[0m\u001b[1;33m\u001b[0m\u001b[0m\n\u001b[0m",
      "\u001b[1;32m~\\Anaconda3\\lib\\site-packages\\tensorflow\\python\\keras\\layers\\serialization.py\u001b[0m in \u001b[0;36mdeserialize\u001b[1;34m(config, custom_objects)\u001b[0m\n\u001b[0;32m    175\u001b[0m       \u001b[0mmodule_objects\u001b[0m\u001b[1;33m=\u001b[0m\u001b[0mLOCAL\u001b[0m\u001b[1;33m.\u001b[0m\u001b[0mALL_OBJECTS\u001b[0m\u001b[1;33m,\u001b[0m\u001b[1;33m\u001b[0m\u001b[1;33m\u001b[0m\u001b[0m\n\u001b[0;32m    176\u001b[0m       \u001b[0mcustom_objects\u001b[0m\u001b[1;33m=\u001b[0m\u001b[0mcustom_objects\u001b[0m\u001b[1;33m,\u001b[0m\u001b[1;33m\u001b[0m\u001b[1;33m\u001b[0m\u001b[0m\n\u001b[1;32m--> 177\u001b[1;33m       printable_module_name='layer')\n\u001b[0m",
      "\u001b[1;32m~\\Anaconda3\\lib\\site-packages\\tensorflow\\python\\keras\\utils\\generic_utils.py\u001b[0m in \u001b[0;36mdeserialize_keras_object\u001b[1;34m(identifier, module_objects, custom_objects, printable_module_name)\u001b[0m\n\u001b[0;32m    345\u001b[0m     \u001b[0mconfig\u001b[0m \u001b[1;33m=\u001b[0m \u001b[0midentifier\u001b[0m\u001b[1;33m\u001b[0m\u001b[1;33m\u001b[0m\u001b[0m\n\u001b[0;32m    346\u001b[0m     (cls, cls_config) = class_and_config_for_serialized_keras_object(\n\u001b[1;32m--> 347\u001b[1;33m         config, module_objects, custom_objects, printable_module_name)\n\u001b[0m\u001b[0;32m    348\u001b[0m \u001b[1;33m\u001b[0m\u001b[0m\n\u001b[0;32m    349\u001b[0m     \u001b[1;32mif\u001b[0m \u001b[0mhasattr\u001b[0m\u001b[1;33m(\u001b[0m\u001b[0mcls\u001b[0m\u001b[1;33m,\u001b[0m \u001b[1;34m'from_config'\u001b[0m\u001b[1;33m)\u001b[0m\u001b[1;33m:\u001b[0m\u001b[1;33m\u001b[0m\u001b[1;33m\u001b[0m\u001b[0m\n",
      "\u001b[1;32m~\\Anaconda3\\lib\\site-packages\\tensorflow\\python\\keras\\utils\\generic_utils.py\u001b[0m in \u001b[0;36mclass_and_config_for_serialized_keras_object\u001b[1;34m(config, module_objects, custom_objects, printable_module_name)\u001b[0m\n\u001b[0;32m    289\u001b[0m   if (not isinstance(config, dict) or 'class_name' not in config or\n\u001b[0;32m    290\u001b[0m       'config' not in config):\n\u001b[1;32m--> 291\u001b[1;33m     \u001b[1;32mraise\u001b[0m \u001b[0mValueError\u001b[0m\u001b[1;33m(\u001b[0m\u001b[1;34m'Improper config format: '\u001b[0m \u001b[1;33m+\u001b[0m \u001b[0mstr\u001b[0m\u001b[1;33m(\u001b[0m\u001b[0mconfig\u001b[0m\u001b[1;33m)\u001b[0m\u001b[1;33m)\u001b[0m\u001b[1;33m\u001b[0m\u001b[1;33m\u001b[0m\u001b[0m\n\u001b[0m\u001b[0;32m    292\u001b[0m \u001b[1;33m\u001b[0m\u001b[0m\n\u001b[0;32m    293\u001b[0m   \u001b[0mclass_name\u001b[0m \u001b[1;33m=\u001b[0m \u001b[0mconfig\u001b[0m\u001b[1;33m[\u001b[0m\u001b[1;34m'class_name'\u001b[0m\u001b[1;33m]\u001b[0m\u001b[1;33m\u001b[0m\u001b[1;33m\u001b[0m\u001b[0m\n",
      "\u001b[1;31mValueError\u001b[0m: Improper config format: {'format': 'layers-model', 'generatedBy': 'keras v2.4.0', 'convertedBy': 'TensorFlow.js Converter v3.6.0', 'modelTopology': {'keras_version': '2.4.0', 'backend': 'tensorflow', 'model_config': {'class_name': 'Sequential', 'config': {'name': 'sequential_6', 'layers': [{'class_name': 'InputLayer', 'config': {'batch_input_shape': [None, 400], 'dtype': 'float32', 'sparse': False, 'ragged': False, 'name': 'embedding_6_input'}}, {'class_name': 'Embedding', 'config': {'name': 'embedding_6', 'trainable': True, 'batch_input_shape': [None, 400], 'dtype': 'float32', 'input_dim': 40000, 'output_dim': 16, 'embeddings_initializer': {'class_name': 'RandomUniform', 'config': {'minval': -0.05, 'maxval': 0.05, 'seed': None}}, 'embeddings_regularizer': None, 'activity_regularizer': None, 'embeddings_constraint': None, 'mask_zero': False, 'input_length': 400}}, {'class_name': 'Bidirectional', 'config': {'name': 'bidirectional_6', 'trainable': True, 'dtype': 'float32', 'layer': {'class_name': 'LSTM', 'config': {'name': 'lstm_6', 'trainable': True, 'dtype': 'float32', 'return_sequences': False, 'return_state': False, 'go_backwards': False, 'stateful': False, 'unroll': False, 'time_major': False, 'units': 64, 'activation': 'tanh', 'recurrent_activation': 'sigmoid', 'use_bias': True, 'kernel_initializer': {'class_name': 'GlorotUniform', 'config': {'seed': None}}, 'recurrent_initializer': {'class_name': 'Orthogonal', 'config': {'gain': 1.0, 'seed': None}}, 'bias_initializer': {'class_name': 'Zeros', 'config': {}}, 'unit_forget_bias': True, 'kernel_regularizer': None, 'recurrent_regularizer': None, 'bias_regularizer': None, 'activity_regularizer': None, 'kernel_constraint': None, 'recurrent_constraint': None, 'bias_constraint': None, 'dropout': 0.0, 'recurrent_dropout': 0.0, 'implementation': 2}}, 'merge_mode': 'concat'}}, {'class_name': 'Dense', 'config': {'name': 'dense_12', 'trainable': True, 'dtype': 'float32', 'units': 256, 'activation': 'relu', 'use_bias': True, 'kernel_initializer': {'class_name': 'GlorotUniform', 'config': {'seed': None}}, 'bias_initializer': {'class_name': 'Zeros', 'config': {}}, 'kernel_regularizer': None, 'bias_regularizer': None, 'activity_regularizer': None, 'kernel_constraint': None, 'bias_constraint': None}}, {'class_name': 'Dropout', 'config': {'name': 'dropout_6', 'trainable': True, 'dtype': 'float32', 'rate': 0.5, 'noise_shape': None, 'seed': None}}, {'class_name': 'Dense', 'config': {'name': 'dense_13', 'trainable': True, 'dtype': 'float32', 'units': 3, 'activation': 'sigmoid', 'use_bias': True, 'kernel_initializer': {'class_name': 'GlorotUniform', 'config': {'seed': None}}, 'bias_initializer': {'class_name': 'Zeros', 'config': {}}, 'kernel_regularizer': None, 'bias_regularizer': None, 'activity_regularizer': None, 'kernel_constraint': None, 'bias_constraint': None}}]}}, 'training_config': {'loss': 'loss', 'metrics': [[{'class_name': 'MeanMetricWrapper', 'config': {'name': 'accuracy', 'dtype': 'float32', 'fn': 'categorical_accuracy'}}]], 'weighted_metrics': None, 'loss_weights': None, 'optimizer_config': {'class_name': 'RMSprop', 'config': {'name': 'RMSprop', 'learning_rate': 0.0010000000474974513, 'decay': 0.0, 'rho': 0.8999999761581421, 'momentum': 0.0, 'epsilon': 1e-07, 'centered': False}}}}, 'weightsManifest': [{'paths': ['group1-shard1of1.bin'], 'weights': [{'name': 'bidirectional_6/forward_lstm_6/lstm_cell_19/kernel', 'shape': [16, 256], 'dtype': 'float32'}, {'name': 'bidirectional_6/forward_lstm_6/lstm_cell_19/recurrent_kernel', 'shape': [64, 256], 'dtype': 'float32'}, {'name': 'bidirectional_6/forward_lstm_6/lstm_cell_19/bias', 'shape': [256], 'dtype': 'float32'}, {'name': 'bidirectional_6/backward_lstm_6/lstm_cell_20/kernel', 'shape': [16, 256], 'dtype': 'float32'}, {'name': 'bidirectional_6/backward_lstm_6/lstm_cell_20/recurrent_kernel', 'shape': [64, 256], 'dtype': 'float32'}, {'name': 'bidirectional_6/backward_lstm_6/lstm_cell_20/bias', 'shape': [256], 'dtype': 'float32'}, {'name': 'dense_12/kernel', 'shape': [128, 256], 'dtype': 'float32'}, {'name': 'dense_12/bias', 'shape': [256], 'dtype': 'float32'}, {'name': 'dense_13/kernel', 'shape': [256, 3], 'dtype': 'float32'}, {'name': 'dense_13/bias', 'shape': [3], 'dtype': 'float32'}, {'name': 'embedding_6/embeddings', 'shape': [40000, 16], 'dtype': 'float32'}]}]}"
     ]
    }
   ],
   "source": [
    "# model = model_from_json(open(\"../models/kipi-ml-v1.2/model.json\").read())\n",
    "model.load_weights(os.path.join(os.path.dirname(modelFile), 'my_model.h5'))\n",
    "# predicted = model.predict(testing_padded)\n",
    "# predicted = tf.argmax(predicted, axis=1)\n",
    "# expected = tf.argmax(y_test, axis=1)"
   ]
  },
  {
   "cell_type": "code",
   "execution_count": 51,
   "metadata": {
    "colab": {
     "base_uri": "https://localhost:8080/"
    },
    "id": "1XCvkImJFGPa",
    "outputId": "f0c42edc-d891-4511-85f0-9a8baeff03b7"
   },
   "outputs": [
    {
     "name": "stdout",
     "output_type": "stream",
     "text": [
      "[[13625    71   773]\n",
      " [ 2006   405   953]\n",
      " [  548    61  3196]]\n",
      "[14469, 3364, 3805]\n"
     ]
    },
    {
     "data": {
      "text/plain": [
       "[array([0.94166839, 0.00490704, 0.05342456]),\n",
       " array([0.59631391, 0.12039239, 0.2832937 ]),\n",
       " array([0.14402102, 0.01603154, 0.83994744])]"
      ]
     },
     "execution_count": 51,
     "metadata": {
      "tags": []
     },
     "output_type": "execute_result"
    }
   ],
   "source": [
    "confused_matrix = tf.math.confusion_matrix(expected, predicted).numpy()\n",
    "print(confused_matrix)\n",
    "sum_row = [temp.sum() for temp in confused_matrix]\n",
    "print(sum_row)\n",
    "[confused_matrix[i] / sum_row[i] for i in range(3)]"
   ]
  },
  {
   "cell_type": "code",
   "execution_count": 40,
   "metadata": {
    "id": "WpcPHMdU4H1S"
   },
   "outputs": [],
   "source": [
    "# EXERCISE: Save the trained model as a Keras HDF5 file. \n",
    "saved_model_path = \"./my_model.h5\"\n",
    "\n",
    "# YOUR CODE HERE\n",
    "model.save(saved_model_path)"
   ]
  },
  {
   "cell_type": "code",
   "execution_count": 32,
   "metadata": {
    "colab": {
     "base_uri": "https://localhost:8080/"
    },
    "id": "IUbF_WzJ5IQ0",
    "outputId": "bce767d8-b243-49c5-e0fc-37ad2ef0e0dc"
   },
   "outputs": [],
   "source": [
    "# model = tf.keras.models.load_model(\"../models/kipi-ml-v1.2/my_model.h5\")\n",
    "# model\n",
    "# model.save('my_model')"
   ]
  },
  {
   "cell_type": "code",
   "execution_count": 42,
   "metadata": {
    "colab": {
     "base_uri": "https://localhost:8080/"
    },
    "id": "J7OizTAv5-K5",
    "outputId": "22c9047b-1d72-4e18-cf4a-fe6830aea3ec"
   },
   "outputs": [
    {
     "name": "stdout",
     "output_type": "stream",
     "text": [
      "updating: content/my_model/ (stored 0%)\n",
      "updating: content/my_model/variables/ (stored 0%)\n",
      "updating: content/my_model/variables/variables.data-00000-of-00001 (deflated 9%)\n",
      "updating: content/my_model/variables/variables.index (deflated 65%)\n",
      "updating: content/my_model/saved_model.pb (deflated 90%)\n",
      "updating: content/my_model/assets/ (stored 0%)\n"
     ]
    }
   ],
   "source": [
    "!zip -r /content/my_model.zip /content/my_model"
   ]
  },
  {
   "cell_type": "code",
   "execution_count": 43,
   "metadata": {
    "colab": {
     "base_uri": "https://localhost:8080/"
    },
    "id": "NZdyat_04Ogg",
    "outputId": "a00a6ce5-f746-41f3-9cc9-74dfd8a3a5c3"
   },
   "outputs": [
    {
     "name": "stdout",
     "output_type": "stream",
     "text": [
      "2021-05-18 09:13:01.709070: I tensorflow/stream_executor/platform/default/dso_loader.cc:49] Successfully opened dynamic library libcudart.so.11.0\n"
     ]
    }
   ],
   "source": [
    "saved_model_path = \"./my_model.h5\"\n",
    "!tensorflowjs_converter --input_format=keras {saved_model_path} ./"
   ]
  },
  {
   "cell_type": "markdown",
   "metadata": {
    "id": "FQq34r078pwu"
   },
   "source": [
    "### Binary Classification"
   ]
  },
  {
   "cell_type": "code",
   "execution_count": null,
   "metadata": {
    "colab": {
     "base_uri": "https://localhost:8080/"
    },
    "id": "U6I9nUuPCC7q",
    "outputId": "adbb2994-87fc-45be-94a9-c711d17a8bea"
   },
   "outputs": [
    {
     "name": "stdout",
     "output_type": "stream",
     "text": [
      "Model: \"sequential_20\"\n",
      "_________________________________________________________________\n",
      "Layer (type)                 Output Shape              Param #   \n",
      "=================================================================\n",
      "embedding_2 (Embedding)      (None, 400, 16)           640000    \n",
      "_________________________________________________________________\n",
      "bidirectional_16 (Bidirectio (None, 128)               41472     \n",
      "_________________________________________________________________\n",
      "dense_40 (Dense)             (None, 256)               33024     \n",
      "_________________________________________________________________\n",
      "dropout_15 (Dropout)         (None, 256)               0         \n",
      "_________________________________________________________________\n",
      "dense_41 (Dense)             (None, 1)                 257       \n",
      "=================================================================\n",
      "Total params: 714,753\n",
      "Trainable params: 714,753\n",
      "Non-trainable params: 0\n",
      "_________________________________________________________________\n"
     ]
    }
   ],
   "source": [
    "model = tf.keras.Sequential([\n",
    "    tf.keras.layers.Embedding(vocab_size, embedding_dim, input_length=max_length),\n",
    "    tf.keras.layers.Bidirectional(tf.keras.layers.LSTM(64)),\n",
    "    tf.keras.layers.Dense(256, activation='relu'),\n",
    "    tf.keras.layers.Dropout(0.5),\n",
    "    tf.keras.layers.Dense(1, activation='sigmoid')\n",
    "])\n",
    "model.compile(loss='binary_crossentropy',optimizer='RMSprop',metrics=['accuracy'])\n",
    "model.summary()"
   ]
  },
  {
   "cell_type": "code",
   "execution_count": null,
   "metadata": {
    "colab": {
     "base_uri": "https://localhost:8080/"
    },
    "id": "VeiLplMrCC7r",
    "outputId": "203ec334-8922-4939-c784-07c9f6d21591"
   },
   "outputs": [
    {
     "name": "stdout",
     "output_type": "stream",
     "text": [
      "Epoch 1/10\n",
      "677/677 [==============================] - 34s 45ms/step - loss: 0.5005 - accuracy: 0.7691 - val_loss: 0.4858 - val_accuracy: 0.8031\n",
      "Epoch 2/10\n",
      "677/677 [==============================] - 29s 43ms/step - loss: 0.3803 - accuracy: 0.8412 - val_loss: 0.4021 - val_accuracy: 0.8419\n",
      "Epoch 3/10\n",
      "677/677 [==============================] - 29s 43ms/step - loss: 0.3598 - accuracy: 0.8503 - val_loss: 0.3791 - val_accuracy: 0.8345\n",
      "Epoch 4/10\n",
      "677/677 [==============================] - 29s 43ms/step - loss: 0.3565 - accuracy: 0.8514 - val_loss: 0.3887 - val_accuracy: 0.8223\n",
      "Epoch 5/10\n",
      "677/677 [==============================] - 29s 43ms/step - loss: 0.3464 - accuracy: 0.8569 - val_loss: 0.3853 - val_accuracy: 0.8446\n",
      "Epoch 6/10\n",
      "677/677 [==============================] - 29s 43ms/step - loss: 0.3409 - accuracy: 0.8582 - val_loss: 0.3790 - val_accuracy: 0.8369\n",
      "Epoch 7/10\n",
      "677/677 [==============================] - 29s 43ms/step - loss: 0.3326 - accuracy: 0.8641 - val_loss: 0.3633 - val_accuracy: 0.8453\n",
      "Epoch 8/10\n",
      "677/677 [==============================] - 29s 43ms/step - loss: 0.3217 - accuracy: 0.8675 - val_loss: 0.3851 - val_accuracy: 0.8376\n",
      "Epoch 9/10\n",
      "677/677 [==============================] - 29s 43ms/step - loss: 0.3180 - accuracy: 0.8693 - val_loss: 0.3771 - val_accuracy: 0.8468\n",
      "Epoch 10/10\n",
      "677/677 [==============================] - 29s 43ms/step - loss: 0.3111 - accuracy: 0.8742 - val_loss: 0.3807 - val_accuracy: 0.8437\n"
     ]
    }
   ],
   "source": [
    "num_epochs = 10\n",
    "history = model.fit(padded, y_train, batch_size=128, epochs=num_epochs, validation_data=(testing_padded, y_test))"
   ]
  },
  {
   "cell_type": "code",
   "execution_count": null,
   "metadata": {
    "colab": {
     "base_uri": "https://localhost:8080/",
     "height": 545
    },
    "id": "iM9AGX6zCC7r",
    "outputId": "a8a3b599-1aa6-40f7-d35f-d5600d93f781"
   },
   "outputs": [
    {
     "data": {
      "image/png": "[encoded data removed]",
      "text/plain": [
       "<Figure size 432x288 with 1 Axes>"
      ]
     },
     "metadata": {
      "needs_background": "light",
      "tags": []
     },
     "output_type": "display_data"
    },
    {
     "data": {
      "image/png": "[encoded data removed]",
      "text/plain": [
       "<Figure size 432x288 with 1 Axes>"
      ]
     },
     "metadata": {
      "needs_background": "light",
      "tags": []
     },
     "output_type": "display_data"
    }
   ],
   "source": [
    "plot_graphs(history, 'accuracy')\n",
    "plot_graphs(history, 'loss')"
   ]
  },
  {
   "cell_type": "code",
   "execution_count": null,
   "metadata": {
    "id": "_pF2KWEFcB-f"
   },
   "outputs": [],
   "source": []
  },
  {
   "cell_type": "markdown",
   "metadata": {
    "id": "KptN3ICTCC7r"
   },
   "source": [
    "# Covid 19 Symptoms\n",
    "\n",
    "https://www.who.int/emergencies/diseases/novel-coronavirus-2019/question-and-answers-hub/q-a-detail/coronavirus-disease-covid-19"
   ]
  },
  {
   "cell_type": "code",
   "execution_count": null,
   "metadata": {
    "id": "f5X8oI8OCC7r",
    "outputId": "034a7f27-d61b-45f1-ae62-344c9f433197"
   },
   "outputs": [
    {
     "name": "stdout",
     "output_type": "stream",
     "text": [
      "1.75\n"
     ]
    }
   ],
   "source": [
    "symptoms_list = [\n",
    "    [\"Sesak napas\", \"Kehilangan selera makan\", \"Kebingungan\", \"Nyeri atau tekanan yang terus-menerus di dada\", \"Temperatur tinggi (di atas 38 ° C)\"], # serious symptoms\n",
    "    [\"Demam\", \"Batuk kering\", \"Kelelahan\"], # common_symptoms\n",
    "    [\"Kehilangan rasa atau bau\", \"Hidung tersumbat\", \"Konjungtivitis (juga dikenal sebagai mata merah)\", \"Sakit tenggorokan\", \"Sakit kepala\", \"Nyeri otot atau sendi\", \"Berbagai jenis ruam kulit\", \"Mual atau muntah\", \"Diare\", \"Menggigil atau pusing\"],  # less common symptoms\n",
    "    [\"Iritabilitas\", \"Kebingungan\", \"Kesadaran berkurang (terkadang dikaitkan dengan kejang)\", \"Kecemasan\", \"Depresi\", \"Gangguan tidur\", \"Stroke\", \"Radang otak\", \"Delirium\", \"Kerusakan saraf\"] # lesser common symptoms\n",
    "]\n",
    "symptoms_list = [[x.lower() for x in symptoms] for symptoms in symptoms_list]\n",
    "symptoms_coeff = [1.0, 0.75, 0.5, 0.25]\n",
    "\n",
    "def analyze_symptoms_probability(user_symptoms):\n",
    "    total = 0.0\n",
    "    for symptom in user_symptoms:\n",
    "        for i in range(len(symptoms_list)):\n",
    "            if symptom.lower() in symptoms_list[i]:\n",
    "                total += symptoms_coeff[i]\n",
    "                break\n",
    "    return total\n",
    "\n",
    "print(analyze_symptoms_probability([\"demam\", \"sesak napas\"]))\n",
    "# should be 1.75"
   ]
  },
  {
   "cell_type": "code",
   "execution_count": null,
   "metadata": {
    "id": "APykcWPqCC7s"
   },
   "outputs": [],
   "source": []
  },
  {
   "cell_type": "code",
   "execution_count": null,
   "metadata": {
    "id": "lm8FBCiDCC7s"
   },
   "outputs": [],
   "source": []
  },
  {
   "cell_type": "code",
   "execution_count": null,
   "metadata": {
    "id": "svgcYGu8CC7s"
   },
   "outputs": [],
   "source": []
  },
  {
   "cell_type": "code",
   "execution_count": null,
   "metadata": {
    "id": "h7v_YdAUCC7s"
   },
   "outputs": [],
   "source": []
  },
  {
   "cell_type": "code",
   "execution_count": null,
   "metadata": {
    "id": "YXGToltoCC7s"
   },
   "outputs": [],
   "source": []
  },
  {
   "cell_type": "code",
   "execution_count": null,
   "metadata": {
    "id": "0qgem6SRCC7s"
   },
   "outputs": [],
   "source": []
  }
 ],
 "metadata": {
  "accelerator": "GPU",
  "colab": {
   "collapsed_sections": [],
   "name": "Alghi_Exploration_updated.ipynb",
   "provenance": [],
   "toc_visible": true
  },
  "kernelspec": {
   "display_name": "Python 3",
   "language": "python",
   "name": "python3"
  },
  "language_info": {
   "codemirror_mode": {
    "name": "ipython",
    "version": 3
   },
   "file_extension": ".py",
   "mimetype": "text/x-python",
   "name": "python",
   "nbconvert_exporter": "python",
   "pygments_lexer": "ipython3",
   "version": "3.7.3"
  }
 },
 "nbformat": 4,
 "nbformat_minor": 1
}
